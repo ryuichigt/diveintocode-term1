{
 "cells": [
  {
   "cell_type": "markdown",
   "metadata": {},
   "source": [
    "# 線形回帰"
   ]
  },
  {
   "cell_type": "markdown",
   "metadata": {},
   "source": [
    "# １　前置き"
   ]
  },
  {
   "cell_type": "markdown",
   "metadata": {},
   "source": [
    "本カーネルに入る前により理解を深められるとよう、事前知識の説明です。  \n",
    "\n",
    "最初に、**教師** あり学習とは答えとなるデータ（教師データ、ラベル）と答えを導くためのデータを用意し、答えを元に学習していく機械学習のことを教師あり学習といいます。  \n",
    "また教師あり学習には典型的なものとして**分類問題**と**回帰問題**があります。  \n",
    "「分類問題」とは，データをそれぞれカテゴリに分類するもので，機械学習の代表的な使い道の一つです。  \n",
    "分類問題では，データをどのようなカテゴリーに分けるかは問題を解きたい人が指定します。  \n",
    "したがって学習用のデータには正解カテゴリーがラベルとして割り振られており，それを使って「このカテゴリに属するデータはどのようなものか」を学習します。  \n",
    "一方「回帰問題」とは、株価分析のように、主に数値を扱うときなど連続するデータの予測を行うときなどに使います。  \n",
    "例えば、そのデータの特徴量の傾向をみて(座標上に線を書いて)、具体的な数字を出す（線上から割り出す）、予測するのが回帰と言います。  \n",
    "\n",
    "**教師なし学習**は、学習対象のデータはあるが、それが何かという正解（ラベル）は与えられていないので、どうにかしてなにかしらの構造や法則を見出すための手法です。  \n",
    "推論、分析など、正解がない、正解が解らない問題で学習することを教師なし学習と呼びます。  \n",
    "\n",
    "教師あり学習と教師なし学習を一緒に使う方法もあります。  \n",
    "まずは機械に対して教師あり学習で特徴量を学ばせて、それ以降は教師なし学習で膨大な訓練データを与え、自動的に特徴量を算出させながら繰り返し学習する方法です。これを「半教師あり学習」呼びます。  \n",
    "\n",
    "また他にも機械学習には**強化学習**と呼ばれる手法があります。  \n",
    "強化学習は教師あり学習に似ていますが、(教師データによる)明確な「答え」は提示されません。　　\n",
    "では何が提示されるかというと、「行動の選択肢」と「報酬」になります。  \n",
    "これは教師あり学習と一つ大きな違いがあります。  \n",
    "それは強化学習においての報酬は「各行動」に対してではなく、「連続した行動の結果」に対して与えられるという点です。  \n",
    "強化学習については、いつか学びたく思っております。  \n",
    "\n",
    "\n"
   ]
  },
  {
   "cell_type": "markdown",
   "metadata": {},
   "source": [
    "今回のカーネルの中でフューチャースケーリングを行なっております。  \n",
    "フューチャースケーリングとは特徴の範囲＝スケールを変えることです。  \n",
    "特徴量間でスケールが異なることはよくあります。  \n",
    "その特徴量間のスケールの違いがあると、モデルをうまく学習させることができないことがあります。  \n",
    "そのため、学習前に特徴量間でスケールを揃える必要がありその作業をフューチャースケーリングと言います。  \n",
    "\n",
    "主なフューチャースケーリングの種類として、**正規化**(normalization)と**標準化**(standardization)があります。  \n",
    "正規化とは、特元データを平均0、標準偏差が1のものに変換する正規化法のことをさします。  \n",
    "徴量の値の範囲を一定の範囲におさめる変換になります。  \n",
    "正規化は外れ値がある場合などにも有効で、多く使われています。  \n",
    "\n",
    "標準化とは、特徴量の平均を0、分散を1にする変換になります。  \n",
    "標準化は、最大値と最小値が予め決まっている様な場合には有効な手法ですが、外れ値がある場合は最大値や最小値にひっぱられてしまうため、うまく正規化できません。  \n",
    "\n",
    "\n",
    "\n"
   ]
  },
  {
   "cell_type": "markdown",
   "metadata": {},
   "source": [
    "このカーネルは以下を目的として進めています。\n",
    "\n",
    "・線形回帰を通して、基本的な機械学習のアルゴリズムを学ぶ  \n",
    "・スクラッチを通して、コーディング力を向上させる  \n",
    "・スクラッチを通して、アルゴリズムを理解する。  \n",
    "・基本的な機械学習のキーワードを学習する。  "
   ]
  },
  {
   "cell_type": "markdown",
   "metadata": {},
   "source": [
    "# 2 必要なデータのインポート"
   ]
  },
  {
   "cell_type": "markdown",
   "metadata": {},
   "source": [
    "まずは線形回帰をスクラッチするに当たって、必要なライブラリをインポートしていきます。  "
   ]
  },
  {
   "cell_type": "code",
   "execution_count": 2,
   "metadata": {
    "collapsed": false
   },
   "outputs": [],
   "source": [
    "import numpy as np\n",
    "import matplotlib.pyplot as plt\n",
    "%matplotlib inline\n",
    "import pandas as  pd"
   ]
  },
  {
   "cell_type": "markdown",
   "metadata": {},
   "source": [
    "次に今回使うデータをインポートします"
   ]
  },
  {
   "cell_type": "code",
   "execution_count": 3,
   "metadata": {
    "collapsed": true
   },
   "outputs": [],
   "source": [
    "train = pd.read_csv(\"train.csv\")"
   ]
  },
  {
   "cell_type": "markdown",
   "metadata": {},
   "source": [
    "最初に数値が大きいと、精度が落ちるおそれがある為,正規化か標準化の関数を作ります。  \n",
    "今回は外れ値が存在する為、標準化を採用しました。"
   ]
  },
  {
   "cell_type": "code",
   "execution_count": 4,
   "metadata": {
    "collapsed": true
   },
   "outputs": [],
   "source": [
    "def normalization(X):\n",
    "    norma = (X - X.mean()) / X.std()\n",
    "    return norma"
   ]
  },
  {
   "cell_type": "markdown",
   "metadata": {},
   "source": [
    "インポートしたデータに標準化をかけていきます"
   ]
  },
  {
   "cell_type": "code",
   "execution_count": 5,
   "metadata": {
    "collapsed": false
   },
   "outputs": [],
   "source": [
    "GrLivArea = normalization(train.GrLivArea)\n",
    "SalePrice = normalization(train.SalePrice)\n",
    "YearBuilt = normalization(train.YearBuilt)"
   ]
  },
  {
   "cell_type": "markdown",
   "metadata": {},
   "source": [
    "まずは散布図をプロットしてデータを見て見ましょう"
   ]
  },
  {
   "cell_type": "code",
   "execution_count": 6,
   "metadata": {
    "collapsed": false
   },
   "outputs": [
    {
     "data": {
      "image/png": "[encoded data removed]",
      "text/plain": [
       "<matplotlib.figure.Figure at 0x1156547f0>"
      ]
     },
     "metadata": {},
     "output_type": "display_data"
    }
   ],
   "source": [
    "plt.scatter(GrLivArea,SalePrice)\n",
    "plt.xlabel (\"GrLivArea\")\n",
    "plt.ylabel (\"SalePrice\")\n",
    "plt.show()"
   ]
  },
  {
   "cell_type": "code",
   "execution_count": 7,
   "metadata": {
    "collapsed": false
   },
   "outputs": [
    {
     "data": {
      "image/png": "[encoded data removed]",
      "text/plain": [
       "<matplotlib.figure.Figure at 0x11ab512b0>"
      ]
     },
     "metadata": {},
     "output_type": "display_data"
    }
   ],
   "source": [
    "plt.scatter(GrLivArea,YearBuilt)\n",
    "plt.xlabel (\"GrLivArea\")\n",
    "plt.ylabel (\"YearBuilt\")\n",
    "plt.show()"
   ]
  },
  {
   "cell_type": "markdown",
   "metadata": {},
   "source": [
    "# ３　線形回帰のモデル作成"
   ]
  },
  {
   "cell_type": "markdown",
   "metadata": {},
   "source": [
    "次に今回の説明変数となるデータを作っていきます。"
   ]
  },
  {
   "cell_type": "code",
   "execution_count": 8,
   "metadata": {
    "collapsed": true
   },
   "outputs": [],
   "source": [
    "test = pd.DataFrame([GrLivArea,YearBuilt])"
   ]
  },
  {
   "cell_type": "markdown",
   "metadata": {},
   "source": [
    "次に目的関数（コスト関数）を計算する関数を作成します。  \n",
    "目的関数の一般式は、\n",
    "$$ h_\\theta(x) =  \\theta_0 x_0 + \\theta_1 x_1 + ... +\\theta_n x_n   (x_0 = 1)\\\\ $$\n",
    "\n",
    "\n",
    "$$J(\\theta)=  \\frac{1 }{ 2m}  \\sum_{i=1}^{m} (h_\\theta(x^{(i)})-y^{(i)})^2 $$\n",
    "\n",
    "このようになります。"
   ]
  },
  {
   "cell_type": "code",
   "execution_count": 9,
   "metadata": {
    "collapsed": true
   },
   "outputs": [],
   "source": [
    "# def normalization(X):\n",
    "#     norma = (X - X.mean()) / X.std()\n",
    "#     return norma\n",
    "\n",
    "def compute_cost(X, Y, theta):\n",
    "    h = np.dot(X.T,theta)\n",
    "    j = sum((h - Y)**2)/(len(Y)*2)\n",
    "    return j"
   ]
  },
  {
   "cell_type": "code",
   "execution_count": 10,
   "metadata": {
    "collapsed": false
   },
   "outputs": [],
   "source": [
    "# def gradient_descent(X, y, theta, iterations, alpha):\n",
    "#     \"\"\"\n",
    "#     args:\n",
    "#     alpha: Step size/Learning rate\n",
    "#      iterations: No. of iterations(Number of iterations)\n",
    "#     \"\"\"\n",
    "#     past_costs = []\n",
    "#     past_thetas = []\n",
    "\n",
    "#     J = compute_cost(X,y,theta)\n",
    "#     past_costs.append(J)\n",
    "#     past_thetas.append(theta)\n",
    "    \n",
    "#     for i in range(iterations):\n",
    "#         h = np.dot(X.T,theta)\n",
    "#         f = np.dot(X,(h - y))\n",
    "#         J = alpha/len(y) * f\n",
    "#         theta = theta - J\n",
    "#         past_costs.append(J)\n",
    "#         past_thetas.append(theta)\n",
    "#         print(J,theta)\n",
    "    \n",
    "#     return past_costs,past_thetas\n",
    "\n"
   ]
  },
  {
   "cell_type": "markdown",
   "metadata": {},
   "source": [
    "次に線形回帰のモデルが学習できるよう最急降下法の関数を作っていきます。  \n",
    "最急降下法の一般式はこのようになります。\n",
    "$$ \\theta_j := \\theta_j  −α\\frac{1}{m}\\sum_{i=1}^{m}((h_θ(x_i)−y_i)x_j) $$"
   ]
  },
  {
   "cell_type": "markdown",
   "metadata": {},
   "source": [
    "線形回帰における最急降下法の導出式\n",
    "\n",
    "$$\\theta_j := \\theta_j - \\frac{\\partial}{\\partial \\theta_j}J(\\theta) \\\\\n",
    "式にαを導入し  \n",
    "\\\\\\theta := \\theta_j - \\alpha\\frac{\\partial}{\\partial \\theta_1}J(\\theta) \\\\\n",
    "また\n",
    "\\\\h_\\theta(x) =  \\theta_0 x_0 + \\theta_1 x_1 + ... +\\theta_n x_n   (x_0 = 1)\\\\ \n",
    "J(\\theta)=  \\frac{1 }{ 2m}  \\sum_{i=1}^{m} (h_\\theta(x^{(i)})-y^{(i)})^2 \n",
    "\\\\であることから\n",
    "\\\\\\theta := \\theta_j - \\alpha\\frac{1 }{ 2m}  \\sum_{i=1}^{m} (h_\\theta(x^{(i)})-y^{(i)})^2 \n",
    "\\\\乗計算を微分し\n",
    "\\\\\\theta := \\theta_j - \\alpha\\frac{1 }{ m}  \\sum_{i=1}^{m} (h_\\theta(x^{(i)})-y^{(i)})x^{(i)})\n",
    "\\\\となります\n",
    "$$\n"
   ]
  },
  {
   "cell_type": "markdown",
   "metadata": {},
   "source": [
    "最急降下方方で進む方向を決めるときには、勾配の情報を使います。  \n",
    "つまり、今いる点の近傍の情報しか使いません。  \n",
    "よって、最急降下法は谷が複数ある場合、本当の最適解ではなく、局所解に収束してしまうことがあります。  \n",
    "ですが目的関数はh(x) の中身がθゼロとθワンに依存することを考えると、結局その2変数(二元)の二次関数になりますから、それは3次元空間のなかで、茶碗のような形状になります。  \n",
    "そのボウルは極小値 = 最小値となる、局所最適解が最適解になることが保証されています。\n"
   ]
  },
  {
   "cell_type": "code",
   "execution_count": 11,
   "metadata": {
    "collapsed": true
   },
   "outputs": [],
   "source": [
    "def gradient_descent2(X, y, theta, iterations, alpha):\n",
    "    \"\"\"\n",
    "    args:\n",
    "    alpha: Step size/Learning rate\n",
    "     iterations: No. of iterations(Number of iterations)\n",
    "    \"\"\"\n",
    "    past_costs = []\n",
    "    past_thetas = []\n",
    "\n",
    "    J = compute_cost(X,y,theta)\n",
    "    past_costs.append(J)\n",
    "    past_thetas.append(theta)\n",
    "    \n",
    "    for i in range(iterations):\n",
    "        h = np.dot(X.T, theta)\n",
    "        theta = theta - (alpha/len(y)) * np.dot(X, h - y)\n",
    "        J = compute_cost(X,y,theta)\n",
    "        past_costs.append(J)\n",
    "        past_thetas.append(theta)\n",
    "        print(J,theta)\n",
    "    \n",
    "    return past_costs,past_thetas"
   ]
  },
  {
   "cell_type": "code",
   "execution_count": 12,
   "metadata": {
    "collapsed": false,
    "scrolled": true
   },
   "outputs": [
    {
     "name": "stdout",
     "output_type": "stream",
     "text": [
      "1.333146722691704 [0.93110772 1.83250356]\n",
      "1.0901631933231672 [0.87243102 1.68311538]\n",
      "0.8990913447937338 [0.82258889 1.54982271]\n",
      "0.7486710536742546 [0.7803784  1.43084141]\n",
      "0.630112100217889 [0.7447523  1.32458954]\n",
      "0.5365480099786589 [0.71479943 1.22966408]\n",
      "0.46261135717649227 [0.68972761 1.14482036]\n",
      "0.40410340919044313 [0.66884857 1.0689538 ]\n",
      "0.3577370640699033 [0.65156478 1.00108394]\n",
      "0.3209367431654916 [0.63735795 0.94034014]\n",
      "0.2916825549170704 [0.62577886 0.8859491 ]\n",
      "0.2683888807101032 [0.61643857 0.83722371]\n",
      "0.24980973341252977 [0.6090007  0.79355328]\n",
      "0.23496494629138753 [0.60317459 0.75439482]\n",
      "0.2230825750069048 [0.59870945 0.71926539]\n",
      "0.21355392398697887 [0.59538914 0.68773529]\n",
      "0.20589840714530236 [0.5930277  0.65942208]\n",
      "0.1997360731505739 [0.59146531 0.63398521]\n",
      "0.19476610724439972 [0.59056492 0.61112136]\n",
      "0.19074999593676176 [0.59020921 0.59056024]\n",
      "0.1874983318228575 [0.59029795 0.57206089]\n",
      "0.18486046191550484 [0.59074573 0.55540844]\n",
      "0.18271635874452838 [0.59147993 0.5404112 ]\n",
      "0.18097023026816114 [0.59243902 0.52689805]\n",
      "0.1795454910867418 [0.59357101 0.51471621]\n",
      "0.17838080031070597 [0.59483214 0.50372922]\n",
      "0.17742693596507153 [0.59618575 0.49381509]\n",
      "0.17664432608945474 [0.59760125 0.48486477]\n",
      "0.17600109588347457 [0.5990533  0.47678072]\n",
      "0.17547152081273962 [0.60052101 0.46947565]\n",
      "0.17503479944236136 [0.60198733 0.46287139]\n",
      "0.17467407838904933 [0.60343846 0.45689795]\n",
      "0.17437567633466566 [0.60486337 0.45149258]\n",
      "0.17412846542203855 [0.60625339 0.44659904]\n",
      "0.17392337725687787 [0.60760182 0.44216688]\n",
      "0.1737530077117727 [0.60890364 0.43815081]\n",
      "0.1736113001929392 [0.61015524 0.43451018]\n",
      "0.17349329131756247 [0.61135417 0.43120848]\n",
      "0.17339490631624574 [0.61249895 0.42821287]\n",
      "0.17331279412164177 [0.6135889  0.42549386]\n",
      "0.17324419418717404 [0.61462401 0.42302488]\n",
      "0.17318682872081254 [0.61560478 0.42078205]\n",
      "0.17313881531348577 [0.61653214 0.41874384]\n",
      "0.17309859596436092 [0.61740736 0.41689087]\n",
      "0.1730648793141239 [0.61823198 0.41520567]\n",
      "0.1730365935381797 [0.6190077  0.41367247]\n",
      "0.17301284786003152 [0.61973639 0.41227706]\n",
      "0.17299290104902348 [0.62042002 0.4110066 ]\n",
      "0.17297613558809904 [0.6210606 0.4098495]\n",
      "0.17296203645350755 [0.62166017 0.4087953 ]\n",
      "0.17295017365305523 [0.62222079 0.40783452]\n",
      "0.17294018783323362 [0.6227445 0.4069586]\n",
      "0.1729317783967812 [0.62323329 0.4061598 ]\n",
      "0.17292469367763236 [0.62368912 0.40543111]\n",
      "0.17291872280495574 [0.62411389 0.40476617]\n",
      "0.17291368895635026 [0.62450944 0.40415923]\n",
      "0.17290944375543177 [0.62487753 0.40360507]\n",
      "0.1729058626137179 [0.62521986 0.40309898]\n",
      "0.17290284085291968 [0.62553804 0.40263665]\n",
      "0.1729002904731628 [0.62583362 0.40221419]\n",
      "0.17289813745661736 [0.62610807 0.40182807]\n",
      "0.17289631951551368 [0.62636276 0.40147508]\n",
      "0.17289478420949836 [0.62659903 0.4011523 ]\n",
      "0.17289348737032914 [0.6268181  0.40085708]\n",
      "0.17289239178261934 [0.62702116 0.400587  ]\n",
      "0.17289146607813669 [0.62720929 0.40033987]\n",
      "0.1728906838084043 [0.62738354 0.4001137 ]\n",
      "0.17289002266631326 [0.62754487 0.39990666]\n",
      "0.1728894638323855 [0.6276942  0.39971711]\n",
      "0.17288899142539804 [0.62783237 0.39954352]\n",
      "0.1728885920404534 [0.62796019 0.39938454]\n",
      "0.1728882543603765 [0.6280784 0.3992389]\n",
      "0.17288796882864393 [0.62818769 0.39910547]\n",
      "0.17288772737398211 [0.62828871 0.39898319]\n",
      "0.17288752317837183 [0.62838207 0.39887113]\n",
      "0.17288735048155374 [0.62846833 0.3987684 ]\n",
      "0.1728872044162262 [0.62854801 0.39867423]\n",
      "0.17288708086907695 [0.6286216  0.39858788]\n",
      "0.17288697636356187 [0.62868956 0.3985087 ]\n",
      "0.17288688796100438 [0.6287523  0.39843608]\n",
      "0.17288681317712543 [0.62881021 0.39836947]\n",
      "0.17288674991158628 [0.62886366 0.39830837]\n",
      "0.1728866963884981 [0.62891299 0.3982523 ]\n",
      "0.1728866511061865 [0.6289585  0.39820086]\n",
      "0.17288661279475484 [0.62900048 0.39815366]\n",
      "0.17288658038024393 [0.62903921 0.39811033]\n",
      "0.1728865529543404 [0.62907493 0.39807057]\n",
      "0.17288652974878907 [0.62910787 0.39803407]\n",
      "0.17288651011376005 [0.62913825 0.39800056]\n",
      "0.17288649349957128 [0.62916625 0.3979698 ]\n",
      "0.17288647944123067 [0.62919207 0.39794155]\n",
      "0.17288646754537706 [0.62921587 0.39791561]\n",
      "0.17288645747922948 [0.62923781 0.39789179]\n",
      "0.17288644896124963 [0.62925803 0.39786992]\n",
      "0.17288644175324583 [0.62927666 0.39784983]\n",
      "0.17288643565369144 [0.62929384 0.39783137]\n",
      "0.17288643049207764 [0.62930966 0.39781442]\n",
      "0.17288642612413566 [0.62932424 0.39779885]\n",
      "0.1728864224277971 [0.62933767 0.39778455]\n",
      "0.17288641929977355 [0.62935004 0.3977714 ]\n"
     ]
    }
   ],
   "source": [
    "cost,theta = gradient_descent2(test, SalePrice, np.array([1,2]), 100, 0.1)"
   ]
  },
  {
   "cell_type": "code",
   "execution_count": 13,
   "metadata": {
    "collapsed": false
   },
   "outputs": [],
   "source": [
    "# compute_cost(test, YearBuilt, np.array([1,2]))"
   ]
  },
  {
   "cell_type": "markdown",
   "metadata": {
    "collapsed": false
   },
   "source": [
    "今回作ったモデルを使いやすいようにクラス化していきます。"
   ]
  },
  {
   "cell_type": "code",
   "execution_count": 14,
   "metadata": {
    "collapsed": false
   },
   "outputs": [],
   "source": [
    "class LinearModel():\n",
    "\n",
    "    def __init__(self,train, target, theta, iterations, alpha):\n",
    "        self.train = train\n",
    "        self.target = target\n",
    "        self.theta = theta\n",
    "        self.iterations = iterations\n",
    "        self.alpha = alpha\n",
    "    \n",
    "#     def compute_cost(self):\n",
    "#         h = np.dot(self.train.T,theta)\n",
    "#         j = sum((h - self.target)**2)/(len(self.target)*2)\n",
    "#         return j\n",
    "    def compute_cost(train,test,theta):\n",
    "        h = np.dot(train.T,theta)\n",
    "        j = sum((h - target)**2)/(len(target)*2)\n",
    "        return j\n",
    "\n",
    "    def gradient_descent(self):\n",
    "        \n",
    "        \"\"\"\n",
    "        args:\n",
    "        alpha: Step size/Learning rate\n",
    "         iterations: No. of iterations(Number of iterations)\n",
    "        \"\"\"\n",
    "        past_costs = []\n",
    "        past_thetas = []\n",
    "\n",
    "        J = compute_cost(self.train,self.target,self.theta)\n",
    "        #J = self.compute_cost()\n",
    "        past_costs.append(J)\n",
    "        past_thetas.append(self.theta)\n",
    "    \n",
    "        for i in range(self.iterations):\n",
    "            h = np.dot(self.train.T, self.theta)\n",
    "            self.theta = self.theta - (self.alpha/len(self.target)) * np.dot(self.train, h - self.target)\n",
    "            J = compute_cost(self.train,self.target,self.theta)\n",
    "            past_costs.append(J)\n",
    "            past_thetas.append(self.theta)\n",
    "    \n",
    "        self.cost = past_costs\n",
    "        self.theta = past_thetas\n",
    "        return past_costs,past_thetas\n",
    "        \n",
    "    def plot_learning_curve(self):\n",
    "        cost,theta = lm.gradient_descent()\n",
    "        return pd.DataFrame(cost).plot.line()\n",
    "        \n"
   ]
  },
  {
   "cell_type": "markdown",
   "metadata": {},
   "source": [
    "最後にこの作ったモデルで学習し、学習曲線を描写していきます"
   ]
  },
  {
   "cell_type": "markdown",
   "metadata": {},
   "source": [
    "学習をする際に学習率という値を決める必要がありまあす。  \n",
    "学習率は降りる時の歩幅にあたります。  \n",
    "あまり大きな歩幅で降りようとすると、底を通りこして、逆側の斜面に足を運んでしまうことになります。  \n",
    "こうなると悪いときにはいつまでたっても底にたどり着かなくなってしまいます(= 収束しなくなる)  \n",
    "このようなことをオーバーフィッティング（Overfitting）と言います。  \n",
    "一方で、あまりにも小さな歩幅では、なんどもなんども歩かなければ底にたどりつきません。これは大量の計算回数を必要としてしまうということを意味しています。  \n",
    "このことをアンダーフィッティング(Underfitting)と言います。\n"
   ]
  },
  {
   "cell_type": "code",
   "execution_count": 15,
   "metadata": {
    "collapsed": false
   },
   "outputs": [],
   "source": [
    "lm = LinearModel(test, SalePrice, np.array([1,2]), 300, 0.01)"
   ]
  },
  {
   "cell_type": "code",
   "execution_count": 16,
   "metadata": {
    "collapsed": false
   },
   "outputs": [],
   "source": [
    "#cost,theta = lm.gradient_descent()"
   ]
  },
  {
   "cell_type": "code",
   "execution_count": 17,
   "metadata": {
    "collapsed": false
   },
   "outputs": [],
   "source": [
    "#pd.DataFrame(cost).plot.line()"
   ]
  },
  {
   "cell_type": "markdown",
   "metadata": {},
   "source": [
    "この学習曲線は、学習の進行過程を数量的にグラフに示したものです。  \n",
    "普通横軸に試行回数，試行時間などをとります。  \n",
    "学習曲線は、その学習過程や過学習を起こしていないかなどモデルの精度や汎用性などを確認することができます。"
   ]
  },
  {
   "cell_type": "code",
   "execution_count": 18,
   "metadata": {
    "collapsed": false
   },
   "outputs": [
    {
     "data": {
      "image/png": "[encoded data removed]",
      "text/plain": [
       "<matplotlib.figure.Figure at 0x11cbe6630>"
      ]
     },
     "metadata": {},
     "output_type": "display_data"
    }
   ],
   "source": [
    "cost = lm.plot_learning_curve()"
   ]
  },
  {
   "cell_type": "code",
   "execution_count": 19,
   "metadata": {
    "collapsed": false
   },
   "outputs": [
    {
     "name": "stderr",
     "output_type": "stream",
     "text": [
      "/Users/ishikawaryuuichi/.pyenv/versions/anaconda3-4.3.0/lib/python3.6/site-packages/sklearn/model_selection/_split.py:2026: FutureWarning: From version 0.21, test_size will always complement train_size unless both are specified.\n",
      "  FutureWarning)\n"
     ]
    }
   ],
   "source": [
    "from sklearn.model_selection import train_test_split\n",
    "X_train, X_val, y_train, y_val = train_test_split(test.T, SalePrice, train_size=0.8, random_state=1)"
   ]
  },
  {
   "cell_type": "code",
   "execution_count": 92,
   "metadata": {
    "collapsed": true
   },
   "outputs": [],
   "source": [
    "lm = LinearModel(X_train.T, y_train, np.array([0.1,0.2]), 50, 0.1)"
   ]
  },
  {
   "cell_type": "code",
   "execution_count": 93,
   "metadata": {
    "collapsed": false
   },
   "outputs": [],
   "source": [
    "Xcost,Xtheta = lm.gradient_descent()"
   ]
  },
  {
   "cell_type": "code",
   "execution_count": 84,
   "metadata": {
    "collapsed": true
   },
   "outputs": [],
   "source": [
    "#lm = LinearModel(X_val.T, y_val, np.array([1,2]), 100, 0.01)"
   ]
  },
  {
   "cell_type": "code",
   "execution_count": 95,
   "metadata": {
    "collapsed": false
   },
   "outputs": [],
   "source": [
    "testcos = []\n",
    "for i in Xtheta:\n",
    "    testcos.append(compute_cost(X_val.T,y_val.T , i))\n",
    "    "
   ]
  },
  {
   "cell_type": "code",
   "execution_count": 96,
   "metadata": {
    "collapsed": false
   },
   "outputs": [
    {
     "data": {
      "text/plain": [
       "<matplotlib.legend.Legend at 0x12086d390>"
      ]
     },
     "execution_count": 96,
     "metadata": {},
     "output_type": "execute_result"
    },
    {
     "data": {
      "image/png": "[encoded data removed]",
      "text/plain": [
       "<matplotlib.figure.Figure at 0x120a14160>"
      ]
     },
     "metadata": {},
     "output_type": "display_data"
    }
   ],
   "source": [
    "x_d = range(1, 52)\n",
    "plt.scatter(x_d,Xcost,label = \"val loss\")\n",
    "plt.scatter(x_d,testcos,label = \"loss\")\n",
    "\n",
    "plt.legend()"
   ]
  },
  {
   "cell_type": "markdown",
   "metadata": {},
   "source": [
    "thetaを求める方法として、最急降下法を使用するのではなく、正規方程式を使用する方法があります。  \n",
    "今回は最急降下法を使用しましたが、メリットとデメリットがあります。  \n",
    "最急降下法のメリットはフィーチャーが増えても遅くなりにくいことが挙げられます。  \n",
    "逆にデメリットとして学習率αを調整する必要があり、 αを異なる値で走らせなおして適切な値を見つける必要があります。  \n",
    "したがって繰り返しが必要で結果を得るのに遅くなる可能性があることです。  \n",
    "また正規方程式のメリットは学習率を選ぶ必要が無く、 繰り返しが不要という点です。  \n",
    "デメリットはフィーチャーが多くなると計算量が増え遅くなります。\n",
    "例えば、行列の次元の三乗で遅くなるといった点です。"
   ]
  },
  {
   "cell_type": "markdown",
   "metadata": {},
   "source": [
    "これで今カーネルは以上となります。  \n",
    "今回は線形回帰のスクラッチを行なってきました。  \n",
    "普段なんとなく使っていたモデルの中身が知れてとても勉強になりました。"
   ]
  },
  {
   "cell_type": "code",
   "execution_count": 91,
   "metadata": {
    "collapsed": false
   },
   "outputs": [
    {
     "data": {
      "text/html": [
       "<div>\n",
       "<style scoped>\n",
       "    .dataframe tbody tr th:only-of-type {\n",
       "        vertical-align: middle;\n",
       "    }\n",
       "\n",
       "    .dataframe tbody tr th {\n",
       "        vertical-align: top;\n",
       "    }\n",
       "\n",
       "    .dataframe thead th {\n",
       "        text-align: right;\n",
       "    }\n",
       "</style>\n",
       "<table border=\"1\" class=\"dataframe\">\n",
       "  <thead>\n",
       "    <tr style=\"text-align: right;\">\n",
       "      <th></th>\n",
       "      <th>GrLivArea</th>\n",
       "      <th>YearBuilt</th>\n",
       "    </tr>\n",
       "  </thead>\n",
       "  <tbody>\n",
       "    <tr>\n",
       "      <th>921</th>\n",
       "      <td>1.302687</td>\n",
       "      <td>-2.359634</td>\n",
       "    </tr>\n",
       "    <tr>\n",
       "      <th>520</th>\n",
       "      <td>-0.421450</td>\n",
       "      <td>-2.359634</td>\n",
       "    </tr>\n",
       "    <tr>\n",
       "      <th>401</th>\n",
       "      <td>-0.391002</td>\n",
       "      <td>1.116853</td>\n",
       "    </tr>\n",
       "    <tr>\n",
       "      <th>280</th>\n",
       "      <td>0.887828</td>\n",
       "      <td>0.587102</td>\n",
       "    </tr>\n",
       "    <tr>\n",
       "      <th>1401</th>\n",
       "      <td>0.147553</td>\n",
       "      <td>1.083743</td>\n",
       "    </tr>\n",
       "    <tr>\n",
       "      <th>131</th>\n",
       "      <td>1.024846</td>\n",
       "      <td>0.951306</td>\n",
       "    </tr>\n",
       "    <tr>\n",
       "      <th>808</th>\n",
       "      <td>-0.817278</td>\n",
       "      <td>-0.174414</td>\n",
       "    </tr>\n",
       "    <tr>\n",
       "      <th>1249</th>\n",
       "      <td>-1.003774</td>\n",
       "      <td>-0.704164</td>\n",
       "    </tr>\n",
       "    <tr>\n",
       "      <th>1083</th>\n",
       "      <td>-0.503280</td>\n",
       "      <td>-0.240633</td>\n",
       "    </tr>\n",
       "    <tr>\n",
       "      <th>613</th>\n",
       "      <td>-0.752576</td>\n",
       "      <td>1.183071</td>\n",
       "    </tr>\n",
       "    <tr>\n",
       "      <th>215</th>\n",
       "      <td>-0.531825</td>\n",
       "      <td>-0.472399</td>\n",
       "    </tr>\n",
       "    <tr>\n",
       "      <th>135</th>\n",
       "      <td>0.316922</td>\n",
       "      <td>-0.041976</td>\n",
       "    </tr>\n",
       "    <tr>\n",
       "      <th>634</th>\n",
       "      <td>-0.874369</td>\n",
       "      <td>0.289118</td>\n",
       "    </tr>\n",
       "    <tr>\n",
       "      <th>446</th>\n",
       "      <td>0.708944</td>\n",
       "      <td>-0.174414</td>\n",
       "    </tr>\n",
       "    <tr>\n",
       "      <th>625</th>\n",
       "      <td>-0.760188</td>\n",
       "      <td>-0.306852</td>\n",
       "    </tr>\n",
       "    <tr>\n",
       "      <th>298</th>\n",
       "      <td>0.433006</td>\n",
       "      <td>-0.108195</td>\n",
       "    </tr>\n",
       "    <tr>\n",
       "      <th>1336</th>\n",
       "      <td>0.267443</td>\n",
       "      <td>0.057352</td>\n",
       "    </tr>\n",
       "    <tr>\n",
       "      <th>525</th>\n",
       "      <td>-0.474735</td>\n",
       "      <td>1.116853</td>\n",
       "    </tr>\n",
       "    <tr>\n",
       "      <th>629</th>\n",
       "      <td>-0.314881</td>\n",
       "      <td>-0.240633</td>\n",
       "    </tr>\n",
       "    <tr>\n",
       "      <th>1283</th>\n",
       "      <td>0.587151</td>\n",
       "      <td>-0.008867</td>\n",
       "    </tr>\n",
       "    <tr>\n",
       "      <th>711</th>\n",
       "      <td>-0.642200</td>\n",
       "      <td>-2.359634</td>\n",
       "    </tr>\n",
       "    <tr>\n",
       "      <th>776</th>\n",
       "      <td>0.187517</td>\n",
       "      <td>1.116853</td>\n",
       "    </tr>\n",
       "    <tr>\n",
       "      <th>195</th>\n",
       "      <td>-0.113161</td>\n",
       "      <td>0.156680</td>\n",
       "    </tr>\n",
       "    <tr>\n",
       "      <th>1325</th>\n",
       "      <td>-1.369154</td>\n",
       "      <td>-1.631228</td>\n",
       "    </tr>\n",
       "    <tr>\n",
       "      <th>1289</th>\n",
       "      <td>0.864992</td>\n",
       "      <td>1.149962</td>\n",
       "    </tr>\n",
       "    <tr>\n",
       "      <th>1106</th>\n",
       "      <td>-0.139803</td>\n",
       "      <td>0.620212</td>\n",
       "    </tr>\n",
       "    <tr>\n",
       "      <th>1429</th>\n",
       "      <td>-0.143609</td>\n",
       "      <td>0.322227</td>\n",
       "    </tr>\n",
       "    <tr>\n",
       "      <th>598</th>\n",
       "      <td>0.250316</td>\n",
       "      <td>0.189789</td>\n",
       "    </tr>\n",
       "    <tr>\n",
       "      <th>1188</th>\n",
       "      <td>0.275056</td>\n",
       "      <td>1.017524</td>\n",
       "    </tr>\n",
       "    <tr>\n",
       "      <th>1071</th>\n",
       "      <td>0.077141</td>\n",
       "      <td>-0.108195</td>\n",
       "    </tr>\n",
       "    <tr>\n",
       "      <th>...</th>\n",
       "      <td>...</td>\n",
       "      <td>...</td>\n",
       "    </tr>\n",
       "    <tr>\n",
       "      <th>141</th>\n",
       "      <td>0.415879</td>\n",
       "      <td>1.116853</td>\n",
       "    </tr>\n",
       "    <tr>\n",
       "      <th>1110</th>\n",
       "      <td>0.271250</td>\n",
       "      <td>0.785759</td>\n",
       "    </tr>\n",
       "    <tr>\n",
       "      <th>753</th>\n",
       "      <td>1.108579</td>\n",
       "      <td>1.116853</td>\n",
       "    </tr>\n",
       "    <tr>\n",
       "      <th>1001</th>\n",
       "      <td>-1.568971</td>\n",
       "      <td>-1.697446</td>\n",
       "    </tr>\n",
       "    <tr>\n",
       "      <th>1239</th>\n",
       "      <td>-0.059876</td>\n",
       "      <td>1.149962</td>\n",
       "    </tr>\n",
       "    <tr>\n",
       "      <th>580</th>\n",
       "      <td>-0.164542</td>\n",
       "      <td>-0.373070</td>\n",
       "    </tr>\n",
       "    <tr>\n",
       "      <th>562</th>\n",
       "      <td>-0.988550</td>\n",
       "      <td>-1.035258</td>\n",
       "    </tr>\n",
       "    <tr>\n",
       "      <th>398</th>\n",
       "      <td>-0.834405</td>\n",
       "      <td>-1.697446</td>\n",
       "    </tr>\n",
       "    <tr>\n",
       "      <th>668</th>\n",
       "      <td>-0.149318</td>\n",
       "      <td>-0.505508</td>\n",
       "    </tr>\n",
       "    <tr>\n",
       "      <th>252</th>\n",
       "      <td>0.236995</td>\n",
       "      <td>1.083743</td>\n",
       "    </tr>\n",
       "    <tr>\n",
       "      <th>907</th>\n",
       "      <td>1.030555</td>\n",
       "      <td>-1.167696</td>\n",
       "    </tr>\n",
       "    <tr>\n",
       "      <th>468</th>\n",
       "      <td>0.225577</td>\n",
       "      <td>1.149962</td>\n",
       "    </tr>\n",
       "    <tr>\n",
       "      <th>914</th>\n",
       "      <td>-0.554661</td>\n",
       "      <td>1.249290</td>\n",
       "    </tr>\n",
       "    <tr>\n",
       "      <th>357</th>\n",
       "      <td>-0.710709</td>\n",
       "      <td>0.156680</td>\n",
       "    </tr>\n",
       "    <tr>\n",
       "      <th>1278</th>\n",
       "      <td>0.981076</td>\n",
       "      <td>1.017524</td>\n",
       "    </tr>\n",
       "    <tr>\n",
       "      <th>1300</th>\n",
       "      <td>0.889731</td>\n",
       "      <td>0.918196</td>\n",
       "    </tr>\n",
       "    <tr>\n",
       "      <th>1202</th>\n",
       "      <td>-0.318687</td>\n",
       "      <td>-1.531899</td>\n",
       "    </tr>\n",
       "    <tr>\n",
       "      <th>1305</th>\n",
       "      <td>0.259831</td>\n",
       "      <td>1.149962</td>\n",
       "    </tr>\n",
       "    <tr>\n",
       "      <th>1414</th>\n",
       "      <td>0.632823</td>\n",
       "      <td>-1.598118</td>\n",
       "    </tr>\n",
       "    <tr>\n",
       "      <th>508</th>\n",
       "      <td>-0.261596</td>\n",
       "      <td>-1.432571</td>\n",
       "    </tr>\n",
       "    <tr>\n",
       "      <th>749</th>\n",
       "      <td>0.025760</td>\n",
       "      <td>-0.869711</td>\n",
       "    </tr>\n",
       "    <tr>\n",
       "      <th>129</th>\n",
       "      <td>-0.880078</td>\n",
       "      <td>-0.439289</td>\n",
       "    </tr>\n",
       "    <tr>\n",
       "      <th>144</th>\n",
       "      <td>0.404461</td>\n",
       "      <td>-0.273742</td>\n",
       "    </tr>\n",
       "    <tr>\n",
       "      <th>960</th>\n",
       "      <td>-1.251167</td>\n",
       "      <td>-0.439289</td>\n",
       "    </tr>\n",
       "    <tr>\n",
       "      <th>847</th>\n",
       "      <td>-1.239749</td>\n",
       "      <td>0.024242</td>\n",
       "    </tr>\n",
       "    <tr>\n",
       "      <th>715</th>\n",
       "      <td>-0.314881</td>\n",
       "      <td>0.090461</td>\n",
       "    </tr>\n",
       "    <tr>\n",
       "      <th>905</th>\n",
       "      <td>-0.861048</td>\n",
       "      <td>-0.571727</td>\n",
       "    </tr>\n",
       "    <tr>\n",
       "      <th>1096</th>\n",
       "      <td>-0.305366</td>\n",
       "      <td>-1.896103</td>\n",
       "    </tr>\n",
       "    <tr>\n",
       "      <th>235</th>\n",
       "      <td>-1.005677</td>\n",
       "      <td>-0.008867</td>\n",
       "    </tr>\n",
       "    <tr>\n",
       "      <th>1061</th>\n",
       "      <td>-1.182658</td>\n",
       "      <td>-1.200805</td>\n",
       "    </tr>\n",
       "  </tbody>\n",
       "</table>\n",
       "<p>1168 rows × 2 columns</p>\n",
       "</div>"
      ],
      "text/plain": [
       "      GrLivArea  YearBuilt\n",
       "921    1.302687  -2.359634\n",
       "520   -0.421450  -2.359634\n",
       "401   -0.391002   1.116853\n",
       "280    0.887828   0.587102\n",
       "1401   0.147553   1.083743\n",
       "131    1.024846   0.951306\n",
       "808   -0.817278  -0.174414\n",
       "1249  -1.003774  -0.704164\n",
       "1083  -0.503280  -0.240633\n",
       "613   -0.752576   1.183071\n",
       "215   -0.531825  -0.472399\n",
       "135    0.316922  -0.041976\n",
       "634   -0.874369   0.289118\n",
       "446    0.708944  -0.174414\n",
       "625   -0.760188  -0.306852\n",
       "298    0.433006  -0.108195\n",
       "1336   0.267443   0.057352\n",
       "525   -0.474735   1.116853\n",
       "629   -0.314881  -0.240633\n",
       "1283   0.587151  -0.008867\n",
       "711   -0.642200  -2.359634\n",
       "776    0.187517   1.116853\n",
       "195   -0.113161   0.156680\n",
       "1325  -1.369154  -1.631228\n",
       "1289   0.864992   1.149962\n",
       "1106  -0.139803   0.620212\n",
       "1429  -0.143609   0.322227\n",
       "598    0.250316   0.189789\n",
       "1188   0.275056   1.017524\n",
       "1071   0.077141  -0.108195\n",
       "...         ...        ...\n",
       "141    0.415879   1.116853\n",
       "1110   0.271250   0.785759\n",
       "753    1.108579   1.116853\n",
       "1001  -1.568971  -1.697446\n",
       "1239  -0.059876   1.149962\n",
       "580   -0.164542  -0.373070\n",
       "562   -0.988550  -1.035258\n",
       "398   -0.834405  -1.697446\n",
       "668   -0.149318  -0.505508\n",
       "252    0.236995   1.083743\n",
       "907    1.030555  -1.167696\n",
       "468    0.225577   1.149962\n",
       "914   -0.554661   1.249290\n",
       "357   -0.710709   0.156680\n",
       "1278   0.981076   1.017524\n",
       "1300   0.889731   0.918196\n",
       "1202  -0.318687  -1.531899\n",
       "1305   0.259831   1.149962\n",
       "1414   0.632823  -1.598118\n",
       "508   -0.261596  -1.432571\n",
       "749    0.025760  -0.869711\n",
       "129   -0.880078  -0.439289\n",
       "144    0.404461  -0.273742\n",
       "960   -1.251167  -0.439289\n",
       "847   -1.239749   0.024242\n",
       "715   -0.314881   0.090461\n",
       "905   -0.861048  -0.571727\n",
       "1096  -0.305366  -1.896103\n",
       "235   -1.005677  -0.008867\n",
       "1061  -1.182658  -1.200805\n",
       "\n",
       "[1168 rows x 2 columns]"
      ]
     },
     "execution_count": 91,
     "metadata": {},
     "output_type": "execute_result"
    }
   ],
   "source": [
    "X_train"
   ]
  },
  {
   "cell_type": "code",
   "execution_count": null,
   "metadata": {
    "collapsed": true
   },
   "outputs": [],
   "source": []
  }
 ],
 "metadata": {
  "kernelspec": {
   "display_name": "Python 3",
   "language": "python",
   "name": "python3"
  },
  "language_info": {
   "codemirror_mode": {
    "name": "ipython",
    "version": 3
   },
   "file_extension": ".py",
   "mimetype": "text/x-python",
   "name": "python",
   "nbconvert_exporter": "python",
   "pygments_lexer": "ipython3",
   "version": "3.6.0"
  }
 },
 "nbformat": 4,
 "nbformat_minor": 2
}
