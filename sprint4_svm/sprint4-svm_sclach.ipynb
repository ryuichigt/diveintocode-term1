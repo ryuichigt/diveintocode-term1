{
 "cells": [
  {
   "cell_type": "markdown",
   "metadata": {},
   "source": [
    "# Breast Cancer Wisconsin"
   ]
  },
  {
   "cell_type": "markdown",
   "metadata": {},
   "source": [
    "## 前書き\n",
    "\n",
    "特徴は、乳房塊の微細針吸引物（FNA）のデジタル化画像から計算される。  \n",
    "それらは画像中に存在する細胞核の特徴を記述する。\n",
    "\n",
    "上述の分離平面は、マルチサーフェス法 - ツリー（MSM-T）[K. P. Bennett、「線形計画法による意思決定ツリー構築」第4回中西部人工知能・認知科学会予稿集、pp。97-101、1992]、線形計画法を用いて決定木を構成する分類法。  \n",
    "関連する特徴は、1~4個の特徴と1-3個の分離平面の空間内の徹底的な探索を用いて選択された。  \n",
    "\n",
    "3次元空間における分離平面を得るために使用される実際の線形プログラムは、[K. P. BennettおよびO.L. Mangasarian： \"2つの線形に分離不能なセットの堅牢な線形計画法の弁別\"、Optimization Methods and Software 1、1992,23-34]。  "
   ]
  },
  {
   "cell_type": "code",
   "execution_count": 3,
   "metadata": {
    "collapsed": true
   },
   "outputs": [],
   "source": [
    "import numpy as np\n",
    "import pandas as pd\n",
    "import matplotlib.pyplot as plt\n",
    "%matplotlib inline\n",
    "import seaborn as sns\n",
    "import warnings\n",
    "warnings.filterwarnings('ignore')"
   ]
  },
  {
   "cell_type": "markdown",
   "metadata": {},
   "source": [
    "#  1.データの準備"
   ]
  },
  {
   "cell_type": "markdown",
   "metadata": {},
   "source": [
    "## ライブラリのインポート"
   ]
  },
  {
   "cell_type": "code",
   "execution_count": 4,
   "metadata": {
    "collapsed": true
   },
   "outputs": [],
   "source": [
    "import numpy as np\n",
    "import pandas as pd\n",
    "import matplotlib.pyplot as plt\n",
    "%matplotlib inline\n",
    "import seaborn as sns\n",
    "import warnings\n",
    "warnings.filterwarnings('ignore')"
   ]
  },
  {
   "cell_type": "markdown",
   "metadata": {},
   "source": [
    "# データのインポート"
   ]
  },
  {
   "cell_type": "code",
   "execution_count": 5,
   "metadata": {
    "collapsed": true
   },
   "outputs": [],
   "source": [
    "train = pd.read_csv(\"wdbc.data.csv\",header=None)"
   ]
  },
  {
   "cell_type": "markdown",
   "metadata": {},
   "source": [
    "# 2.データの確認\n",
    "まずはデータを確認していきます。"
   ]
  },
  {
   "cell_type": "code",
   "execution_count": 6,
   "metadata": {
    "collapsed": false
   },
   "outputs": [
    {
     "data": {
      "text/html": [
       "<div>\n",
       "<style scoped>\n",
       "    .dataframe tbody tr th:only-of-type {\n",
       "        vertical-align: middle;\n",
       "    }\n",
       "\n",
       "    .dataframe tbody tr th {\n",
       "        vertical-align: top;\n",
       "    }\n",
       "\n",
       "    .dataframe thead th {\n",
       "        text-align: right;\n",
       "    }\n",
       "</style>\n",
       "<table border=\"1\" class=\"dataframe\">\n",
       "  <thead>\n",
       "    <tr style=\"text-align: right;\">\n",
       "      <th></th>\n",
       "      <th>0</th>\n",
       "      <th>1</th>\n",
       "      <th>2</th>\n",
       "      <th>3</th>\n",
       "      <th>4</th>\n",
       "      <th>5</th>\n",
       "      <th>6</th>\n",
       "      <th>7</th>\n",
       "      <th>8</th>\n",
       "      <th>9</th>\n",
       "      <th>...</th>\n",
       "      <th>22</th>\n",
       "      <th>23</th>\n",
       "      <th>24</th>\n",
       "      <th>25</th>\n",
       "      <th>26</th>\n",
       "      <th>27</th>\n",
       "      <th>28</th>\n",
       "      <th>29</th>\n",
       "      <th>30</th>\n",
       "      <th>31</th>\n",
       "    </tr>\n",
       "  </thead>\n",
       "  <tbody>\n",
       "    <tr>\n",
       "      <th>0</th>\n",
       "      <td>842302</td>\n",
       "      <td>M</td>\n",
       "      <td>17.99</td>\n",
       "      <td>10.38</td>\n",
       "      <td>122.80</td>\n",
       "      <td>1001.0</td>\n",
       "      <td>0.11840</td>\n",
       "      <td>0.27760</td>\n",
       "      <td>0.3001</td>\n",
       "      <td>0.14710</td>\n",
       "      <td>...</td>\n",
       "      <td>25.38</td>\n",
       "      <td>17.33</td>\n",
       "      <td>184.60</td>\n",
       "      <td>2019.0</td>\n",
       "      <td>0.1622</td>\n",
       "      <td>0.6656</td>\n",
       "      <td>0.7119</td>\n",
       "      <td>0.2654</td>\n",
       "      <td>0.4601</td>\n",
       "      <td>0.11890</td>\n",
       "    </tr>\n",
       "    <tr>\n",
       "      <th>1</th>\n",
       "      <td>842517</td>\n",
       "      <td>M</td>\n",
       "      <td>20.57</td>\n",
       "      <td>17.77</td>\n",
       "      <td>132.90</td>\n",
       "      <td>1326.0</td>\n",
       "      <td>0.08474</td>\n",
       "      <td>0.07864</td>\n",
       "      <td>0.0869</td>\n",
       "      <td>0.07017</td>\n",
       "      <td>...</td>\n",
       "      <td>24.99</td>\n",
       "      <td>23.41</td>\n",
       "      <td>158.80</td>\n",
       "      <td>1956.0</td>\n",
       "      <td>0.1238</td>\n",
       "      <td>0.1866</td>\n",
       "      <td>0.2416</td>\n",
       "      <td>0.1860</td>\n",
       "      <td>0.2750</td>\n",
       "      <td>0.08902</td>\n",
       "    </tr>\n",
       "    <tr>\n",
       "      <th>2</th>\n",
       "      <td>84300903</td>\n",
       "      <td>M</td>\n",
       "      <td>19.69</td>\n",
       "      <td>21.25</td>\n",
       "      <td>130.00</td>\n",
       "      <td>1203.0</td>\n",
       "      <td>0.10960</td>\n",
       "      <td>0.15990</td>\n",
       "      <td>0.1974</td>\n",
       "      <td>0.12790</td>\n",
       "      <td>...</td>\n",
       "      <td>23.57</td>\n",
       "      <td>25.53</td>\n",
       "      <td>152.50</td>\n",
       "      <td>1709.0</td>\n",
       "      <td>0.1444</td>\n",
       "      <td>0.4245</td>\n",
       "      <td>0.4504</td>\n",
       "      <td>0.2430</td>\n",
       "      <td>0.3613</td>\n",
       "      <td>0.08758</td>\n",
       "    </tr>\n",
       "    <tr>\n",
       "      <th>3</th>\n",
       "      <td>84348301</td>\n",
       "      <td>M</td>\n",
       "      <td>11.42</td>\n",
       "      <td>20.38</td>\n",
       "      <td>77.58</td>\n",
       "      <td>386.1</td>\n",
       "      <td>0.14250</td>\n",
       "      <td>0.28390</td>\n",
       "      <td>0.2414</td>\n",
       "      <td>0.10520</td>\n",
       "      <td>...</td>\n",
       "      <td>14.91</td>\n",
       "      <td>26.50</td>\n",
       "      <td>98.87</td>\n",
       "      <td>567.7</td>\n",
       "      <td>0.2098</td>\n",
       "      <td>0.8663</td>\n",
       "      <td>0.6869</td>\n",
       "      <td>0.2575</td>\n",
       "      <td>0.6638</td>\n",
       "      <td>0.17300</td>\n",
       "    </tr>\n",
       "    <tr>\n",
       "      <th>4</th>\n",
       "      <td>84358402</td>\n",
       "      <td>M</td>\n",
       "      <td>20.29</td>\n",
       "      <td>14.34</td>\n",
       "      <td>135.10</td>\n",
       "      <td>1297.0</td>\n",
       "      <td>0.10030</td>\n",
       "      <td>0.13280</td>\n",
       "      <td>0.1980</td>\n",
       "      <td>0.10430</td>\n",
       "      <td>...</td>\n",
       "      <td>22.54</td>\n",
       "      <td>16.67</td>\n",
       "      <td>152.20</td>\n",
       "      <td>1575.0</td>\n",
       "      <td>0.1374</td>\n",
       "      <td>0.2050</td>\n",
       "      <td>0.4000</td>\n",
       "      <td>0.1625</td>\n",
       "      <td>0.2364</td>\n",
       "      <td>0.07678</td>\n",
       "    </tr>\n",
       "  </tbody>\n",
       "</table>\n",
       "<p>5 rows × 32 columns</p>\n",
       "</div>"
      ],
      "text/plain": [
       "         0  1      2      3       4       5        6        7       8   \\\n",
       "0    842302  M  17.99  10.38  122.80  1001.0  0.11840  0.27760  0.3001   \n",
       "1    842517  M  20.57  17.77  132.90  1326.0  0.08474  0.07864  0.0869   \n",
       "2  84300903  M  19.69  21.25  130.00  1203.0  0.10960  0.15990  0.1974   \n",
       "3  84348301  M  11.42  20.38   77.58   386.1  0.14250  0.28390  0.2414   \n",
       "4  84358402  M  20.29  14.34  135.10  1297.0  0.10030  0.13280  0.1980   \n",
       "\n",
       "        9    ...        22     23      24      25      26      27      28  \\\n",
       "0  0.14710   ...     25.38  17.33  184.60  2019.0  0.1622  0.6656  0.7119   \n",
       "1  0.07017   ...     24.99  23.41  158.80  1956.0  0.1238  0.1866  0.2416   \n",
       "2  0.12790   ...     23.57  25.53  152.50  1709.0  0.1444  0.4245  0.4504   \n",
       "3  0.10520   ...     14.91  26.50   98.87   567.7  0.2098  0.8663  0.6869   \n",
       "4  0.10430   ...     22.54  16.67  152.20  1575.0  0.1374  0.2050  0.4000   \n",
       "\n",
       "       29      30       31  \n",
       "0  0.2654  0.4601  0.11890  \n",
       "1  0.1860  0.2750  0.08902  \n",
       "2  0.2430  0.3613  0.08758  \n",
       "3  0.2575  0.6638  0.17300  \n",
       "4  0.1625  0.2364  0.07678  \n",
       "\n",
       "[5 rows x 32 columns]"
      ]
     },
     "execution_count": 6,
     "metadata": {},
     "output_type": "execute_result"
    }
   ],
   "source": [
    "train.head()"
   ]
  },
  {
   "cell_type": "code",
   "execution_count": 7,
   "metadata": {
    "collapsed": true
   },
   "outputs": [],
   "source": [
    "col = [\"radius\",\"texture\",\"perimeter\",\"area\",\"smoothness\",\"compactness\",\"concavity\"\n",
    "        ,\"concave points\",\"symmetry \",\"fractal dimension\" ]\n",
    "\n",
    "data_columns = [\"ID\",\"diagnosis\"]\n",
    "col_plus = [\"mean\",\"std\",\"worst\"]"
   ]
  },
  {
   "cell_type": "code",
   "execution_count": 8,
   "metadata": {
    "collapsed": true
   },
   "outputs": [],
   "source": [
    "for i1 in range(3):\n",
    "    for i in col:\n",
    "        data_columns.append(i+\"_\"+col_plus[i1])"
   ]
  },
  {
   "cell_type": "code",
   "execution_count": 9,
   "metadata": {
    "collapsed": false
   },
   "outputs": [
    {
     "data": {
      "text/plain": [
       "32"
      ]
     },
     "execution_count": 9,
     "metadata": {},
     "output_type": "execute_result"
    }
   ],
   "source": [
    "len(data_columns)"
   ]
  },
  {
   "cell_type": "code",
   "execution_count": 10,
   "metadata": {
    "collapsed": true
   },
   "outputs": [],
   "source": [
    "train.columns = data_columns"
   ]
  },
  {
   "cell_type": "code",
   "execution_count": 11,
   "metadata": {
    "collapsed": false
   },
   "outputs": [
    {
     "data": {
      "text/html": [
       "<div>\n",
       "<style scoped>\n",
       "    .dataframe tbody tr th:only-of-type {\n",
       "        vertical-align: middle;\n",
       "    }\n",
       "\n",
       "    .dataframe tbody tr th {\n",
       "        vertical-align: top;\n",
       "    }\n",
       "\n",
       "    .dataframe thead th {\n",
       "        text-align: right;\n",
       "    }\n",
       "</style>\n",
       "<table border=\"1\" class=\"dataframe\">\n",
       "  <thead>\n",
       "    <tr style=\"text-align: right;\">\n",
       "      <th></th>\n",
       "      <th>ID</th>\n",
       "      <th>diagnosis</th>\n",
       "      <th>radius_mean</th>\n",
       "      <th>texture_mean</th>\n",
       "      <th>perimeter_mean</th>\n",
       "      <th>area_mean</th>\n",
       "      <th>smoothness_mean</th>\n",
       "      <th>compactness_mean</th>\n",
       "      <th>concavity_mean</th>\n",
       "      <th>concave points_mean</th>\n",
       "      <th>...</th>\n",
       "      <th>radius_worst</th>\n",
       "      <th>texture_worst</th>\n",
       "      <th>perimeter_worst</th>\n",
       "      <th>area_worst</th>\n",
       "      <th>smoothness_worst</th>\n",
       "      <th>compactness_worst</th>\n",
       "      <th>concavity_worst</th>\n",
       "      <th>concave points_worst</th>\n",
       "      <th>symmetry _worst</th>\n",
       "      <th>fractal dimension_worst</th>\n",
       "    </tr>\n",
       "  </thead>\n",
       "  <tbody>\n",
       "    <tr>\n",
       "      <th>0</th>\n",
       "      <td>842302</td>\n",
       "      <td>M</td>\n",
       "      <td>17.99</td>\n",
       "      <td>10.38</td>\n",
       "      <td>122.80</td>\n",
       "      <td>1001.0</td>\n",
       "      <td>0.11840</td>\n",
       "      <td>0.27760</td>\n",
       "      <td>0.3001</td>\n",
       "      <td>0.14710</td>\n",
       "      <td>...</td>\n",
       "      <td>25.38</td>\n",
       "      <td>17.33</td>\n",
       "      <td>184.60</td>\n",
       "      <td>2019.0</td>\n",
       "      <td>0.1622</td>\n",
       "      <td>0.6656</td>\n",
       "      <td>0.7119</td>\n",
       "      <td>0.2654</td>\n",
       "      <td>0.4601</td>\n",
       "      <td>0.11890</td>\n",
       "    </tr>\n",
       "    <tr>\n",
       "      <th>1</th>\n",
       "      <td>842517</td>\n",
       "      <td>M</td>\n",
       "      <td>20.57</td>\n",
       "      <td>17.77</td>\n",
       "      <td>132.90</td>\n",
       "      <td>1326.0</td>\n",
       "      <td>0.08474</td>\n",
       "      <td>0.07864</td>\n",
       "      <td>0.0869</td>\n",
       "      <td>0.07017</td>\n",
       "      <td>...</td>\n",
       "      <td>24.99</td>\n",
       "      <td>23.41</td>\n",
       "      <td>158.80</td>\n",
       "      <td>1956.0</td>\n",
       "      <td>0.1238</td>\n",
       "      <td>0.1866</td>\n",
       "      <td>0.2416</td>\n",
       "      <td>0.1860</td>\n",
       "      <td>0.2750</td>\n",
       "      <td>0.08902</td>\n",
       "    </tr>\n",
       "    <tr>\n",
       "      <th>2</th>\n",
       "      <td>84300903</td>\n",
       "      <td>M</td>\n",
       "      <td>19.69</td>\n",
       "      <td>21.25</td>\n",
       "      <td>130.00</td>\n",
       "      <td>1203.0</td>\n",
       "      <td>0.10960</td>\n",
       "      <td>0.15990</td>\n",
       "      <td>0.1974</td>\n",
       "      <td>0.12790</td>\n",
       "      <td>...</td>\n",
       "      <td>23.57</td>\n",
       "      <td>25.53</td>\n",
       "      <td>152.50</td>\n",
       "      <td>1709.0</td>\n",
       "      <td>0.1444</td>\n",
       "      <td>0.4245</td>\n",
       "      <td>0.4504</td>\n",
       "      <td>0.2430</td>\n",
       "      <td>0.3613</td>\n",
       "      <td>0.08758</td>\n",
       "    </tr>\n",
       "    <tr>\n",
       "      <th>3</th>\n",
       "      <td>84348301</td>\n",
       "      <td>M</td>\n",
       "      <td>11.42</td>\n",
       "      <td>20.38</td>\n",
       "      <td>77.58</td>\n",
       "      <td>386.1</td>\n",
       "      <td>0.14250</td>\n",
       "      <td>0.28390</td>\n",
       "      <td>0.2414</td>\n",
       "      <td>0.10520</td>\n",
       "      <td>...</td>\n",
       "      <td>14.91</td>\n",
       "      <td>26.50</td>\n",
       "      <td>98.87</td>\n",
       "      <td>567.7</td>\n",
       "      <td>0.2098</td>\n",
       "      <td>0.8663</td>\n",
       "      <td>0.6869</td>\n",
       "      <td>0.2575</td>\n",
       "      <td>0.6638</td>\n",
       "      <td>0.17300</td>\n",
       "    </tr>\n",
       "    <tr>\n",
       "      <th>4</th>\n",
       "      <td>84358402</td>\n",
       "      <td>M</td>\n",
       "      <td>20.29</td>\n",
       "      <td>14.34</td>\n",
       "      <td>135.10</td>\n",
       "      <td>1297.0</td>\n",
       "      <td>0.10030</td>\n",
       "      <td>0.13280</td>\n",
       "      <td>0.1980</td>\n",
       "      <td>0.10430</td>\n",
       "      <td>...</td>\n",
       "      <td>22.54</td>\n",
       "      <td>16.67</td>\n",
       "      <td>152.20</td>\n",
       "      <td>1575.0</td>\n",
       "      <td>0.1374</td>\n",
       "      <td>0.2050</td>\n",
       "      <td>0.4000</td>\n",
       "      <td>0.1625</td>\n",
       "      <td>0.2364</td>\n",
       "      <td>0.07678</td>\n",
       "    </tr>\n",
       "  </tbody>\n",
       "</table>\n",
       "<p>5 rows × 32 columns</p>\n",
       "</div>"
      ],
      "text/plain": [
       "         ID diagnosis  radius_mean  texture_mean  perimeter_mean  area_mean  \\\n",
       "0    842302         M        17.99         10.38          122.80     1001.0   \n",
       "1    842517         M        20.57         17.77          132.90     1326.0   \n",
       "2  84300903         M        19.69         21.25          130.00     1203.0   \n",
       "3  84348301         M        11.42         20.38           77.58      386.1   \n",
       "4  84358402         M        20.29         14.34          135.10     1297.0   \n",
       "\n",
       "   smoothness_mean  compactness_mean  concavity_mean  concave points_mean  \\\n",
       "0          0.11840           0.27760          0.3001              0.14710   \n",
       "1          0.08474           0.07864          0.0869              0.07017   \n",
       "2          0.10960           0.15990          0.1974              0.12790   \n",
       "3          0.14250           0.28390          0.2414              0.10520   \n",
       "4          0.10030           0.13280          0.1980              0.10430   \n",
       "\n",
       "            ...             radius_worst  texture_worst  perimeter_worst  \\\n",
       "0           ...                    25.38          17.33           184.60   \n",
       "1           ...                    24.99          23.41           158.80   \n",
       "2           ...                    23.57          25.53           152.50   \n",
       "3           ...                    14.91          26.50            98.87   \n",
       "4           ...                    22.54          16.67           152.20   \n",
       "\n",
       "   area_worst  smoothness_worst  compactness_worst  concavity_worst  \\\n",
       "0      2019.0            0.1622             0.6656           0.7119   \n",
       "1      1956.0            0.1238             0.1866           0.2416   \n",
       "2      1709.0            0.1444             0.4245           0.4504   \n",
       "3       567.7            0.2098             0.8663           0.6869   \n",
       "4      1575.0            0.1374             0.2050           0.4000   \n",
       "\n",
       "   concave points_worst  symmetry _worst  fractal dimension_worst  \n",
       "0                0.2654           0.4601                  0.11890  \n",
       "1                0.1860           0.2750                  0.08902  \n",
       "2                0.2430           0.3613                  0.08758  \n",
       "3                0.2575           0.6638                  0.17300  \n",
       "4                0.1625           0.2364                  0.07678  \n",
       "\n",
       "[5 rows x 32 columns]"
      ]
     },
     "execution_count": 11,
     "metadata": {},
     "output_type": "execute_result"
    }
   ],
   "source": [
    "train.head()"
   ]
  },
  {
   "cell_type": "markdown",
   "metadata": {},
   "source": [
    "これでひとまずデータの形が出来ました。  \n",
    "次にデータの欠損を確認していきましょう。"
   ]
  },
  {
   "cell_type": "code",
   "execution_count": 12,
   "metadata": {
    "collapsed": false
   },
   "outputs": [
    {
     "data": {
      "text/plain": [
       "ID                         0\n",
       "diagnosis                  0\n",
       "radius_mean                0\n",
       "texture_mean               0\n",
       "perimeter_mean             0\n",
       "area_mean                  0\n",
       "smoothness_mean            0\n",
       "compactness_mean           0\n",
       "concavity_mean             0\n",
       "concave points_mean        0\n",
       "symmetry _mean             0\n",
       "fractal dimension_mean     0\n",
       "radius_std                 0\n",
       "texture_std                0\n",
       "perimeter_std              0\n",
       "area_std                   0\n",
       "smoothness_std             0\n",
       "compactness_std            0\n",
       "concavity_std              0\n",
       "concave points_std         0\n",
       "symmetry _std              0\n",
       "fractal dimension_std      0\n",
       "radius_worst               0\n",
       "texture_worst              0\n",
       "perimeter_worst            0\n",
       "area_worst                 0\n",
       "smoothness_worst           0\n",
       "compactness_worst          0\n",
       "concavity_worst            0\n",
       "concave points_worst       0\n",
       "symmetry _worst            0\n",
       "fractal dimension_worst    0\n",
       "dtype: int64"
      ]
     },
     "execution_count": 12,
     "metadata": {},
     "output_type": "execute_result"
    }
   ],
   "source": [
    "train.isnull().sum()"
   ]
  },
  {
   "cell_type": "markdown",
   "metadata": {},
   "source": [
    "欠損が無いことが確認できました。  \n",
    "次にデータの形を確認して見ましょう。"
   ]
  },
  {
   "cell_type": "code",
   "execution_count": 13,
   "metadata": {
    "collapsed": false
   },
   "outputs": [
    {
     "data": {
      "text/plain": [
       "ID                           int64\n",
       "diagnosis                   object\n",
       "radius_mean                float64\n",
       "texture_mean               float64\n",
       "perimeter_mean             float64\n",
       "area_mean                  float64\n",
       "smoothness_mean            float64\n",
       "compactness_mean           float64\n",
       "concavity_mean             float64\n",
       "concave points_mean        float64\n",
       "symmetry _mean             float64\n",
       "fractal dimension_mean     float64\n",
       "radius_std                 float64\n",
       "texture_std                float64\n",
       "perimeter_std              float64\n",
       "area_std                   float64\n",
       "smoothness_std             float64\n",
       "compactness_std            float64\n",
       "concavity_std              float64\n",
       "concave points_std         float64\n",
       "symmetry _std              float64\n",
       "fractal dimension_std      float64\n",
       "radius_worst               float64\n",
       "texture_worst              float64\n",
       "perimeter_worst            float64\n",
       "area_worst                 float64\n",
       "smoothness_worst           float64\n",
       "compactness_worst          float64\n",
       "concavity_worst            float64\n",
       "concave points_worst       float64\n",
       "symmetry _worst            float64\n",
       "fractal dimension_worst    float64\n",
       "dtype: object"
      ]
     },
     "execution_count": 13,
     "metadata": {},
     "output_type": "execute_result"
    }
   ],
   "source": [
    "train.dtypes"
   ]
  },
  {
   "cell_type": "markdown",
   "metadata": {},
   "source": [
    "データの中にカテゴリ変数が混ざってることがわかりました。  \n",
    "実際にどうなっているか見て見ましょう。"
   ]
  },
  {
   "cell_type": "code",
   "execution_count": 14,
   "metadata": {
    "collapsed": false
   },
   "outputs": [
    {
     "data": {
      "text/plain": [
       "0      M\n",
       "1      M\n",
       "2      M\n",
       "3      M\n",
       "4      M\n",
       "5      M\n",
       "6      M\n",
       "7      M\n",
       "8      M\n",
       "9      M\n",
       "10     M\n",
       "11     M\n",
       "12     M\n",
       "13     M\n",
       "14     M\n",
       "15     M\n",
       "16     M\n",
       "17     M\n",
       "18     M\n",
       "19     B\n",
       "20     B\n",
       "21     B\n",
       "22     M\n",
       "23     M\n",
       "24     M\n",
       "25     M\n",
       "26     M\n",
       "27     M\n",
       "28     M\n",
       "29     M\n",
       "      ..\n",
       "539    B\n",
       "540    B\n",
       "541    B\n",
       "542    B\n",
       "543    B\n",
       "544    B\n",
       "545    B\n",
       "546    B\n",
       "547    B\n",
       "548    B\n",
       "549    B\n",
       "550    B\n",
       "551    B\n",
       "552    B\n",
       "553    B\n",
       "554    B\n",
       "555    B\n",
       "556    B\n",
       "557    B\n",
       "558    B\n",
       "559    B\n",
       "560    B\n",
       "561    B\n",
       "562    M\n",
       "563    M\n",
       "564    M\n",
       "565    M\n",
       "566    M\n",
       "567    M\n",
       "568    B\n",
       "Name: diagnosis, Length: 569, dtype: object"
      ]
     },
     "execution_count": 14,
     "metadata": {},
     "output_type": "execute_result"
    }
   ],
   "source": [
    "train.diagnosis"
   ]
  },
  {
   "cell_type": "code",
   "execution_count": 15,
   "metadata": {
    "collapsed": false
   },
   "outputs": [
    {
     "data": {
      "text/plain": [
       "{'B', 'M'}"
      ]
     },
     "execution_count": 15,
     "metadata": {},
     "output_type": "execute_result"
    }
   ],
   "source": [
    "set(train[\"diagnosis\"])"
   ]
  },
  {
   "cell_type": "markdown",
   "metadata": {},
   "source": [
    "\"diagnosis\"はNとRの２種類になってることがわかりました。  \n",
    "まずはこのカテゴリデータを直さないと学習できません。  \n",
    "\"diagnosis\"はラベルエンコーダーを数値データに変えましょう。"
   ]
  },
  {
   "cell_type": "markdown",
   "metadata": {},
   "source": [
    "# 3.データの整形\n"
   ]
  },
  {
   "cell_type": "code",
   "execution_count": 16,
   "metadata": {
    "collapsed": true
   },
   "outputs": [],
   "source": [
    "out_label = {'M':0, 'B':1}\n",
    "train[\"diagnosis\"] = train[\"diagnosis\"].map(out_label)"
   ]
  },
  {
   "cell_type": "code",
   "execution_count": 17,
   "metadata": {
    "collapsed": false
   },
   "outputs": [
    {
     "data": {
      "text/html": [
       "<div>\n",
       "<style scoped>\n",
       "    .dataframe tbody tr th:only-of-type {\n",
       "        vertical-align: middle;\n",
       "    }\n",
       "\n",
       "    .dataframe tbody tr th {\n",
       "        vertical-align: top;\n",
       "    }\n",
       "\n",
       "    .dataframe thead th {\n",
       "        text-align: right;\n",
       "    }\n",
       "</style>\n",
       "<table border=\"1\" class=\"dataframe\">\n",
       "  <thead>\n",
       "    <tr style=\"text-align: right;\">\n",
       "      <th></th>\n",
       "      <th>ID</th>\n",
       "      <th>diagnosis</th>\n",
       "      <th>radius_mean</th>\n",
       "      <th>texture_mean</th>\n",
       "      <th>perimeter_mean</th>\n",
       "      <th>area_mean</th>\n",
       "      <th>smoothness_mean</th>\n",
       "      <th>compactness_mean</th>\n",
       "      <th>concavity_mean</th>\n",
       "      <th>concave points_mean</th>\n",
       "      <th>...</th>\n",
       "      <th>radius_worst</th>\n",
       "      <th>texture_worst</th>\n",
       "      <th>perimeter_worst</th>\n",
       "      <th>area_worst</th>\n",
       "      <th>smoothness_worst</th>\n",
       "      <th>compactness_worst</th>\n",
       "      <th>concavity_worst</th>\n",
       "      <th>concave points_worst</th>\n",
       "      <th>symmetry _worst</th>\n",
       "      <th>fractal dimension_worst</th>\n",
       "    </tr>\n",
       "  </thead>\n",
       "  <tbody>\n",
       "    <tr>\n",
       "      <th>0</th>\n",
       "      <td>842302</td>\n",
       "      <td>0</td>\n",
       "      <td>17.99</td>\n",
       "      <td>10.38</td>\n",
       "      <td>122.80</td>\n",
       "      <td>1001.0</td>\n",
       "      <td>0.11840</td>\n",
       "      <td>0.27760</td>\n",
       "      <td>0.3001</td>\n",
       "      <td>0.14710</td>\n",
       "      <td>...</td>\n",
       "      <td>25.38</td>\n",
       "      <td>17.33</td>\n",
       "      <td>184.60</td>\n",
       "      <td>2019.0</td>\n",
       "      <td>0.1622</td>\n",
       "      <td>0.6656</td>\n",
       "      <td>0.7119</td>\n",
       "      <td>0.2654</td>\n",
       "      <td>0.4601</td>\n",
       "      <td>0.11890</td>\n",
       "    </tr>\n",
       "    <tr>\n",
       "      <th>1</th>\n",
       "      <td>842517</td>\n",
       "      <td>0</td>\n",
       "      <td>20.57</td>\n",
       "      <td>17.77</td>\n",
       "      <td>132.90</td>\n",
       "      <td>1326.0</td>\n",
       "      <td>0.08474</td>\n",
       "      <td>0.07864</td>\n",
       "      <td>0.0869</td>\n",
       "      <td>0.07017</td>\n",
       "      <td>...</td>\n",
       "      <td>24.99</td>\n",
       "      <td>23.41</td>\n",
       "      <td>158.80</td>\n",
       "      <td>1956.0</td>\n",
       "      <td>0.1238</td>\n",
       "      <td>0.1866</td>\n",
       "      <td>0.2416</td>\n",
       "      <td>0.1860</td>\n",
       "      <td>0.2750</td>\n",
       "      <td>0.08902</td>\n",
       "    </tr>\n",
       "    <tr>\n",
       "      <th>2</th>\n",
       "      <td>84300903</td>\n",
       "      <td>0</td>\n",
       "      <td>19.69</td>\n",
       "      <td>21.25</td>\n",
       "      <td>130.00</td>\n",
       "      <td>1203.0</td>\n",
       "      <td>0.10960</td>\n",
       "      <td>0.15990</td>\n",
       "      <td>0.1974</td>\n",
       "      <td>0.12790</td>\n",
       "      <td>...</td>\n",
       "      <td>23.57</td>\n",
       "      <td>25.53</td>\n",
       "      <td>152.50</td>\n",
       "      <td>1709.0</td>\n",
       "      <td>0.1444</td>\n",
       "      <td>0.4245</td>\n",
       "      <td>0.4504</td>\n",
       "      <td>0.2430</td>\n",
       "      <td>0.3613</td>\n",
       "      <td>0.08758</td>\n",
       "    </tr>\n",
       "    <tr>\n",
       "      <th>3</th>\n",
       "      <td>84348301</td>\n",
       "      <td>0</td>\n",
       "      <td>11.42</td>\n",
       "      <td>20.38</td>\n",
       "      <td>77.58</td>\n",
       "      <td>386.1</td>\n",
       "      <td>0.14250</td>\n",
       "      <td>0.28390</td>\n",
       "      <td>0.2414</td>\n",
       "      <td>0.10520</td>\n",
       "      <td>...</td>\n",
       "      <td>14.91</td>\n",
       "      <td>26.50</td>\n",
       "      <td>98.87</td>\n",
       "      <td>567.7</td>\n",
       "      <td>0.2098</td>\n",
       "      <td>0.8663</td>\n",
       "      <td>0.6869</td>\n",
       "      <td>0.2575</td>\n",
       "      <td>0.6638</td>\n",
       "      <td>0.17300</td>\n",
       "    </tr>\n",
       "    <tr>\n",
       "      <th>4</th>\n",
       "      <td>84358402</td>\n",
       "      <td>0</td>\n",
       "      <td>20.29</td>\n",
       "      <td>14.34</td>\n",
       "      <td>135.10</td>\n",
       "      <td>1297.0</td>\n",
       "      <td>0.10030</td>\n",
       "      <td>0.13280</td>\n",
       "      <td>0.1980</td>\n",
       "      <td>0.10430</td>\n",
       "      <td>...</td>\n",
       "      <td>22.54</td>\n",
       "      <td>16.67</td>\n",
       "      <td>152.20</td>\n",
       "      <td>1575.0</td>\n",
       "      <td>0.1374</td>\n",
       "      <td>0.2050</td>\n",
       "      <td>0.4000</td>\n",
       "      <td>0.1625</td>\n",
       "      <td>0.2364</td>\n",
       "      <td>0.07678</td>\n",
       "    </tr>\n",
       "  </tbody>\n",
       "</table>\n",
       "<p>5 rows × 32 columns</p>\n",
       "</div>"
      ],
      "text/plain": [
       "         ID  diagnosis  radius_mean  texture_mean  perimeter_mean  area_mean  \\\n",
       "0    842302          0        17.99         10.38          122.80     1001.0   \n",
       "1    842517          0        20.57         17.77          132.90     1326.0   \n",
       "2  84300903          0        19.69         21.25          130.00     1203.0   \n",
       "3  84348301          0        11.42         20.38           77.58      386.1   \n",
       "4  84358402          0        20.29         14.34          135.10     1297.0   \n",
       "\n",
       "   smoothness_mean  compactness_mean  concavity_mean  concave points_mean  \\\n",
       "0          0.11840           0.27760          0.3001              0.14710   \n",
       "1          0.08474           0.07864          0.0869              0.07017   \n",
       "2          0.10960           0.15990          0.1974              0.12790   \n",
       "3          0.14250           0.28390          0.2414              0.10520   \n",
       "4          0.10030           0.13280          0.1980              0.10430   \n",
       "\n",
       "            ...             radius_worst  texture_worst  perimeter_worst  \\\n",
       "0           ...                    25.38          17.33           184.60   \n",
       "1           ...                    24.99          23.41           158.80   \n",
       "2           ...                    23.57          25.53           152.50   \n",
       "3           ...                    14.91          26.50            98.87   \n",
       "4           ...                    22.54          16.67           152.20   \n",
       "\n",
       "   area_worst  smoothness_worst  compactness_worst  concavity_worst  \\\n",
       "0      2019.0            0.1622             0.6656           0.7119   \n",
       "1      1956.0            0.1238             0.1866           0.2416   \n",
       "2      1709.0            0.1444             0.4245           0.4504   \n",
       "3       567.7            0.2098             0.8663           0.6869   \n",
       "4      1575.0            0.1374             0.2050           0.4000   \n",
       "\n",
       "   concave points_worst  symmetry _worst  fractal dimension_worst  \n",
       "0                0.2654           0.4601                  0.11890  \n",
       "1                0.1860           0.2750                  0.08902  \n",
       "2                0.2430           0.3613                  0.08758  \n",
       "3                0.2575           0.6638                  0.17300  \n",
       "4                0.1625           0.2364                  0.07678  \n",
       "\n",
       "[5 rows x 32 columns]"
      ]
     },
     "execution_count": 17,
     "metadata": {},
     "output_type": "execute_result"
    }
   ],
   "source": [
    "train.head()"
   ]
  },
  {
   "cell_type": "markdown",
   "metadata": {},
   "source": [
    "これで全てのデータを数値データに変えることができました。\n",
    "\n",
    "データ型の列に欠損値がある場合、SVMではそれらをランダムに欠損した値として解釈します。質的データの欠損値は最頻値に、量的データの欠損値は平均値に自動的に置換されます。"
   ]
  },
  {
   "cell_type": "markdown",
   "metadata": {},
   "source": [
    "次に統計値をみて異常値が無いか確かめましょう。"
   ]
  },
  {
   "cell_type": "code",
   "execution_count": 18,
   "metadata": {
    "collapsed": true
   },
   "outputs": [],
   "source": [
    "pd.set_option('display.max_columns', 50)"
   ]
  },
  {
   "cell_type": "code",
   "execution_count": 19,
   "metadata": {
    "collapsed": false
   },
   "outputs": [
    {
     "data": {
      "text/html": [
       "<div>\n",
       "<style scoped>\n",
       "    .dataframe tbody tr th:only-of-type {\n",
       "        vertical-align: middle;\n",
       "    }\n",
       "\n",
       "    .dataframe tbody tr th {\n",
       "        vertical-align: top;\n",
       "    }\n",
       "\n",
       "    .dataframe thead th {\n",
       "        text-align: right;\n",
       "    }\n",
       "</style>\n",
       "<table border=\"1\" class=\"dataframe\">\n",
       "  <thead>\n",
       "    <tr style=\"text-align: right;\">\n",
       "      <th></th>\n",
       "      <th>ID</th>\n",
       "      <th>diagnosis</th>\n",
       "      <th>radius_mean</th>\n",
       "      <th>texture_mean</th>\n",
       "      <th>perimeter_mean</th>\n",
       "      <th>area_mean</th>\n",
       "      <th>smoothness_mean</th>\n",
       "      <th>compactness_mean</th>\n",
       "      <th>concavity_mean</th>\n",
       "      <th>concave points_mean</th>\n",
       "      <th>symmetry _mean</th>\n",
       "      <th>fractal dimension_mean</th>\n",
       "      <th>radius_std</th>\n",
       "      <th>texture_std</th>\n",
       "      <th>perimeter_std</th>\n",
       "      <th>area_std</th>\n",
       "      <th>smoothness_std</th>\n",
       "      <th>compactness_std</th>\n",
       "      <th>concavity_std</th>\n",
       "      <th>concave points_std</th>\n",
       "      <th>symmetry _std</th>\n",
       "      <th>fractal dimension_std</th>\n",
       "      <th>radius_worst</th>\n",
       "      <th>texture_worst</th>\n",
       "      <th>perimeter_worst</th>\n",
       "      <th>area_worst</th>\n",
       "      <th>smoothness_worst</th>\n",
       "      <th>compactness_worst</th>\n",
       "      <th>concavity_worst</th>\n",
       "      <th>concave points_worst</th>\n",
       "      <th>symmetry _worst</th>\n",
       "      <th>fractal dimension_worst</th>\n",
       "    </tr>\n",
       "  </thead>\n",
       "  <tbody>\n",
       "    <tr>\n",
       "      <th>count</th>\n",
       "      <td>5.690000e+02</td>\n",
       "      <td>569.000000</td>\n",
       "      <td>569.000000</td>\n",
       "      <td>569.000000</td>\n",
       "      <td>569.000000</td>\n",
       "      <td>569.000000</td>\n",
       "      <td>569.000000</td>\n",
       "      <td>569.000000</td>\n",
       "      <td>569.000000</td>\n",
       "      <td>569.000000</td>\n",
       "      <td>569.000000</td>\n",
       "      <td>569.000000</td>\n",
       "      <td>569.000000</td>\n",
       "      <td>569.000000</td>\n",
       "      <td>569.000000</td>\n",
       "      <td>569.000000</td>\n",
       "      <td>569.000000</td>\n",
       "      <td>569.000000</td>\n",
       "      <td>569.000000</td>\n",
       "      <td>569.000000</td>\n",
       "      <td>569.000000</td>\n",
       "      <td>569.000000</td>\n",
       "      <td>569.000000</td>\n",
       "      <td>569.000000</td>\n",
       "      <td>569.000000</td>\n",
       "      <td>569.000000</td>\n",
       "      <td>569.000000</td>\n",
       "      <td>569.000000</td>\n",
       "      <td>569.000000</td>\n",
       "      <td>569.000000</td>\n",
       "      <td>569.000000</td>\n",
       "      <td>569.000000</td>\n",
       "    </tr>\n",
       "    <tr>\n",
       "      <th>mean</th>\n",
       "      <td>3.037183e+07</td>\n",
       "      <td>0.627417</td>\n",
       "      <td>14.127292</td>\n",
       "      <td>19.289649</td>\n",
       "      <td>91.969033</td>\n",
       "      <td>654.889104</td>\n",
       "      <td>0.096360</td>\n",
       "      <td>0.104341</td>\n",
       "      <td>0.088799</td>\n",
       "      <td>0.048919</td>\n",
       "      <td>0.181162</td>\n",
       "      <td>0.062798</td>\n",
       "      <td>0.405172</td>\n",
       "      <td>1.216853</td>\n",
       "      <td>2.866059</td>\n",
       "      <td>40.337079</td>\n",
       "      <td>0.007041</td>\n",
       "      <td>0.025478</td>\n",
       "      <td>0.031894</td>\n",
       "      <td>0.011796</td>\n",
       "      <td>0.020542</td>\n",
       "      <td>0.003795</td>\n",
       "      <td>16.269190</td>\n",
       "      <td>25.677223</td>\n",
       "      <td>107.261213</td>\n",
       "      <td>880.583128</td>\n",
       "      <td>0.132369</td>\n",
       "      <td>0.254265</td>\n",
       "      <td>0.272188</td>\n",
       "      <td>0.114606</td>\n",
       "      <td>0.290076</td>\n",
       "      <td>0.083946</td>\n",
       "    </tr>\n",
       "    <tr>\n",
       "      <th>std</th>\n",
       "      <td>1.250206e+08</td>\n",
       "      <td>0.483918</td>\n",
       "      <td>3.524049</td>\n",
       "      <td>4.301036</td>\n",
       "      <td>24.298981</td>\n",
       "      <td>351.914129</td>\n",
       "      <td>0.014064</td>\n",
       "      <td>0.052813</td>\n",
       "      <td>0.079720</td>\n",
       "      <td>0.038803</td>\n",
       "      <td>0.027414</td>\n",
       "      <td>0.007060</td>\n",
       "      <td>0.277313</td>\n",
       "      <td>0.551648</td>\n",
       "      <td>2.021855</td>\n",
       "      <td>45.491006</td>\n",
       "      <td>0.003003</td>\n",
       "      <td>0.017908</td>\n",
       "      <td>0.030186</td>\n",
       "      <td>0.006170</td>\n",
       "      <td>0.008266</td>\n",
       "      <td>0.002646</td>\n",
       "      <td>4.833242</td>\n",
       "      <td>6.146258</td>\n",
       "      <td>33.602542</td>\n",
       "      <td>569.356993</td>\n",
       "      <td>0.022832</td>\n",
       "      <td>0.157336</td>\n",
       "      <td>0.208624</td>\n",
       "      <td>0.065732</td>\n",
       "      <td>0.061867</td>\n",
       "      <td>0.018061</td>\n",
       "    </tr>\n",
       "    <tr>\n",
       "      <th>min</th>\n",
       "      <td>8.670000e+03</td>\n",
       "      <td>0.000000</td>\n",
       "      <td>6.981000</td>\n",
       "      <td>9.710000</td>\n",
       "      <td>43.790000</td>\n",
       "      <td>143.500000</td>\n",
       "      <td>0.052630</td>\n",
       "      <td>0.019380</td>\n",
       "      <td>0.000000</td>\n",
       "      <td>0.000000</td>\n",
       "      <td>0.106000</td>\n",
       "      <td>0.049960</td>\n",
       "      <td>0.111500</td>\n",
       "      <td>0.360200</td>\n",
       "      <td>0.757000</td>\n",
       "      <td>6.802000</td>\n",
       "      <td>0.001713</td>\n",
       "      <td>0.002252</td>\n",
       "      <td>0.000000</td>\n",
       "      <td>0.000000</td>\n",
       "      <td>0.007882</td>\n",
       "      <td>0.000895</td>\n",
       "      <td>7.930000</td>\n",
       "      <td>12.020000</td>\n",
       "      <td>50.410000</td>\n",
       "      <td>185.200000</td>\n",
       "      <td>0.071170</td>\n",
       "      <td>0.027290</td>\n",
       "      <td>0.000000</td>\n",
       "      <td>0.000000</td>\n",
       "      <td>0.156500</td>\n",
       "      <td>0.055040</td>\n",
       "    </tr>\n",
       "    <tr>\n",
       "      <th>25%</th>\n",
       "      <td>8.692180e+05</td>\n",
       "      <td>0.000000</td>\n",
       "      <td>11.700000</td>\n",
       "      <td>16.170000</td>\n",
       "      <td>75.170000</td>\n",
       "      <td>420.300000</td>\n",
       "      <td>0.086370</td>\n",
       "      <td>0.064920</td>\n",
       "      <td>0.029560</td>\n",
       "      <td>0.020310</td>\n",
       "      <td>0.161900</td>\n",
       "      <td>0.057700</td>\n",
       "      <td>0.232400</td>\n",
       "      <td>0.833900</td>\n",
       "      <td>1.606000</td>\n",
       "      <td>17.850000</td>\n",
       "      <td>0.005169</td>\n",
       "      <td>0.013080</td>\n",
       "      <td>0.015090</td>\n",
       "      <td>0.007638</td>\n",
       "      <td>0.015160</td>\n",
       "      <td>0.002248</td>\n",
       "      <td>13.010000</td>\n",
       "      <td>21.080000</td>\n",
       "      <td>84.110000</td>\n",
       "      <td>515.300000</td>\n",
       "      <td>0.116600</td>\n",
       "      <td>0.147200</td>\n",
       "      <td>0.114500</td>\n",
       "      <td>0.064930</td>\n",
       "      <td>0.250400</td>\n",
       "      <td>0.071460</td>\n",
       "    </tr>\n",
       "    <tr>\n",
       "      <th>50%</th>\n",
       "      <td>9.060240e+05</td>\n",
       "      <td>1.000000</td>\n",
       "      <td>13.370000</td>\n",
       "      <td>18.840000</td>\n",
       "      <td>86.240000</td>\n",
       "      <td>551.100000</td>\n",
       "      <td>0.095870</td>\n",
       "      <td>0.092630</td>\n",
       "      <td>0.061540</td>\n",
       "      <td>0.033500</td>\n",
       "      <td>0.179200</td>\n",
       "      <td>0.061540</td>\n",
       "      <td>0.324200</td>\n",
       "      <td>1.108000</td>\n",
       "      <td>2.287000</td>\n",
       "      <td>24.530000</td>\n",
       "      <td>0.006380</td>\n",
       "      <td>0.020450</td>\n",
       "      <td>0.025890</td>\n",
       "      <td>0.010930</td>\n",
       "      <td>0.018730</td>\n",
       "      <td>0.003187</td>\n",
       "      <td>14.970000</td>\n",
       "      <td>25.410000</td>\n",
       "      <td>97.660000</td>\n",
       "      <td>686.500000</td>\n",
       "      <td>0.131300</td>\n",
       "      <td>0.211900</td>\n",
       "      <td>0.226700</td>\n",
       "      <td>0.099930</td>\n",
       "      <td>0.282200</td>\n",
       "      <td>0.080040</td>\n",
       "    </tr>\n",
       "    <tr>\n",
       "      <th>75%</th>\n",
       "      <td>8.813129e+06</td>\n",
       "      <td>1.000000</td>\n",
       "      <td>15.780000</td>\n",
       "      <td>21.800000</td>\n",
       "      <td>104.100000</td>\n",
       "      <td>782.700000</td>\n",
       "      <td>0.105300</td>\n",
       "      <td>0.130400</td>\n",
       "      <td>0.130700</td>\n",
       "      <td>0.074000</td>\n",
       "      <td>0.195700</td>\n",
       "      <td>0.066120</td>\n",
       "      <td>0.478900</td>\n",
       "      <td>1.474000</td>\n",
       "      <td>3.357000</td>\n",
       "      <td>45.190000</td>\n",
       "      <td>0.008146</td>\n",
       "      <td>0.032450</td>\n",
       "      <td>0.042050</td>\n",
       "      <td>0.014710</td>\n",
       "      <td>0.023480</td>\n",
       "      <td>0.004558</td>\n",
       "      <td>18.790000</td>\n",
       "      <td>29.720000</td>\n",
       "      <td>125.400000</td>\n",
       "      <td>1084.000000</td>\n",
       "      <td>0.146000</td>\n",
       "      <td>0.339100</td>\n",
       "      <td>0.382900</td>\n",
       "      <td>0.161400</td>\n",
       "      <td>0.317900</td>\n",
       "      <td>0.092080</td>\n",
       "    </tr>\n",
       "    <tr>\n",
       "      <th>max</th>\n",
       "      <td>9.113205e+08</td>\n",
       "      <td>1.000000</td>\n",
       "      <td>28.110000</td>\n",
       "      <td>39.280000</td>\n",
       "      <td>188.500000</td>\n",
       "      <td>2501.000000</td>\n",
       "      <td>0.163400</td>\n",
       "      <td>0.345400</td>\n",
       "      <td>0.426800</td>\n",
       "      <td>0.201200</td>\n",
       "      <td>0.304000</td>\n",
       "      <td>0.097440</td>\n",
       "      <td>2.873000</td>\n",
       "      <td>4.885000</td>\n",
       "      <td>21.980000</td>\n",
       "      <td>542.200000</td>\n",
       "      <td>0.031130</td>\n",
       "      <td>0.135400</td>\n",
       "      <td>0.396000</td>\n",
       "      <td>0.052790</td>\n",
       "      <td>0.078950</td>\n",
       "      <td>0.029840</td>\n",
       "      <td>36.040000</td>\n",
       "      <td>49.540000</td>\n",
       "      <td>251.200000</td>\n",
       "      <td>4254.000000</td>\n",
       "      <td>0.222600</td>\n",
       "      <td>1.058000</td>\n",
       "      <td>1.252000</td>\n",
       "      <td>0.291000</td>\n",
       "      <td>0.663800</td>\n",
       "      <td>0.207500</td>\n",
       "    </tr>\n",
       "  </tbody>\n",
       "</table>\n",
       "</div>"
      ],
      "text/plain": [
       "                 ID   diagnosis  radius_mean  texture_mean  perimeter_mean  \\\n",
       "count  5.690000e+02  569.000000   569.000000    569.000000      569.000000   \n",
       "mean   3.037183e+07    0.627417    14.127292     19.289649       91.969033   \n",
       "std    1.250206e+08    0.483918     3.524049      4.301036       24.298981   \n",
       "min    8.670000e+03    0.000000     6.981000      9.710000       43.790000   \n",
       "25%    8.692180e+05    0.000000    11.700000     16.170000       75.170000   \n",
       "50%    9.060240e+05    1.000000    13.370000     18.840000       86.240000   \n",
       "75%    8.813129e+06    1.000000    15.780000     21.800000      104.100000   \n",
       "max    9.113205e+08    1.000000    28.110000     39.280000      188.500000   \n",
       "\n",
       "         area_mean  smoothness_mean  compactness_mean  concavity_mean  \\\n",
       "count   569.000000       569.000000        569.000000      569.000000   \n",
       "mean    654.889104         0.096360          0.104341        0.088799   \n",
       "std     351.914129         0.014064          0.052813        0.079720   \n",
       "min     143.500000         0.052630          0.019380        0.000000   \n",
       "25%     420.300000         0.086370          0.064920        0.029560   \n",
       "50%     551.100000         0.095870          0.092630        0.061540   \n",
       "75%     782.700000         0.105300          0.130400        0.130700   \n",
       "max    2501.000000         0.163400          0.345400        0.426800   \n",
       "\n",
       "       concave points_mean  symmetry _mean  fractal dimension_mean  \\\n",
       "count           569.000000      569.000000              569.000000   \n",
       "mean              0.048919        0.181162                0.062798   \n",
       "std               0.038803        0.027414                0.007060   \n",
       "min               0.000000        0.106000                0.049960   \n",
       "25%               0.020310        0.161900                0.057700   \n",
       "50%               0.033500        0.179200                0.061540   \n",
       "75%               0.074000        0.195700                0.066120   \n",
       "max               0.201200        0.304000                0.097440   \n",
       "\n",
       "       radius_std  texture_std  perimeter_std    area_std  smoothness_std  \\\n",
       "count  569.000000   569.000000     569.000000  569.000000      569.000000   \n",
       "mean     0.405172     1.216853       2.866059   40.337079        0.007041   \n",
       "std      0.277313     0.551648       2.021855   45.491006        0.003003   \n",
       "min      0.111500     0.360200       0.757000    6.802000        0.001713   \n",
       "25%      0.232400     0.833900       1.606000   17.850000        0.005169   \n",
       "50%      0.324200     1.108000       2.287000   24.530000        0.006380   \n",
       "75%      0.478900     1.474000       3.357000   45.190000        0.008146   \n",
       "max      2.873000     4.885000      21.980000  542.200000        0.031130   \n",
       "\n",
       "       compactness_std  concavity_std  concave points_std  symmetry _std  \\\n",
       "count       569.000000     569.000000          569.000000     569.000000   \n",
       "mean          0.025478       0.031894            0.011796       0.020542   \n",
       "std           0.017908       0.030186            0.006170       0.008266   \n",
       "min           0.002252       0.000000            0.000000       0.007882   \n",
       "25%           0.013080       0.015090            0.007638       0.015160   \n",
       "50%           0.020450       0.025890            0.010930       0.018730   \n",
       "75%           0.032450       0.042050            0.014710       0.023480   \n",
       "max           0.135400       0.396000            0.052790       0.078950   \n",
       "\n",
       "       fractal dimension_std  radius_worst  texture_worst  perimeter_worst  \\\n",
       "count             569.000000    569.000000     569.000000       569.000000   \n",
       "mean                0.003795     16.269190      25.677223       107.261213   \n",
       "std                 0.002646      4.833242       6.146258        33.602542   \n",
       "min                 0.000895      7.930000      12.020000        50.410000   \n",
       "25%                 0.002248     13.010000      21.080000        84.110000   \n",
       "50%                 0.003187     14.970000      25.410000        97.660000   \n",
       "75%                 0.004558     18.790000      29.720000       125.400000   \n",
       "max                 0.029840     36.040000      49.540000       251.200000   \n",
       "\n",
       "        area_worst  smoothness_worst  compactness_worst  concavity_worst  \\\n",
       "count   569.000000        569.000000         569.000000       569.000000   \n",
       "mean    880.583128          0.132369           0.254265         0.272188   \n",
       "std     569.356993          0.022832           0.157336         0.208624   \n",
       "min     185.200000          0.071170           0.027290         0.000000   \n",
       "25%     515.300000          0.116600           0.147200         0.114500   \n",
       "50%     686.500000          0.131300           0.211900         0.226700   \n",
       "75%    1084.000000          0.146000           0.339100         0.382900   \n",
       "max    4254.000000          0.222600           1.058000         1.252000   \n",
       "\n",
       "       concave points_worst  symmetry _worst  fractal dimension_worst  \n",
       "count            569.000000       569.000000               569.000000  \n",
       "mean               0.114606         0.290076                 0.083946  \n",
       "std                0.065732         0.061867                 0.018061  \n",
       "min                0.000000         0.156500                 0.055040  \n",
       "25%                0.064930         0.250400                 0.071460  \n",
       "50%                0.099930         0.282200                 0.080040  \n",
       "75%                0.161400         0.317900                 0.092080  \n",
       "max                0.291000         0.663800                 0.207500  "
      ]
     },
     "execution_count": 19,
     "metadata": {},
     "output_type": "execute_result"
    }
   ],
   "source": [
    "train.describe()"
   ]
  },
  {
   "cell_type": "markdown",
   "metadata": {},
   "source": [
    "特に問題はなさそうですね。　　"
   ]
  },
  {
   "cell_type": "markdown",
   "metadata": {},
   "source": [
    "## 3.1 フューチャースケーリング"
   ]
  },
  {
   "cell_type": "markdown",
   "metadata": {},
   "source": [
    "次はフューチャースケーリングをしていきましょう。\n",
    "\n",
    "フューチャースケーリングをする理由は2つあります。\n",
    "大きい値の範囲をとる特徴量に引きずられないようにします。  \n",
    "[0,10]での1と2の違いは1だけですが，[0,10000]での1の100の違いよりもずっと重要です。  \n",
    "すなわち，これらを対等に比較するために，それぞれの特徴量を同じ範囲にスケールしてあげる必要があります。\n",
    "\n",
    "カーネル関数は特徴ベクトルの内積を用いて計算するので，スケーリングを行わずに計算すると，大きい値×小さい値となり，情報落ちする可能性があります。\n",
    "\n",
    "今回使うSVMの分類は、数値が大きすぎると引っ張られてしまうので、標準化していきます。"
   ]
  },
  {
   "cell_type": "code",
   "execution_count": 20,
   "metadata": {
    "collapsed": true
   },
   "outputs": [],
   "source": [
    "def normalization(X):\n",
    "    norma = (X - X.mean()) / X.std()\n",
    "    return norma"
   ]
  },
  {
   "cell_type": "code",
   "execution_count": 21,
   "metadata": {
    "collapsed": true
   },
   "outputs": [],
   "source": [
    "target_train = train[\"diagnosis\"]\n",
    "train = normalization(train)\n",
    "train[\"diagnosis\"] = target_train"
   ]
  },
  {
   "cell_type": "code",
   "execution_count": 22,
   "metadata": {
    "collapsed": false
   },
   "outputs": [
    {
     "data": {
      "text/html": [
       "<div>\n",
       "<style scoped>\n",
       "    .dataframe tbody tr th:only-of-type {\n",
       "        vertical-align: middle;\n",
       "    }\n",
       "\n",
       "    .dataframe tbody tr th {\n",
       "        vertical-align: top;\n",
       "    }\n",
       "\n",
       "    .dataframe thead th {\n",
       "        text-align: right;\n",
       "    }\n",
       "</style>\n",
       "<table border=\"1\" class=\"dataframe\">\n",
       "  <thead>\n",
       "    <tr style=\"text-align: right;\">\n",
       "      <th></th>\n",
       "      <th>ID</th>\n",
       "      <th>diagnosis</th>\n",
       "      <th>radius_mean</th>\n",
       "      <th>texture_mean</th>\n",
       "      <th>perimeter_mean</th>\n",
       "      <th>area_mean</th>\n",
       "      <th>smoothness_mean</th>\n",
       "      <th>compactness_mean</th>\n",
       "      <th>concavity_mean</th>\n",
       "      <th>concave points_mean</th>\n",
       "      <th>symmetry _mean</th>\n",
       "      <th>fractal dimension_mean</th>\n",
       "      <th>radius_std</th>\n",
       "      <th>texture_std</th>\n",
       "      <th>perimeter_std</th>\n",
       "      <th>area_std</th>\n",
       "      <th>smoothness_std</th>\n",
       "      <th>compactness_std</th>\n",
       "      <th>concavity_std</th>\n",
       "      <th>concave points_std</th>\n",
       "      <th>symmetry _std</th>\n",
       "      <th>fractal dimension_std</th>\n",
       "      <th>radius_worst</th>\n",
       "      <th>texture_worst</th>\n",
       "      <th>perimeter_worst</th>\n",
       "      <th>area_worst</th>\n",
       "      <th>smoothness_worst</th>\n",
       "      <th>compactness_worst</th>\n",
       "      <th>concavity_worst</th>\n",
       "      <th>concave points_worst</th>\n",
       "      <th>symmetry _worst</th>\n",
       "      <th>fractal dimension_worst</th>\n",
       "    </tr>\n",
       "  </thead>\n",
       "  <tbody>\n",
       "    <tr>\n",
       "      <th>0</th>\n",
       "      <td>-0.236197</td>\n",
       "      <td>0</td>\n",
       "      <td>1.096100</td>\n",
       "      <td>-2.071512</td>\n",
       "      <td>1.268817</td>\n",
       "      <td>0.983510</td>\n",
       "      <td>1.567087</td>\n",
       "      <td>3.280628</td>\n",
       "      <td>2.650542</td>\n",
       "      <td>2.530249</td>\n",
       "      <td>2.215566</td>\n",
       "      <td>2.253764</td>\n",
       "      <td>2.487545</td>\n",
       "      <td>-0.564768</td>\n",
       "      <td>2.830540</td>\n",
       "      <td>2.485391</td>\n",
       "      <td>-0.213814</td>\n",
       "      <td>1.315704</td>\n",
       "      <td>0.723390</td>\n",
       "      <td>0.660239</td>\n",
       "      <td>1.147747</td>\n",
       "      <td>0.906286</td>\n",
       "      <td>1.885031</td>\n",
       "      <td>-1.358098</td>\n",
       "      <td>2.301575</td>\n",
       "      <td>1.999478</td>\n",
       "      <td>1.306537</td>\n",
       "      <td>2.614365</td>\n",
       "      <td>2.107672</td>\n",
       "      <td>2.294058</td>\n",
       "      <td>2.748204</td>\n",
       "      <td>1.935312</td>\n",
       "    </tr>\n",
       "    <tr>\n",
       "      <th>1</th>\n",
       "      <td>-0.236196</td>\n",
       "      <td>0</td>\n",
       "      <td>1.828212</td>\n",
       "      <td>-0.353322</td>\n",
       "      <td>1.684473</td>\n",
       "      <td>1.907030</td>\n",
       "      <td>-0.826235</td>\n",
       "      <td>-0.486643</td>\n",
       "      <td>-0.023825</td>\n",
       "      <td>0.547662</td>\n",
       "      <td>0.001391</td>\n",
       "      <td>-0.867889</td>\n",
       "      <td>0.498816</td>\n",
       "      <td>-0.875473</td>\n",
       "      <td>0.263095</td>\n",
       "      <td>0.741749</td>\n",
       "      <td>-0.604819</td>\n",
       "      <td>-0.692317</td>\n",
       "      <td>-0.440393</td>\n",
       "      <td>0.259933</td>\n",
       "      <td>-0.804742</td>\n",
       "      <td>-0.099356</td>\n",
       "      <td>1.804340</td>\n",
       "      <td>-0.368879</td>\n",
       "      <td>1.533776</td>\n",
       "      <td>1.888827</td>\n",
       "      <td>-0.375282</td>\n",
       "      <td>-0.430066</td>\n",
       "      <td>-0.146620</td>\n",
       "      <td>1.086129</td>\n",
       "      <td>-0.243675</td>\n",
       "      <td>0.280943</td>\n",
       "    </tr>\n",
       "    <tr>\n",
       "      <th>2</th>\n",
       "      <td>0.431362</td>\n",
       "      <td>0</td>\n",
       "      <td>1.578499</td>\n",
       "      <td>0.455786</td>\n",
       "      <td>1.565126</td>\n",
       "      <td>1.557513</td>\n",
       "      <td>0.941382</td>\n",
       "      <td>1.052000</td>\n",
       "      <td>1.362280</td>\n",
       "      <td>2.035440</td>\n",
       "      <td>0.938859</td>\n",
       "      <td>-0.397658</td>\n",
       "      <td>1.227596</td>\n",
       "      <td>-0.779398</td>\n",
       "      <td>0.850180</td>\n",
       "      <td>1.180298</td>\n",
       "      <td>-0.296744</td>\n",
       "      <td>0.814257</td>\n",
       "      <td>0.212889</td>\n",
       "      <td>1.423575</td>\n",
       "      <td>0.236827</td>\n",
       "      <td>0.293301</td>\n",
       "      <td>1.510541</td>\n",
       "      <td>-0.023953</td>\n",
       "      <td>1.346291</td>\n",
       "      <td>1.455004</td>\n",
       "      <td>0.526944</td>\n",
       "      <td>1.081980</td>\n",
       "      <td>0.854222</td>\n",
       "      <td>1.953282</td>\n",
       "      <td>1.151242</td>\n",
       "      <td>0.201214</td>\n",
       "    </tr>\n",
       "    <tr>\n",
       "      <th>3</th>\n",
       "      <td>0.431741</td>\n",
       "      <td>0</td>\n",
       "      <td>-0.768233</td>\n",
       "      <td>0.253509</td>\n",
       "      <td>-0.592166</td>\n",
       "      <td>-0.763792</td>\n",
       "      <td>3.280667</td>\n",
       "      <td>3.399917</td>\n",
       "      <td>1.914213</td>\n",
       "      <td>1.450431</td>\n",
       "      <td>2.864862</td>\n",
       "      <td>4.906602</td>\n",
       "      <td>0.326087</td>\n",
       "      <td>-0.110312</td>\n",
       "      <td>0.286341</td>\n",
       "      <td>-0.288125</td>\n",
       "      <td>0.689095</td>\n",
       "      <td>2.741868</td>\n",
       "      <td>0.818798</td>\n",
       "      <td>1.114027</td>\n",
       "      <td>4.728520</td>\n",
       "      <td>2.045711</td>\n",
       "      <td>-0.281217</td>\n",
       "      <td>0.133866</td>\n",
       "      <td>-0.249720</td>\n",
       "      <td>-0.549538</td>\n",
       "      <td>3.391291</td>\n",
       "      <td>3.889975</td>\n",
       "      <td>1.987839</td>\n",
       "      <td>2.173873</td>\n",
       "      <td>6.040726</td>\n",
       "      <td>4.930672</td>\n",
       "    </tr>\n",
       "    <tr>\n",
       "      <th>4</th>\n",
       "      <td>0.431821</td>\n",
       "      <td>0</td>\n",
       "      <td>1.748758</td>\n",
       "      <td>-1.150804</td>\n",
       "      <td>1.775011</td>\n",
       "      <td>1.824624</td>\n",
       "      <td>0.280125</td>\n",
       "      <td>0.538866</td>\n",
       "      <td>1.369806</td>\n",
       "      <td>1.427237</td>\n",
       "      <td>-0.009552</td>\n",
       "      <td>-0.561956</td>\n",
       "      <td>1.269426</td>\n",
       "      <td>-0.789549</td>\n",
       "      <td>1.272070</td>\n",
       "      <td>1.189310</td>\n",
       "      <td>1.481763</td>\n",
       "      <td>-0.048477</td>\n",
       "      <td>0.827742</td>\n",
       "      <td>1.143199</td>\n",
       "      <td>-0.360775</td>\n",
       "      <td>0.498889</td>\n",
       "      <td>1.297434</td>\n",
       "      <td>-1.465481</td>\n",
       "      <td>1.337363</td>\n",
       "      <td>1.219651</td>\n",
       "      <td>0.220362</td>\n",
       "      <td>-0.313119</td>\n",
       "      <td>0.612640</td>\n",
       "      <td>0.728618</td>\n",
       "      <td>-0.867590</td>\n",
       "      <td>-0.396751</td>\n",
       "    </tr>\n",
       "  </tbody>\n",
       "</table>\n",
       "</div>"
      ],
      "text/plain": [
       "         ID  diagnosis  radius_mean  texture_mean  perimeter_mean  area_mean  \\\n",
       "0 -0.236197          0     1.096100     -2.071512        1.268817   0.983510   \n",
       "1 -0.236196          0     1.828212     -0.353322        1.684473   1.907030   \n",
       "2  0.431362          0     1.578499      0.455786        1.565126   1.557513   \n",
       "3  0.431741          0    -0.768233      0.253509       -0.592166  -0.763792   \n",
       "4  0.431821          0     1.748758     -1.150804        1.775011   1.824624   \n",
       "\n",
       "   smoothness_mean  compactness_mean  concavity_mean  concave points_mean  \\\n",
       "0         1.567087          3.280628        2.650542             2.530249   \n",
       "1        -0.826235         -0.486643       -0.023825             0.547662   \n",
       "2         0.941382          1.052000        1.362280             2.035440   \n",
       "3         3.280667          3.399917        1.914213             1.450431   \n",
       "4         0.280125          0.538866        1.369806             1.427237   \n",
       "\n",
       "   symmetry _mean  fractal dimension_mean  radius_std  texture_std  \\\n",
       "0        2.215566                2.253764    2.487545    -0.564768   \n",
       "1        0.001391               -0.867889    0.498816    -0.875473   \n",
       "2        0.938859               -0.397658    1.227596    -0.779398   \n",
       "3        2.864862                4.906602    0.326087    -0.110312   \n",
       "4       -0.009552               -0.561956    1.269426    -0.789549   \n",
       "\n",
       "   perimeter_std  area_std  smoothness_std  compactness_std  concavity_std  \\\n",
       "0       2.830540  2.485391       -0.213814         1.315704       0.723390   \n",
       "1       0.263095  0.741749       -0.604819        -0.692317      -0.440393   \n",
       "2       0.850180  1.180298       -0.296744         0.814257       0.212889   \n",
       "3       0.286341 -0.288125        0.689095         2.741868       0.818798   \n",
       "4       1.272070  1.189310        1.481763        -0.048477       0.827742   \n",
       "\n",
       "   concave points_std  symmetry _std  fractal dimension_std  radius_worst  \\\n",
       "0            0.660239       1.147747               0.906286      1.885031   \n",
       "1            0.259933      -0.804742              -0.099356      1.804340   \n",
       "2            1.423575       0.236827               0.293301      1.510541   \n",
       "3            1.114027       4.728520               2.045711     -0.281217   \n",
       "4            1.143199      -0.360775               0.498889      1.297434   \n",
       "\n",
       "   texture_worst  perimeter_worst  area_worst  smoothness_worst  \\\n",
       "0      -1.358098         2.301575    1.999478          1.306537   \n",
       "1      -0.368879         1.533776    1.888827         -0.375282   \n",
       "2      -0.023953         1.346291    1.455004          0.526944   \n",
       "3       0.133866        -0.249720   -0.549538          3.391291   \n",
       "4      -1.465481         1.337363    1.219651          0.220362   \n",
       "\n",
       "   compactness_worst  concavity_worst  concave points_worst  symmetry _worst  \\\n",
       "0           2.614365         2.107672              2.294058         2.748204   \n",
       "1          -0.430066        -0.146620              1.086129        -0.243675   \n",
       "2           1.081980         0.854222              1.953282         1.151242   \n",
       "3           3.889975         1.987839              2.173873         6.040726   \n",
       "4          -0.313119         0.612640              0.728618        -0.867590   \n",
       "\n",
       "   fractal dimension_worst  \n",
       "0                 1.935312  \n",
       "1                 0.280943  \n",
       "2                 0.201214  \n",
       "3                 4.930672  \n",
       "4                -0.396751  "
      ]
     },
     "execution_count": 22,
     "metadata": {},
     "output_type": "execute_result"
    }
   ],
   "source": [
    "train.head()"
   ]
  },
  {
   "cell_type": "markdown",
   "metadata": {},
   "source": [
    "次に今回の目的変数の乳がん(diagnosis)と相関を見ていきましょう。"
   ]
  },
  {
   "cell_type": "code",
   "execution_count": 23,
   "metadata": {
    "collapsed": false
   },
   "outputs": [
    {
     "data": {
      "image/png": "[encoded data removed]",
      "text/plain": [
       "<matplotlib.figure.Figure at 0x115c1a6d8>"
      ]
     },
     "metadata": {},
     "output_type": "display_data"
    }
   ],
   "source": [
    "plt.figure(figsize=(20, 10))\n",
    "\n",
    "sns.heatmap(train.corr(),square=True)\n",
    "\n",
    "plt.show()"
   ]
  },
  {
   "cell_type": "code",
   "execution_count": 24,
   "metadata": {
    "collapsed": false
   },
   "outputs": [
    {
     "data": {
      "text/plain": [
       "concave points_worst      -0.793566\n",
       "perimeter_worst           -0.782914\n",
       "concave points_mean       -0.776614\n",
       "radius_worst              -0.776454\n",
       "perimeter_mean            -0.742636\n",
       "area_worst                -0.733825\n",
       "radius_mean               -0.730029\n",
       "area_mean                 -0.708984\n",
       "concavity_mean            -0.696360\n",
       "concavity_worst           -0.659610\n",
       "compactness_mean          -0.596534\n",
       "compactness_worst         -0.590998\n",
       "radius_std                -0.567134\n",
       "perimeter_std             -0.556141\n",
       "area_std                  -0.548236\n",
       "texture_worst             -0.456903\n",
       "smoothness_worst          -0.421465\n",
       "symmetry _worst           -0.416294\n",
       "texture_mean              -0.415185\n",
       "concave points_std        -0.408042\n",
       "smoothness_mean           -0.358560\n",
       "symmetry _mean            -0.330499\n",
       "fractal dimension_worst   -0.323872\n",
       "compactness_std           -0.292999\n",
       "concavity_std             -0.253730\n",
       "fractal dimension_std     -0.077972\n",
       "ID                        -0.039769\n",
       "symmetry _std              0.006522\n",
       "texture_std                0.008303\n",
       "fractal dimension_mean     0.012838\n",
       "smoothness_std             0.067016\n",
       "diagnosis                  1.000000\n",
       "Name: diagnosis, dtype: float64"
      ]
     },
     "execution_count": 24,
     "metadata": {},
     "output_type": "execute_result"
    }
   ],
   "source": [
    "train.corr().diagnosis.sort_values()"
   ]
  },
  {
   "cell_type": "markdown",
   "metadata": {},
   "source": [
    "負の相関が大きいものがわかりました。"
   ]
  },
  {
   "cell_type": "markdown",
   "metadata": {},
   "source": [
    "# 3.2不均衡データ問題\n",
    "今回のカーネルでは分類を扱います。  \n",
    "今あるデータが１：１のデータになっていない場合もあります。  \n",
    "実世界の問題は，99%と1%といったように，クラスのデータ数に大きく差が開いている場合がよくあります。  \n",
    "例えば重病患者とそうでない人を分類したいなどの場合は，クラスのデータ数にかなりの偏りが生じ，予測精度が大きく低下してしまいます。\n",
    "\n",
    "実際にターゲットがどの様になっているか確認していきましょう。\n"
   ]
  },
  {
   "cell_type": "code",
   "execution_count": 25,
   "metadata": {
    "collapsed": false
   },
   "outputs": [
    {
     "data": {
      "text/plain": [
       "<matplotlib.text.Text at 0x11ebb3438>"
      ]
     },
     "execution_count": 25,
     "metadata": {},
     "output_type": "execute_result"
    },
    {
     "data": {
      "image/png": "[encoded data removed]",
      "text/plain": [
       "<matplotlib.figure.Figure at 0x115dd5b38>"
      ]
     },
     "metadata": {},
     "output_type": "display_data"
    }
   ],
   "source": [
    "pd.DataFrame([sum(train[\"diagnosis\"] == 0),sum(train[\"diagnosis\"] == 1)]).plot.bar()\n",
    "plt.title(\"len_Outcom\")"
   ]
  },
  {
   "cell_type": "markdown",
   "metadata": {},
   "source": [
    "SVMを使う際不均衡データの解決方法は以下があります。\n",
    "\n",
    "### パラメータC(コスト)を大きくする\n",
    "\n",
    "パラメータのところで紹介したパラメータCを大きくすることで，誤りに厳しくすることができます。  \n",
    "svmでは，全体のコストをオプションで設定できる他に，各クラスごとのパラメータを設定することができます。    \n",
    "上記の 0:約１５０件 と 1:約５０件 の場合，1のクラスのコストをより大きくしたいので，設定することで 1クラスに対して誤りを厳しくすることができます。\n",
    "\n",
    "### データ数をそろえる\n",
    "\n",
    "データ数が揃っていないなら揃えましょう．以下に3つの揃え方をあげます。  \n",
    "大きい方のクラスを小さい方のクラスにそろえる(アンダーサンプリング)  \n",
    "大きい方のクラスのデータ数を減らします．この際，ランダムにサンプリングしてしまうと，偏りなくデータを残すことができない可能性があります．なので，クラス内のデータをクラスタリングし，それぞれから一定数サンプリングする，といった方法がよくとられます。  \n",
    "小さい方のクラスを大きい方のクラスにそろえる(オーバーサンプリング)  \n",
    "上記とは逆で，小さい方のクラスのデータ数を増やします．単にデータを複製すると過学習をおこしやすいので，k-NNなどを用いて人工的に 捏造 する方法がよくとられます。  \n",
    "アンダーサンプリングとオーバーサンプリングを組み合わせる(ハイブリッド)\n",
    "これらの両方を用いて揃えます．SMOTEというアルゴリズムが有名なので，興味のある人は調べてみて下さい。  \n",
    "だたSMOTEは少し古く，最近はよりよい手法が提案されています。\n"
   ]
  },
  {
   "cell_type": "markdown",
   "metadata": {},
   "source": [
    "次に使うデータを作っていきましょう。"
   ]
  },
  {
   "cell_type": "markdown",
   "metadata": {},
   "source": [
    "# データを分ける\n",
    "ヒートマップを見てわかった相関の大きいものを学習していきましょう。"
   ]
  },
  {
   "cell_type": "code",
   "execution_count": 26,
   "metadata": {
    "collapsed": false
   },
   "outputs": [],
   "source": [
    "x_trains = train[[\"concave points_worst\",\"perimeter_worst\",\"concave points_mean\",\"radius_worst\"]]\n",
    "y_trains = train.diagnosis"
   ]
  },
  {
   "cell_type": "code",
   "execution_count": 27,
   "metadata": {
    "collapsed": false
   },
   "outputs": [],
   "source": [
    "plt_train = train[[\"diagnosis\",\"concave points_worst\",\"perimeter_worst\",\"concave points_mean\",\"radius_worst\"]]"
   ]
  },
  {
   "cell_type": "markdown",
   "metadata": {},
   "source": [
    "今回使う特徴のプロットを見ましょう。"
   ]
  },
  {
   "cell_type": "code",
   "execution_count": 28,
   "metadata": {
    "collapsed": false
   },
   "outputs": [
    {
     "data": {
      "text/plain": [
       "<seaborn.axisgrid.PairGrid at 0x11ec002b0>"
      ]
     },
     "execution_count": 28,
     "metadata": {},
     "output_type": "execute_result"
    },
    {
     "data": {
      "image/png": "[encoded data removed]",
      "text/plain": [
       "<matplotlib.figure.Figure at 0x11ec00278>"
      ]
     },
     "metadata": {},
     "output_type": "display_data"
    }
   ],
   "source": [
    "sns.pairplot(plt_train, hue='diagnosis',vars=[\"concave points_worst\",\"perimeter_worst\",\"concave points_mean\",\"radius_worst\"])"
   ]
  },
  {
   "cell_type": "markdown",
   "metadata": {},
   "source": [
    "# 4.SVMのスクラッチ"
   ]
  },
  {
   "cell_type": "code",
   "execution_count": 124,
   "metadata": {
    "collapsed": true
   },
   "outputs": [],
   "source": [
    "# w 重みベクトル　b　バイアス（傾き）\n",
    "def sign(x,w,b):\n",
    "    sig = np.dot(x,w.T) + b\n",
    "    return sign\n",
    "    \n",
    "def f(x,w,b):\n",
    "    sig = np.dot(x,w.T) + b\n",
    "    y = []\n",
    "    for i in sig:\n",
    "        if i.sum() >= 0:\n",
    "            y.append(1)\n",
    "        elif i.sum() <0:\n",
    "            y.append(-1)\n",
    "    \n",
    "    return np.array([y])\n",
    "    "
   ]
  },
  {
   "cell_type": "code",
   "execution_count": 125,
   "metadata": {
    "collapsed": false
   },
   "outputs": [],
   "source": [
    "# # クラス分ベクトルを作る\n",
    "# #該当ラベルだけ外す\n",
    "# def score(x,w):\n",
    "#     return np.dot(x,w.T)\n",
    "\n",
    "\n",
    "# #該当ラベルだけ外す\n",
    "# delta = 0.5\n",
    "# def loss(x,y,w):\n",
    "#     loss = 0\n",
    "#     #s = score(x,w)\n",
    "    \n",
    "#     for i in range(x.shape[0]):\n",
    "#         s = score(x[i],w)\n",
    "#         correct_class_score = y[i]\n",
    "#         for j in range(w.shape[0]):\n",
    "#             if j == y[i]:\n",
    "#                 continue  \n",
    "#             margen = max([0,s[j] - correct_class_score + delta])\n",
    "#             loss += margen\n",
    "#     return loss"
   ]
  },
  {
   "cell_type": "code",
   "execution_count": 126,
   "metadata": {
    "collapsed": true
   },
   "outputs": [],
   "source": [
    "def gradient_descent(x, y, theta, iterations, alpha = 0.1):\n",
    "    \"\"\"\n",
    "    args:\n",
    "      alpha: Step size/Learning rate\n",
    "      iterations: No. of iterations(Number of iterations)\n",
    "    \"\"\"\n",
    "    x = np.array(x)\n",
    "    y = np.array(y)\n",
    "    past_costs = []\n",
    "    past_thetas = []\n",
    "    J = loss(x,y,theta)\n",
    "    past_costs.append(J)\n",
    "    past_thetas.append(theta)\n",
    "    for i in range(iterations):\n",
    "        h = f(x,theta,0.5)\n",
    "        theta = theta - alpha *(1/len(y))*(x.T.dot(h-y))\n",
    "        cost = (loss(x,y,theta))\n",
    "        past_costs.append(cost)\n",
    "        past_thetas.append(theta)\n",
    "\n",
    "    return past_thetas,past_costs"
   ]
  },
  {
   "cell_type": "code",
   "execution_count": 127,
   "metadata": {
    "collapsed": true
   },
   "outputs": [],
   "source": [
    "# クラス分ベクトルを作る\n",
    "#該当ラベルだけ外す\n",
    "def score(x,w):\n",
    "    return np.dot(x,w.T)\n",
    "\n",
    "\n",
    "#該当ラベルだけ外す\n",
    "delta = 0.5\n",
    "def loss(x,y,w):\n",
    "    loss = 0\n",
    "    s = score(x,w)\n",
    "    for i in range(x.shape[0]):\n",
    "        correct_class_score = y[i]\n",
    "        for j in range(w.shape[0]):\n",
    "            if j == y[i]:\n",
    "                continue  \n",
    "            margen = max([0,s[j][1] - s[j][0] + delta])\n",
    "            loss += margen\n",
    "    return loss"
   ]
  },
  {
   "cell_type": "code",
   "execution_count": 128,
   "metadata": {
    "collapsed": false
   },
   "outputs": [
    {
     "data": {
      "text/plain": [
       "3.0"
      ]
     },
     "execution_count": 128,
     "metadata": {},
     "output_type": "execute_result"
    }
   ],
   "source": [
    "#x = np.array([[2,-3],[4,5],[-6,-8],[2,6],[-3,2]])\n",
    "\n",
    "x = np.array([[1,1],[-1,-1],[2,2]])\n",
    "y = np.array([1,0,1])\n",
    "w = np.array([[0.5,0.5],[1,1]])\n",
    "b = 0.01\n",
    "loss(x,y,w)"
   ]
  },
  {
   "cell_type": "code",
   "execution_count": 129,
   "metadata": {
    "collapsed": false
   },
   "outputs": [
    {
     "data": {
      "text/plain": [
       "array([[ 1, -1,  1]])"
      ]
     },
     "execution_count": 129,
     "metadata": {},
     "output_type": "execute_result"
    }
   ],
   "source": [
    "f(x,w,b)"
   ]
  },
  {
   "cell_type": "code",
   "execution_count": 130,
   "metadata": {
    "collapsed": false
   },
   "outputs": [
    {
     "ename": "ValueError",
     "evalue": "shapes (2,3) and (1,3) not aligned: 3 (dim 1) != 1 (dim 0)",
     "output_type": "error",
     "traceback": [
      "\u001b[0;31m---------------------------------------------------------------------------\u001b[0m",
      "\u001b[0;31mValueError\u001b[0m                                Traceback (most recent call last)",
      "\u001b[0;32m<ipython-input-130-7a529415aa4b>\u001b[0m in \u001b[0;36m<module>\u001b[0;34m()\u001b[0m\n\u001b[0;32m----> 1\u001b[0;31m \u001b[0mgradient_descent\u001b[0m\u001b[0;34m(\u001b[0m\u001b[0mx\u001b[0m\u001b[0;34m,\u001b[0m \u001b[0my\u001b[0m\u001b[0;34m,\u001b[0m \u001b[0mw\u001b[0m\u001b[0;34m,\u001b[0m\u001b[0;36m100\u001b[0m\u001b[0;34m,\u001b[0m \u001b[0malpha\u001b[0m \u001b[0;34m=\u001b[0m \u001b[0;36m0.1\u001b[0m\u001b[0;34m)\u001b[0m\u001b[0;34m\u001b[0m\u001b[0m\n\u001b[0m",
      "\u001b[0;32m<ipython-input-126-c48186a0effd>\u001b[0m in \u001b[0;36mgradient_descent\u001b[0;34m(x, y, theta, iterations, alpha)\u001b[0m\n\u001b[1;32m     14\u001b[0m     \u001b[0;32mfor\u001b[0m \u001b[0mi\u001b[0m \u001b[0;32min\u001b[0m \u001b[0mrange\u001b[0m\u001b[0;34m(\u001b[0m\u001b[0miterations\u001b[0m\u001b[0;34m)\u001b[0m\u001b[0;34m:\u001b[0m\u001b[0;34m\u001b[0m\u001b[0m\n\u001b[1;32m     15\u001b[0m         \u001b[0mh\u001b[0m \u001b[0;34m=\u001b[0m \u001b[0mf\u001b[0m\u001b[0;34m(\u001b[0m\u001b[0mx\u001b[0m\u001b[0;34m,\u001b[0m\u001b[0mtheta\u001b[0m\u001b[0;34m,\u001b[0m\u001b[0;36m0.5\u001b[0m\u001b[0;34m)\u001b[0m\u001b[0;34m\u001b[0m\u001b[0m\n\u001b[0;32m---> 16\u001b[0;31m         \u001b[0mtheta\u001b[0m \u001b[0;34m=\u001b[0m \u001b[0mtheta\u001b[0m \u001b[0;34m-\u001b[0m \u001b[0malpha\u001b[0m \u001b[0;34m*\u001b[0m\u001b[0;34m(\u001b[0m\u001b[0;36m1\u001b[0m\u001b[0;34m/\u001b[0m\u001b[0mlen\u001b[0m\u001b[0;34m(\u001b[0m\u001b[0my\u001b[0m\u001b[0;34m)\u001b[0m\u001b[0;34m)\u001b[0m\u001b[0;34m*\u001b[0m\u001b[0;34m(\u001b[0m\u001b[0mx\u001b[0m\u001b[0;34m.\u001b[0m\u001b[0mT\u001b[0m\u001b[0;34m.\u001b[0m\u001b[0mdot\u001b[0m\u001b[0;34m(\u001b[0m\u001b[0mh\u001b[0m\u001b[0;34m-\u001b[0m\u001b[0my\u001b[0m\u001b[0;34m)\u001b[0m\u001b[0;34m)\u001b[0m\u001b[0;34m\u001b[0m\u001b[0m\n\u001b[0m\u001b[1;32m     17\u001b[0m         \u001b[0mcost\u001b[0m \u001b[0;34m=\u001b[0m \u001b[0;34m(\u001b[0m\u001b[0mloss\u001b[0m\u001b[0;34m(\u001b[0m\u001b[0mx\u001b[0m\u001b[0;34m,\u001b[0m\u001b[0my\u001b[0m\u001b[0;34m,\u001b[0m\u001b[0mtheta\u001b[0m\u001b[0;34m)\u001b[0m\u001b[0;34m)\u001b[0m\u001b[0;34m\u001b[0m\u001b[0m\n\u001b[1;32m     18\u001b[0m         \u001b[0mpast_costs\u001b[0m\u001b[0;34m.\u001b[0m\u001b[0mappend\u001b[0m\u001b[0;34m(\u001b[0m\u001b[0mcost\u001b[0m\u001b[0;34m)\u001b[0m\u001b[0;34m\u001b[0m\u001b[0m\n",
      "\u001b[0;31mValueError\u001b[0m: shapes (2,3) and (1,3) not aligned: 3 (dim 1) != 1 (dim 0)"
     ]
    }
   ],
   "source": [
    "gradient_descent(x, y, w,100, alpha = 0.1)"
   ]
  },
  {
   "cell_type": "code",
   "execution_count": null,
   "metadata": {
    "collapsed": false
   },
   "outputs": [],
   "source": [
    "x.shape[0]"
   ]
  },
  {
   "cell_type": "code",
   "execution_count": null,
   "metadata": {
    "collapsed": false
   },
   "outputs": [],
   "source": [
    "plt.scatter(x.T[0],x.T[1])"
   ]
  },
  {
   "cell_type": "code",
   "execution_count": null,
   "metadata": {
    "collapsed": false
   },
   "outputs": [],
   "source": [
    "sign(x,w,b)"
   ]
  },
  {
   "cell_type": "code",
   "execution_count": null,
   "metadata": {
    "collapsed": false
   },
   "outputs": [],
   "source": [
    "for i in xrange(num_train):\n",
    "    scores = X[i].dot(W)\n",
    "    correct_class_score = scores[y[i]]\n",
    "    for j in xrange(num_classes):\n",
    "      if j == y[i]:\n",
    "        continue\n",
    "      margin = scores[j] - correct_class_score + 1 # note delta = 1\n",
    "      if margin > 0:\n",
    "        loss += margin\n",
    "        dW[:,j] += X[i]\n",
    "        dW[:,y[i]] -= X[i] "
   ]
  },
  {
   "cell_type": "code",
   "execution_count": null,
   "metadata": {
    "collapsed": false
   },
   "outputs": [],
   "source": [
    "np.__file__"
   ]
  },
  {
   "cell_type": "code",
   "execution_count": null,
   "metadata": {
    "collapsed": true
   },
   "outputs": [],
   "source": [
    "def gradient_descent(x, y, theta, iterations, alpha = 0.1):\n",
    "    \"\"\"\n",
    "    args:\n",
    "      alpha: Step size/Learning rate\n",
    "      iterations: No. of iterations(Number of iterations)\n",
    "    \"\"\"\n",
    "    x = np.array(x)\n",
    "    y = np.array(y)\n",
    "    past_costs = []\n",
    "    past_thetas = []\n",
    "    J = compute_cost(x,y,theta,alpha)\n",
    "    past_costs.append(J)\n",
    "    past_thetas.append(theta)\n",
    "    for i in range(iterations):\n",
    "        h = sigmoid(x,theta)\n",
    "        theta = theta - alpha *(1/len(y))*(x.T.dot(h-y))\n",
    "        cost = (compute_cost(x,y,theta,alpha))\n",
    "        past_costs.append(cost)\n",
    "        past_thetas.append(theta)\n",
    "\n",
    "    return past_thetas,past_costs"
   ]
  },
  {
   "cell_type": "code",
   "execution_count": 145,
   "metadata": {
    "collapsed": false
   },
   "outputs": [
    {
     "name": "stdout",
     "output_type": "stream",
     "text": [
      "[0. 0. 0. 0. 0. 0. 0. 0. 0. 0. 0. 0. 0. 0. 0. 0. 0. 0. 0. 0. 0. 0. 0. 0.\n",
      " 0. 0. 0. 0. 0. 0.]\n"
     ]
    }
   ],
   "source": [
    "import numpy\n",
    "from matplotlib import pyplot\n",
    "import sys\n",
    "\n",
    "def f(x, y):\n",
    "    return x - y\n",
    "\n",
    "if __name__ == '__main__':\n",
    "\n",
    "    param = sys.argv\n",
    "\n",
    "    numpy.random.seed()\n",
    "    N = 30\n",
    "    d = 2\n",
    "    X = numpy.random.randn(N, d)\n",
    "    T = numpy.array([1 if f(x, y) > 0 else - 1 for x, y in X])\n",
    "    alpha = numpy.zeros(N)\n",
    "    print(alpha)\n",
    "    beta = 1.0\n",
    "    eta_al = 0.0001 # update ratio of alpha\n",
    "    eta_be = 0.1 # update ratio of beta\n",
    "    itr = 1000\n",
    "\n",
    "    for _itr in range(itr):\n",
    "        for i in range(N):\n",
    "            delta = 1 - (T[i] * X[i]).dot(alpha * T * X.T).sum() - beta * T[i] * alpha.dot(T)\n",
    "            alpha[i] += eta_al * delta\n",
    "        for i in range(N):\n",
    "            beta += eta_be * alpha.dot(T) ** 2 / 2\n",
    "\n",
    "    index = alpha > 0\n",
    "    w = (alpha * T).T.dot(X)\n",
    "    b = (T[index] - X[index].dot(w)).mean()\n",
    "\n",
    "    if '-d' in param or '-s' in param:\n",
    "        seq = numpy.arange(-3, 3, 0.02)\n",
    "        pyplot.figure(figsize = (6, 6))\n",
    "        pyplot.xlim(-3, 3)\n",
    "        pyplot.ylim(-3, 3)\n",
    "        pyplot.plot(seq, -(w[0] * seq + b) / w[1], 'k-')\n",
    "        pyplot.plot(X[T ==  1,0], X[T ==  1,1], 'ro')\n",
    "        pyplot.plot(X[T == -1,0], X[T == -1,1], 'bo')\n",
    "\n",
    "        if '-s' in param:\n",
    "            pyplot.savefig('graph.png')\n",
    "\n",
    "        if '-d' in param:\n",
    "            pyplot.show()"
   ]
  },
  {
   "cell_type": "code",
   "execution_count": 139,
   "metadata": {
    "collapsed": true
   },
   "outputs": [],
   "source": [
    "def f(x, y):\n",
    "    return x - y"
   ]
  },
  {
   "cell_type": "code",
   "execution_count": 161,
   "metadata": {
    "collapsed": false
   },
   "outputs": [],
   "source": [
    "param = sys.argv\n",
    "\n",
    "numpy.random.seed()\n",
    "N = 30\n",
    "d = 2\n",
    "X = numpy.random.randn(N, d)\n",
    "T = numpy.array([1 if f(x, y) > 0 else - 1 for x, y in X])\n",
    "alpha = numpy.zeros(N)\n",
    "\n",
    "beta = 1.0\n",
    "eta_al = 0.0001\n",
    "itr = 10\n",
    "\n",
    "for _itr in range(itr):\n",
    "    for i in range(N):\n",
    "        delta = 1 - (T[i] * X[i]).dot(alpha * T * X.T).sum() - beta * T[i] * alpha.dot(T)\n",
    "        alpha[i] += eta_al * delta\n",
    "    for i in range(N):\n",
    "        beta += eta_be * alpha.dot(T) ** 2 / 2\n",
    "\n",
    "index = alpha > 0\n",
    "w = (alpha * T).T.dot(X)\n",
    "b = (T[index] - X[index].dot(w)).mean()"
   ]
  },
  {
   "cell_type": "code",
   "execution_count": 164,
   "metadata": {
    "collapsed": false
   },
   "outputs": [
    {
     "data": {
      "text/plain": [
       "0.9685565992221861"
      ]
     },
     "execution_count": 164,
     "metadata": {},
     "output_type": "execute_result"
    }
   ],
   "source": [
    "delta"
   ]
  },
  {
   "cell_type": "code",
   "execution_count": 165,
   "metadata": {
    "collapsed": false
   },
   "outputs": [
    {
     "data": {
      "text/plain": [
       "array([0.00096473, 0.00098401, 0.00098603, 0.00099219, 0.00099452,\n",
       "       0.00098864, 0.00097116, 0.00099521, 0.00100396, 0.00097609,\n",
       "       0.00096944, 0.0009712 , 0.00099593, 0.00099421, 0.000971  ,\n",
       "       0.00098508, 0.000978  , 0.00097805, 0.00097255, 0.0009917 ,\n",
       "       0.0009871 , 0.00097487, 0.0010024 , 0.00099041, 0.0009822 ,\n",
       "       0.00097233, 0.00099929, 0.0009905 , 0.00098992, 0.00098266])"
      ]
     },
     "execution_count": 165,
     "metadata": {},
     "output_type": "execute_result"
    }
   ],
   "source": [
    "alpha"
   ]
  },
  {
   "cell_type": "code",
   "execution_count": 160,
   "metadata": {
    "collapsed": false
   },
   "outputs": [
    {
     "data": {
      "text/plain": [
       "-0.003471044372999351"
      ]
     },
     "execution_count": 160,
     "metadata": {},
     "output_type": "execute_result"
    }
   ],
   "source": []
  },
  {
   "cell_type": "code",
   "execution_count": null,
   "metadata": {
    "collapsed": true
   },
   "outputs": [],
   "source": []
  }
 ],
 "metadata": {
  "kernelspec": {
   "display_name": "Python 3",
   "language": "python",
   "name": "python3"
  },
  "language_info": {
   "codemirror_mode": {
    "name": "ipython",
    "version": 3
   },
   "file_extension": ".py",
   "mimetype": "text/x-python",
   "name": "python",
   "nbconvert_exporter": "python",
   "pygments_lexer": "ipython3",
   "version": "3.6.0"
  }
 },
 "nbformat": 4,
 "nbformat_minor": 2
}
