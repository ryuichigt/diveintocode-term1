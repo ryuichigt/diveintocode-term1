{
 "cells": [
  {
   "cell_type": "markdown",
   "metadata": {},
   "source": [
    "# Breast Cancer Wisconsin"
   ]
  },
  {
   "cell_type": "markdown",
   "metadata": {},
   "source": [
    "## 前書き\n",
    "\n",
    "特徴は、乳房塊の微細針吸引物（FNA）のデジタル化画像から計算される。  \n",
    "それらは画像中に存在する細胞核の特徴を記述する。\n",
    "\n",
    "上述の分離平面は、マルチサーフェス法 - ツリー（MSM-T）[K. P. Bennett、「線形計画法による意思決定ツリー構築」第4回中西部人工知能・認知科学会予稿集、pp。97-101、1992]、線形計画法を用いて決定木を構成する分類法。関連する特徴は、1~4個の特徴と1-3個の分離平面の空間内の徹底的な探索を用いて選択された。  \n",
    "\n",
    "3次元空間における分離平面を得るために使用される実際の線形プログラムは、[K. P. BennettおよびO.L. Mangasarian： \"2つの線形に分離不能なセットの堅牢な線形計画法の弁別\"、Optimization Methods and Software 1、1992,23-34]。  \n",
    "\n",
    "\n",
    "## 事前知識\n",
    "\n",
    "**SVM**とは、教師あり学習を用いるパターン認識モデルの一つです。  \n",
    "簡単に言うと「データ間の境界を決定する」学習器です。  \n",
    "分類や回帰へ適用できます。  \n",
    "SVMを理解するには名前の由来でもあるサポートベクトルを理解しないといけません。  \n",
    "**サポートベクトル**とは、「予測に必要となる一部のデータ」です。  \n",
    "では「予測に必要となる一部のデータ」はどのようにして決められるのかと言いますと、**「マージン最大化」**と呼ばれる考え方を使います。  \n",
    "SVMでは，学習データの中で最も他クラスと近い位置にいるもの(これをサポートベクトルと呼ぶ)を基準として，そのユークリッド距離が最も大きくなるような位置に識別境界を設定する。  \n",
    "つまり，クラスの最端から他クラスまでのマージンを最大にするようにするのが、マージン最大化と呼ばれるものです。  \n",
    "このマージンの最大化と言う考え方がロジスティック回帰や線形回帰と大きく違い、他のアルゴリズムと比べ精度の高い分類ができるとされています。  \n",
    "またSVMにおけるカーネルとは、データが複雑な場合（非線形問題の場合）は高次元空間へと移し分類することで対応します。  \n",
    "その手法（アルゴリズム）の事をカーネルと呼び、SVMに用意されているカーネルとしてlinear（線形カーネル）、poly（多項式カーネル）、rbf（RBFカーネル）、sigmoid（シグモイドカーネル）、precomputed（事前に計算したものを利用する）\n",
    "があります。\n",
    "\n"
   ]
  },
  {
   "cell_type": "markdown",
   "metadata": {},
   "source": [
    "# 1.データの準備"
   ]
  },
  {
   "cell_type": "markdown",
   "metadata": {},
   "source": [
    "## ライブラリのインポート"
   ]
  },
  {
   "cell_type": "code",
   "execution_count": 2,
   "metadata": {
    "collapsed": true
   },
   "outputs": [],
   "source": [
    "import numpy as np\n",
    "import pandas as pd\n",
    "import matplotlib.pyplot as plt\n",
    "%matplotlib inline\n",
    "import seaborn as sns\n",
    "import warnings\n",
    "warnings.filterwarnings('ignore')"
   ]
  },
  {
   "cell_type": "markdown",
   "metadata": {},
   "source": [
    "## データのインポート"
   ]
  },
  {
   "cell_type": "code",
   "execution_count": 3,
   "metadata": {
    "collapsed": true
   },
   "outputs": [],
   "source": [
    "train = pd.read_csv(\"wpbc.data.csv\",header=None)"
   ]
  },
  {
   "cell_type": "markdown",
   "metadata": {},
   "source": [
    "# 2.データの確認"
   ]
  },
  {
   "cell_type": "markdown",
   "metadata": {},
   "source": [
    "まずはデータを確認していきます。"
   ]
  },
  {
   "cell_type": "code",
   "execution_count": 4,
   "metadata": {
    "collapsed": false
   },
   "outputs": [
    {
     "data": {
      "text/html": [
       "<div>\n",
       "<style scoped>\n",
       "    .dataframe tbody tr th:only-of-type {\n",
       "        vertical-align: middle;\n",
       "    }\n",
       "\n",
       "    .dataframe tbody tr th {\n",
       "        vertical-align: top;\n",
       "    }\n",
       "\n",
       "    .dataframe thead th {\n",
       "        text-align: right;\n",
       "    }\n",
       "</style>\n",
       "<table border=\"1\" class=\"dataframe\">\n",
       "  <thead>\n",
       "    <tr style=\"text-align: right;\">\n",
       "      <th></th>\n",
       "      <th>0</th>\n",
       "      <th>1</th>\n",
       "      <th>2</th>\n",
       "      <th>3</th>\n",
       "      <th>4</th>\n",
       "      <th>5</th>\n",
       "      <th>6</th>\n",
       "      <th>7</th>\n",
       "      <th>8</th>\n",
       "      <th>9</th>\n",
       "      <th>...</th>\n",
       "      <th>25</th>\n",
       "      <th>26</th>\n",
       "      <th>27</th>\n",
       "      <th>28</th>\n",
       "      <th>29</th>\n",
       "      <th>30</th>\n",
       "      <th>31</th>\n",
       "      <th>32</th>\n",
       "      <th>33</th>\n",
       "      <th>34</th>\n",
       "    </tr>\n",
       "  </thead>\n",
       "  <tbody>\n",
       "    <tr>\n",
       "      <th>0</th>\n",
       "      <td>119513</td>\n",
       "      <td>N</td>\n",
       "      <td>31</td>\n",
       "      <td>18.02</td>\n",
       "      <td>27.60</td>\n",
       "      <td>117.50</td>\n",
       "      <td>1013.0</td>\n",
       "      <td>0.09489</td>\n",
       "      <td>0.1036</td>\n",
       "      <td>0.1086</td>\n",
       "      <td>...</td>\n",
       "      <td>139.70</td>\n",
       "      <td>1436.0</td>\n",
       "      <td>0.1195</td>\n",
       "      <td>0.1926</td>\n",
       "      <td>0.3140</td>\n",
       "      <td>0.1170</td>\n",
       "      <td>0.2677</td>\n",
       "      <td>0.08113</td>\n",
       "      <td>5.0</td>\n",
       "      <td>5</td>\n",
       "    </tr>\n",
       "    <tr>\n",
       "      <th>1</th>\n",
       "      <td>8423</td>\n",
       "      <td>N</td>\n",
       "      <td>61</td>\n",
       "      <td>17.99</td>\n",
       "      <td>10.38</td>\n",
       "      <td>122.80</td>\n",
       "      <td>1001.0</td>\n",
       "      <td>0.11840</td>\n",
       "      <td>0.2776</td>\n",
       "      <td>0.3001</td>\n",
       "      <td>...</td>\n",
       "      <td>184.60</td>\n",
       "      <td>2019.0</td>\n",
       "      <td>0.1622</td>\n",
       "      <td>0.6656</td>\n",
       "      <td>0.7119</td>\n",
       "      <td>0.2654</td>\n",
       "      <td>0.4601</td>\n",
       "      <td>0.11890</td>\n",
       "      <td>3.0</td>\n",
       "      <td>2</td>\n",
       "    </tr>\n",
       "    <tr>\n",
       "      <th>2</th>\n",
       "      <td>842517</td>\n",
       "      <td>N</td>\n",
       "      <td>116</td>\n",
       "      <td>21.37</td>\n",
       "      <td>17.44</td>\n",
       "      <td>137.50</td>\n",
       "      <td>1373.0</td>\n",
       "      <td>0.08836</td>\n",
       "      <td>0.1189</td>\n",
       "      <td>0.1255</td>\n",
       "      <td>...</td>\n",
       "      <td>159.10</td>\n",
       "      <td>1949.0</td>\n",
       "      <td>0.1188</td>\n",
       "      <td>0.3449</td>\n",
       "      <td>0.3414</td>\n",
       "      <td>0.2032</td>\n",
       "      <td>0.4334</td>\n",
       "      <td>0.09067</td>\n",
       "      <td>2.5</td>\n",
       "      <td>0</td>\n",
       "    </tr>\n",
       "    <tr>\n",
       "      <th>3</th>\n",
       "      <td>843483</td>\n",
       "      <td>N</td>\n",
       "      <td>123</td>\n",
       "      <td>11.42</td>\n",
       "      <td>20.38</td>\n",
       "      <td>77.58</td>\n",
       "      <td>386.1</td>\n",
       "      <td>0.14250</td>\n",
       "      <td>0.2839</td>\n",
       "      <td>0.2414</td>\n",
       "      <td>...</td>\n",
       "      <td>98.87</td>\n",
       "      <td>567.7</td>\n",
       "      <td>0.2098</td>\n",
       "      <td>0.8663</td>\n",
       "      <td>0.6869</td>\n",
       "      <td>0.2575</td>\n",
       "      <td>0.6638</td>\n",
       "      <td>0.17300</td>\n",
       "      <td>2.0</td>\n",
       "      <td>0</td>\n",
       "    </tr>\n",
       "    <tr>\n",
       "      <th>4</th>\n",
       "      <td>843584</td>\n",
       "      <td>R</td>\n",
       "      <td>27</td>\n",
       "      <td>20.29</td>\n",
       "      <td>14.34</td>\n",
       "      <td>135.10</td>\n",
       "      <td>1297.0</td>\n",
       "      <td>0.10030</td>\n",
       "      <td>0.1328</td>\n",
       "      <td>0.1980</td>\n",
       "      <td>...</td>\n",
       "      <td>152.20</td>\n",
       "      <td>1575.0</td>\n",
       "      <td>0.1374</td>\n",
       "      <td>0.2050</td>\n",
       "      <td>0.4000</td>\n",
       "      <td>0.1625</td>\n",
       "      <td>0.2364</td>\n",
       "      <td>0.07678</td>\n",
       "      <td>3.5</td>\n",
       "      <td>0</td>\n",
       "    </tr>\n",
       "  </tbody>\n",
       "</table>\n",
       "<p>5 rows × 35 columns</p>\n",
       "</div>"
      ],
      "text/plain": [
       "       0  1    2      3      4       5       6        7       8       9  ...  \\\n",
       "0  119513  N   31  18.02  27.60  117.50  1013.0  0.09489  0.1036  0.1086 ...   \n",
       "1    8423  N   61  17.99  10.38  122.80  1001.0  0.11840  0.2776  0.3001 ...   \n",
       "2  842517  N  116  21.37  17.44  137.50  1373.0  0.08836  0.1189  0.1255 ...   \n",
       "3  843483  N  123  11.42  20.38   77.58   386.1  0.14250  0.2839  0.2414 ...   \n",
       "4  843584  R   27  20.29  14.34  135.10  1297.0  0.10030  0.1328  0.1980 ...   \n",
       "\n",
       "       25      26      27      28      29      30      31       32   33  34  \n",
       "0  139.70  1436.0  0.1195  0.1926  0.3140  0.1170  0.2677  0.08113  5.0   5  \n",
       "1  184.60  2019.0  0.1622  0.6656  0.7119  0.2654  0.4601  0.11890  3.0   2  \n",
       "2  159.10  1949.0  0.1188  0.3449  0.3414  0.2032  0.4334  0.09067  2.5   0  \n",
       "3   98.87   567.7  0.2098  0.8663  0.6869  0.2575  0.6638  0.17300  2.0   0  \n",
       "4  152.20  1575.0  0.1374  0.2050  0.4000  0.1625  0.2364  0.07678  3.5   0  \n",
       "\n",
       "[5 rows x 35 columns]"
      ]
     },
     "execution_count": 4,
     "metadata": {},
     "output_type": "execute_result"
    }
   ],
   "source": [
    "train.head()"
   ]
  },
  {
   "cell_type": "markdown",
   "metadata": {},
   "source": [
    "データに特徴名が入ってないので、説明を見て特徴を追加していきましょう。"
   ]
  },
  {
   "cell_type": "code",
   "execution_count": 5,
   "metadata": {
    "collapsed": false
   },
   "outputs": [],
   "source": [
    "col = [\"radius\",\"texture\",\"perimeter\",\"area\",\"smoothness\",\"compactness\",\"concavity\"\n",
    "        ,\"concave points\",\"symmetry \",\"fractal dimension\" ]\n",
    "\n",
    "data_columns = [\"ID\",\"Outcom\",\"time\"]\n",
    "col_plus = [\"mean\",\"std\",\"worst\"]"
   ]
  },
  {
   "cell_type": "code",
   "execution_count": 6,
   "metadata": {
    "collapsed": true
   },
   "outputs": [],
   "source": [
    "# for i in col:\n",
    "#     data_columns.append(i+\"_\"+\"mean\")\n",
    "#     data_columns.append(i+\"_\"+\"std\")\n",
    "#     data_columns.append(i+\"_\"+\"worst\")"
   ]
  },
  {
   "cell_type": "code",
   "execution_count": 7,
   "metadata": {
    "collapsed": false
   },
   "outputs": [],
   "source": [
    "for i1 in range(3):\n",
    "    for i in col:\n",
    "        data_columns.append(i+\"_\"+col_plus[i1])\n",
    "#         data_columns.append(i+\"_\"+\"mean\")\n",
    "#         data_columns.append(i+\"_\"+\"std\")\n",
    "#         data_columns.append(i+\"_\"+\"worst\")\n",
    "    \n",
    "data_columns.append(\"Tumor size\")\n",
    "data_columns.append(\"Lymph node status\")"
   ]
  },
  {
   "cell_type": "code",
   "execution_count": 8,
   "metadata": {
    "collapsed": false
   },
   "outputs": [
    {
     "data": {
      "text/plain": [
       "35"
      ]
     },
     "execution_count": 8,
     "metadata": {},
     "output_type": "execute_result"
    }
   ],
   "source": [
    "len(data_columns)"
   ]
  },
  {
   "cell_type": "code",
   "execution_count": 9,
   "metadata": {
    "collapsed": false
   },
   "outputs": [],
   "source": [
    "train.columns = data_columns"
   ]
  },
  {
   "cell_type": "code",
   "execution_count": 10,
   "metadata": {
    "collapsed": false
   },
   "outputs": [
    {
     "data": {
      "text/html": [
       "<div>\n",
       "<style scoped>\n",
       "    .dataframe tbody tr th:only-of-type {\n",
       "        vertical-align: middle;\n",
       "    }\n",
       "\n",
       "    .dataframe tbody tr th {\n",
       "        vertical-align: top;\n",
       "    }\n",
       "\n",
       "    .dataframe thead th {\n",
       "        text-align: right;\n",
       "    }\n",
       "</style>\n",
       "<table border=\"1\" class=\"dataframe\">\n",
       "  <thead>\n",
       "    <tr style=\"text-align: right;\">\n",
       "      <th></th>\n",
       "      <th>ID</th>\n",
       "      <th>Outcom</th>\n",
       "      <th>time</th>\n",
       "      <th>radius_mean</th>\n",
       "      <th>texture_mean</th>\n",
       "      <th>perimeter_mean</th>\n",
       "      <th>area_mean</th>\n",
       "      <th>smoothness_mean</th>\n",
       "      <th>compactness_mean</th>\n",
       "      <th>concavity_mean</th>\n",
       "      <th>...</th>\n",
       "      <th>perimeter_worst</th>\n",
       "      <th>area_worst</th>\n",
       "      <th>smoothness_worst</th>\n",
       "      <th>compactness_worst</th>\n",
       "      <th>concavity_worst</th>\n",
       "      <th>concave points_worst</th>\n",
       "      <th>symmetry _worst</th>\n",
       "      <th>fractal dimension_worst</th>\n",
       "      <th>Tumor size</th>\n",
       "      <th>Lymph node status</th>\n",
       "    </tr>\n",
       "  </thead>\n",
       "  <tbody>\n",
       "    <tr>\n",
       "      <th>0</th>\n",
       "      <td>119513</td>\n",
       "      <td>N</td>\n",
       "      <td>31</td>\n",
       "      <td>18.02</td>\n",
       "      <td>27.60</td>\n",
       "      <td>117.50</td>\n",
       "      <td>1013.0</td>\n",
       "      <td>0.09489</td>\n",
       "      <td>0.1036</td>\n",
       "      <td>0.1086</td>\n",
       "      <td>...</td>\n",
       "      <td>139.70</td>\n",
       "      <td>1436.0</td>\n",
       "      <td>0.1195</td>\n",
       "      <td>0.1926</td>\n",
       "      <td>0.3140</td>\n",
       "      <td>0.1170</td>\n",
       "      <td>0.2677</td>\n",
       "      <td>0.08113</td>\n",
       "      <td>5.0</td>\n",
       "      <td>5</td>\n",
       "    </tr>\n",
       "    <tr>\n",
       "      <th>1</th>\n",
       "      <td>8423</td>\n",
       "      <td>N</td>\n",
       "      <td>61</td>\n",
       "      <td>17.99</td>\n",
       "      <td>10.38</td>\n",
       "      <td>122.80</td>\n",
       "      <td>1001.0</td>\n",
       "      <td>0.11840</td>\n",
       "      <td>0.2776</td>\n",
       "      <td>0.3001</td>\n",
       "      <td>...</td>\n",
       "      <td>184.60</td>\n",
       "      <td>2019.0</td>\n",
       "      <td>0.1622</td>\n",
       "      <td>0.6656</td>\n",
       "      <td>0.7119</td>\n",
       "      <td>0.2654</td>\n",
       "      <td>0.4601</td>\n",
       "      <td>0.11890</td>\n",
       "      <td>3.0</td>\n",
       "      <td>2</td>\n",
       "    </tr>\n",
       "    <tr>\n",
       "      <th>2</th>\n",
       "      <td>842517</td>\n",
       "      <td>N</td>\n",
       "      <td>116</td>\n",
       "      <td>21.37</td>\n",
       "      <td>17.44</td>\n",
       "      <td>137.50</td>\n",
       "      <td>1373.0</td>\n",
       "      <td>0.08836</td>\n",
       "      <td>0.1189</td>\n",
       "      <td>0.1255</td>\n",
       "      <td>...</td>\n",
       "      <td>159.10</td>\n",
       "      <td>1949.0</td>\n",
       "      <td>0.1188</td>\n",
       "      <td>0.3449</td>\n",
       "      <td>0.3414</td>\n",
       "      <td>0.2032</td>\n",
       "      <td>0.4334</td>\n",
       "      <td>0.09067</td>\n",
       "      <td>2.5</td>\n",
       "      <td>0</td>\n",
       "    </tr>\n",
       "    <tr>\n",
       "      <th>3</th>\n",
       "      <td>843483</td>\n",
       "      <td>N</td>\n",
       "      <td>123</td>\n",
       "      <td>11.42</td>\n",
       "      <td>20.38</td>\n",
       "      <td>77.58</td>\n",
       "      <td>386.1</td>\n",
       "      <td>0.14250</td>\n",
       "      <td>0.2839</td>\n",
       "      <td>0.2414</td>\n",
       "      <td>...</td>\n",
       "      <td>98.87</td>\n",
       "      <td>567.7</td>\n",
       "      <td>0.2098</td>\n",
       "      <td>0.8663</td>\n",
       "      <td>0.6869</td>\n",
       "      <td>0.2575</td>\n",
       "      <td>0.6638</td>\n",
       "      <td>0.17300</td>\n",
       "      <td>2.0</td>\n",
       "      <td>0</td>\n",
       "    </tr>\n",
       "    <tr>\n",
       "      <th>4</th>\n",
       "      <td>843584</td>\n",
       "      <td>R</td>\n",
       "      <td>27</td>\n",
       "      <td>20.29</td>\n",
       "      <td>14.34</td>\n",
       "      <td>135.10</td>\n",
       "      <td>1297.0</td>\n",
       "      <td>0.10030</td>\n",
       "      <td>0.1328</td>\n",
       "      <td>0.1980</td>\n",
       "      <td>...</td>\n",
       "      <td>152.20</td>\n",
       "      <td>1575.0</td>\n",
       "      <td>0.1374</td>\n",
       "      <td>0.2050</td>\n",
       "      <td>0.4000</td>\n",
       "      <td>0.1625</td>\n",
       "      <td>0.2364</td>\n",
       "      <td>0.07678</td>\n",
       "      <td>3.5</td>\n",
       "      <td>0</td>\n",
       "    </tr>\n",
       "  </tbody>\n",
       "</table>\n",
       "<p>5 rows × 35 columns</p>\n",
       "</div>"
      ],
      "text/plain": [
       "       ID Outcom  time  radius_mean  texture_mean  perimeter_mean  area_mean  \\\n",
       "0  119513      N    31        18.02         27.60          117.50     1013.0   \n",
       "1    8423      N    61        17.99         10.38          122.80     1001.0   \n",
       "2  842517      N   116        21.37         17.44          137.50     1373.0   \n",
       "3  843483      N   123        11.42         20.38           77.58      386.1   \n",
       "4  843584      R    27        20.29         14.34          135.10     1297.0   \n",
       "\n",
       "   smoothness_mean  compactness_mean  concavity_mean        ...          \\\n",
       "0          0.09489            0.1036          0.1086        ...           \n",
       "1          0.11840            0.2776          0.3001        ...           \n",
       "2          0.08836            0.1189          0.1255        ...           \n",
       "3          0.14250            0.2839          0.2414        ...           \n",
       "4          0.10030            0.1328          0.1980        ...           \n",
       "\n",
       "   perimeter_worst  area_worst  smoothness_worst  compactness_worst  \\\n",
       "0           139.70      1436.0            0.1195             0.1926   \n",
       "1           184.60      2019.0            0.1622             0.6656   \n",
       "2           159.10      1949.0            0.1188             0.3449   \n",
       "3            98.87       567.7            0.2098             0.8663   \n",
       "4           152.20      1575.0            0.1374             0.2050   \n",
       "\n",
       "   concavity_worst  concave points_worst  symmetry _worst  \\\n",
       "0           0.3140                0.1170           0.2677   \n",
       "1           0.7119                0.2654           0.4601   \n",
       "2           0.3414                0.2032           0.4334   \n",
       "3           0.6869                0.2575           0.6638   \n",
       "4           0.4000                0.1625           0.2364   \n",
       "\n",
       "   fractal dimension_worst  Tumor size  Lymph node status  \n",
       "0                  0.08113         5.0                  5  \n",
       "1                  0.11890         3.0                  2  \n",
       "2                  0.09067         2.5                  0  \n",
       "3                  0.17300         2.0                  0  \n",
       "4                  0.07678         3.5                  0  \n",
       "\n",
       "[5 rows x 35 columns]"
      ]
     },
     "execution_count": 10,
     "metadata": {},
     "output_type": "execute_result"
    }
   ],
   "source": [
    "train.head()"
   ]
  },
  {
   "cell_type": "markdown",
   "metadata": {},
   "source": [
    "これでひとまずデータの形が出来ました。  \n",
    "次にデータの欠損を確認していきましょう。"
   ]
  },
  {
   "cell_type": "code",
   "execution_count": 11,
   "metadata": {
    "collapsed": false
   },
   "outputs": [
    {
     "data": {
      "text/plain": [
       "ID                         0\n",
       "Outcom                     0\n",
       "time                       0\n",
       "radius_mean                0\n",
       "texture_mean               0\n",
       "perimeter_mean             0\n",
       "area_mean                  0\n",
       "smoothness_mean            0\n",
       "compactness_mean           0\n",
       "concavity_mean             0\n",
       "concave points_mean        0\n",
       "symmetry _mean             0\n",
       "fractal dimension_mean     0\n",
       "radius_std                 0\n",
       "texture_std                0\n",
       "perimeter_std              0\n",
       "area_std                   0\n",
       "smoothness_std             0\n",
       "compactness_std            0\n",
       "concavity_std              0\n",
       "concave points_std         0\n",
       "symmetry _std              0\n",
       "fractal dimension_std      0\n",
       "radius_worst               0\n",
       "texture_worst              0\n",
       "perimeter_worst            0\n",
       "area_worst                 0\n",
       "smoothness_worst           0\n",
       "compactness_worst          0\n",
       "concavity_worst            0\n",
       "concave points_worst       0\n",
       "symmetry _worst            0\n",
       "fractal dimension_worst    0\n",
       "Tumor size                 0\n",
       "Lymph node status          0\n",
       "dtype: int64"
      ]
     },
     "execution_count": 11,
     "metadata": {},
     "output_type": "execute_result"
    }
   ],
   "source": [
    "train.isnull().sum()"
   ]
  },
  {
   "cell_type": "markdown",
   "metadata": {},
   "source": [
    "欠損が無いことが確認できました。  \n",
    "次にデータの形を確認して見ましょう。"
   ]
  },
  {
   "cell_type": "code",
   "execution_count": 12,
   "metadata": {
    "collapsed": false
   },
   "outputs": [
    {
     "data": {
      "text/plain": [
       "ID                           int64\n",
       "Outcom                      object\n",
       "time                         int64\n",
       "radius_mean                float64\n",
       "texture_mean               float64\n",
       "perimeter_mean             float64\n",
       "area_mean                  float64\n",
       "smoothness_mean            float64\n",
       "compactness_mean           float64\n",
       "concavity_mean             float64\n",
       "concave points_mean        float64\n",
       "symmetry _mean             float64\n",
       "fractal dimension_mean     float64\n",
       "radius_std                 float64\n",
       "texture_std                float64\n",
       "perimeter_std              float64\n",
       "area_std                   float64\n",
       "smoothness_std             float64\n",
       "compactness_std            float64\n",
       "concavity_std              float64\n",
       "concave points_std         float64\n",
       "symmetry _std              float64\n",
       "fractal dimension_std      float64\n",
       "radius_worst               float64\n",
       "texture_worst              float64\n",
       "perimeter_worst            float64\n",
       "area_worst                 float64\n",
       "smoothness_worst           float64\n",
       "compactness_worst          float64\n",
       "concavity_worst            float64\n",
       "concave points_worst       float64\n",
       "symmetry _worst            float64\n",
       "fractal dimension_worst    float64\n",
       "Tumor size                 float64\n",
       "Lymph node status           object\n",
       "dtype: object"
      ]
     },
     "execution_count": 12,
     "metadata": {},
     "output_type": "execute_result"
    }
   ],
   "source": [
    "train.dtypes"
   ]
  },
  {
   "cell_type": "markdown",
   "metadata": {},
   "source": [
    "データの中にカテゴリ変数が混ざってることがわかりました。  \n",
    "実際にどうなっているか見て見ましょう。"
   ]
  },
  {
   "cell_type": "code",
   "execution_count": 13,
   "metadata": {
    "collapsed": false
   },
   "outputs": [
    {
     "data": {
      "text/html": [
       "<div>\n",
       "<style scoped>\n",
       "    .dataframe tbody tr th:only-of-type {\n",
       "        vertical-align: middle;\n",
       "    }\n",
       "\n",
       "    .dataframe tbody tr th {\n",
       "        vertical-align: top;\n",
       "    }\n",
       "\n",
       "    .dataframe thead th {\n",
       "        text-align: right;\n",
       "    }\n",
       "</style>\n",
       "<table border=\"1\" class=\"dataframe\">\n",
       "  <thead>\n",
       "    <tr style=\"text-align: right;\">\n",
       "      <th></th>\n",
       "      <th>Outcom</th>\n",
       "      <th>Lymph node status</th>\n",
       "    </tr>\n",
       "  </thead>\n",
       "  <tbody>\n",
       "    <tr>\n",
       "      <th>0</th>\n",
       "      <td>N</td>\n",
       "      <td>5</td>\n",
       "    </tr>\n",
       "    <tr>\n",
       "      <th>1</th>\n",
       "      <td>N</td>\n",
       "      <td>2</td>\n",
       "    </tr>\n",
       "    <tr>\n",
       "      <th>2</th>\n",
       "      <td>N</td>\n",
       "      <td>0</td>\n",
       "    </tr>\n",
       "    <tr>\n",
       "      <th>3</th>\n",
       "      <td>N</td>\n",
       "      <td>0</td>\n",
       "    </tr>\n",
       "    <tr>\n",
       "      <th>4</th>\n",
       "      <td>R</td>\n",
       "      <td>0</td>\n",
       "    </tr>\n",
       "    <tr>\n",
       "      <th>5</th>\n",
       "      <td>R</td>\n",
       "      <td>0</td>\n",
       "    </tr>\n",
       "    <tr>\n",
       "      <th>6</th>\n",
       "      <td>N</td>\n",
       "      <td>?</td>\n",
       "    </tr>\n",
       "    <tr>\n",
       "      <th>7</th>\n",
       "      <td>R</td>\n",
       "      <td>10</td>\n",
       "    </tr>\n",
       "    <tr>\n",
       "      <th>8</th>\n",
       "      <td>N</td>\n",
       "      <td>1</td>\n",
       "    </tr>\n",
       "    <tr>\n",
       "      <th>9</th>\n",
       "      <td>N</td>\n",
       "      <td>20</td>\n",
       "    </tr>\n",
       "    <tr>\n",
       "      <th>10</th>\n",
       "      <td>N</td>\n",
       "      <td>0</td>\n",
       "    </tr>\n",
       "    <tr>\n",
       "      <th>11</th>\n",
       "      <td>N</td>\n",
       "      <td>0</td>\n",
       "    </tr>\n",
       "    <tr>\n",
       "      <th>12</th>\n",
       "      <td>N</td>\n",
       "      <td>0</td>\n",
       "    </tr>\n",
       "    <tr>\n",
       "      <th>13</th>\n",
       "      <td>R</td>\n",
       "      <td>6</td>\n",
       "    </tr>\n",
       "    <tr>\n",
       "      <th>14</th>\n",
       "      <td>N</td>\n",
       "      <td>0</td>\n",
       "    </tr>\n",
       "    <tr>\n",
       "      <th>15</th>\n",
       "      <td>R</td>\n",
       "      <td>1</td>\n",
       "    </tr>\n",
       "    <tr>\n",
       "      <th>16</th>\n",
       "      <td>N</td>\n",
       "      <td>0</td>\n",
       "    </tr>\n",
       "    <tr>\n",
       "      <th>17</th>\n",
       "      <td>R</td>\n",
       "      <td>1</td>\n",
       "    </tr>\n",
       "    <tr>\n",
       "      <th>18</th>\n",
       "      <td>N</td>\n",
       "      <td>0</td>\n",
       "    </tr>\n",
       "    <tr>\n",
       "      <th>19</th>\n",
       "      <td>N</td>\n",
       "      <td>1</td>\n",
       "    </tr>\n",
       "    <tr>\n",
       "      <th>20</th>\n",
       "      <td>N</td>\n",
       "      <td>0</td>\n",
       "    </tr>\n",
       "    <tr>\n",
       "      <th>21</th>\n",
       "      <td>N</td>\n",
       "      <td>13</td>\n",
       "    </tr>\n",
       "    <tr>\n",
       "      <th>22</th>\n",
       "      <td>N</td>\n",
       "      <td>0</td>\n",
       "    </tr>\n",
       "    <tr>\n",
       "      <th>23</th>\n",
       "      <td>N</td>\n",
       "      <td>0</td>\n",
       "    </tr>\n",
       "    <tr>\n",
       "      <th>24</th>\n",
       "      <td>N</td>\n",
       "      <td>2</td>\n",
       "    </tr>\n",
       "    <tr>\n",
       "      <th>25</th>\n",
       "      <td>N</td>\n",
       "      <td>1</td>\n",
       "    </tr>\n",
       "    <tr>\n",
       "      <th>26</th>\n",
       "      <td>N</td>\n",
       "      <td>0</td>\n",
       "    </tr>\n",
       "    <tr>\n",
       "      <th>27</th>\n",
       "      <td>N</td>\n",
       "      <td>0</td>\n",
       "    </tr>\n",
       "    <tr>\n",
       "      <th>28</th>\n",
       "      <td>N</td>\n",
       "      <td>?</td>\n",
       "    </tr>\n",
       "    <tr>\n",
       "      <th>29</th>\n",
       "      <td>N</td>\n",
       "      <td>13</td>\n",
       "    </tr>\n",
       "    <tr>\n",
       "      <th>...</th>\n",
       "      <td>...</td>\n",
       "      <td>...</td>\n",
       "    </tr>\n",
       "    <tr>\n",
       "      <th>168</th>\n",
       "      <td>N</td>\n",
       "      <td>0</td>\n",
       "    </tr>\n",
       "    <tr>\n",
       "      <th>169</th>\n",
       "      <td>N</td>\n",
       "      <td>0</td>\n",
       "    </tr>\n",
       "    <tr>\n",
       "      <th>170</th>\n",
       "      <td>N</td>\n",
       "      <td>0</td>\n",
       "    </tr>\n",
       "    <tr>\n",
       "      <th>171</th>\n",
       "      <td>N</td>\n",
       "      <td>0</td>\n",
       "    </tr>\n",
       "    <tr>\n",
       "      <th>172</th>\n",
       "      <td>N</td>\n",
       "      <td>1</td>\n",
       "    </tr>\n",
       "    <tr>\n",
       "      <th>173</th>\n",
       "      <td>N</td>\n",
       "      <td>1</td>\n",
       "    </tr>\n",
       "    <tr>\n",
       "      <th>174</th>\n",
       "      <td>N</td>\n",
       "      <td>2</td>\n",
       "    </tr>\n",
       "    <tr>\n",
       "      <th>175</th>\n",
       "      <td>N</td>\n",
       "      <td>0</td>\n",
       "    </tr>\n",
       "    <tr>\n",
       "      <th>176</th>\n",
       "      <td>R</td>\n",
       "      <td>9</td>\n",
       "    </tr>\n",
       "    <tr>\n",
       "      <th>177</th>\n",
       "      <td>R</td>\n",
       "      <td>4</td>\n",
       "    </tr>\n",
       "    <tr>\n",
       "      <th>178</th>\n",
       "      <td>N</td>\n",
       "      <td>0</td>\n",
       "    </tr>\n",
       "    <tr>\n",
       "      <th>179</th>\n",
       "      <td>N</td>\n",
       "      <td>2</td>\n",
       "    </tr>\n",
       "    <tr>\n",
       "      <th>180</th>\n",
       "      <td>N</td>\n",
       "      <td>0</td>\n",
       "    </tr>\n",
       "    <tr>\n",
       "      <th>181</th>\n",
       "      <td>N</td>\n",
       "      <td>0</td>\n",
       "    </tr>\n",
       "    <tr>\n",
       "      <th>182</th>\n",
       "      <td>N</td>\n",
       "      <td>4</td>\n",
       "    </tr>\n",
       "    <tr>\n",
       "      <th>183</th>\n",
       "      <td>N</td>\n",
       "      <td>0</td>\n",
       "    </tr>\n",
       "    <tr>\n",
       "      <th>184</th>\n",
       "      <td>N</td>\n",
       "      <td>0</td>\n",
       "    </tr>\n",
       "    <tr>\n",
       "      <th>185</th>\n",
       "      <td>N</td>\n",
       "      <td>0</td>\n",
       "    </tr>\n",
       "    <tr>\n",
       "      <th>186</th>\n",
       "      <td>N</td>\n",
       "      <td>0</td>\n",
       "    </tr>\n",
       "    <tr>\n",
       "      <th>187</th>\n",
       "      <td>N</td>\n",
       "      <td>1</td>\n",
       "    </tr>\n",
       "    <tr>\n",
       "      <th>188</th>\n",
       "      <td>N</td>\n",
       "      <td>7</td>\n",
       "    </tr>\n",
       "    <tr>\n",
       "      <th>189</th>\n",
       "      <td>N</td>\n",
       "      <td>2</td>\n",
       "    </tr>\n",
       "    <tr>\n",
       "      <th>190</th>\n",
       "      <td>N</td>\n",
       "      <td>0</td>\n",
       "    </tr>\n",
       "    <tr>\n",
       "      <th>191</th>\n",
       "      <td>N</td>\n",
       "      <td>1</td>\n",
       "    </tr>\n",
       "    <tr>\n",
       "      <th>192</th>\n",
       "      <td>N</td>\n",
       "      <td>21</td>\n",
       "    </tr>\n",
       "    <tr>\n",
       "      <th>193</th>\n",
       "      <td>N</td>\n",
       "      <td>2</td>\n",
       "    </tr>\n",
       "    <tr>\n",
       "      <th>194</th>\n",
       "      <td>N</td>\n",
       "      <td>0</td>\n",
       "    </tr>\n",
       "    <tr>\n",
       "      <th>195</th>\n",
       "      <td>N</td>\n",
       "      <td>0</td>\n",
       "    </tr>\n",
       "    <tr>\n",
       "      <th>196</th>\n",
       "      <td>R</td>\n",
       "      <td>?</td>\n",
       "    </tr>\n",
       "    <tr>\n",
       "      <th>197</th>\n",
       "      <td>N</td>\n",
       "      <td>0</td>\n",
       "    </tr>\n",
       "  </tbody>\n",
       "</table>\n",
       "<p>198 rows × 2 columns</p>\n",
       "</div>"
      ],
      "text/plain": [
       "    Outcom Lymph node status\n",
       "0        N                 5\n",
       "1        N                 2\n",
       "2        N                 0\n",
       "3        N                 0\n",
       "4        R                 0\n",
       "5        R                 0\n",
       "6        N                 ?\n",
       "7        R                10\n",
       "8        N                 1\n",
       "9        N                20\n",
       "10       N                 0\n",
       "11       N                 0\n",
       "12       N                 0\n",
       "13       R                 6\n",
       "14       N                 0\n",
       "15       R                 1\n",
       "16       N                 0\n",
       "17       R                 1\n",
       "18       N                 0\n",
       "19       N                 1\n",
       "20       N                 0\n",
       "21       N                13\n",
       "22       N                 0\n",
       "23       N                 0\n",
       "24       N                 2\n",
       "25       N                 1\n",
       "26       N                 0\n",
       "27       N                 0\n",
       "28       N                 ?\n",
       "29       N                13\n",
       "..     ...               ...\n",
       "168      N                 0\n",
       "169      N                 0\n",
       "170      N                 0\n",
       "171      N                 0\n",
       "172      N                 1\n",
       "173      N                 1\n",
       "174      N                 2\n",
       "175      N                 0\n",
       "176      R                 9\n",
       "177      R                 4\n",
       "178      N                 0\n",
       "179      N                 2\n",
       "180      N                 0\n",
       "181      N                 0\n",
       "182      N                 4\n",
       "183      N                 0\n",
       "184      N                 0\n",
       "185      N                 0\n",
       "186      N                 0\n",
       "187      N                 1\n",
       "188      N                 7\n",
       "189      N                 2\n",
       "190      N                 0\n",
       "191      N                 1\n",
       "192      N                21\n",
       "193      N                 2\n",
       "194      N                 0\n",
       "195      N                 0\n",
       "196      R                 ?\n",
       "197      N                 0\n",
       "\n",
       "[198 rows x 2 columns]"
      ]
     },
     "execution_count": 13,
     "metadata": {},
     "output_type": "execute_result"
    }
   ],
   "source": [
    "train[[\"Outcom\",\"Lymph node status\"]]"
   ]
  },
  {
   "cell_type": "code",
   "execution_count": 14,
   "metadata": {
    "collapsed": false
   },
   "outputs": [
    {
     "data": {
      "text/plain": [
       "{'N', 'R'}"
      ]
     },
     "execution_count": 14,
     "metadata": {},
     "output_type": "execute_result"
    }
   ],
   "source": [
    "set(train[\"Outcom\"])"
   ]
  },
  {
   "cell_type": "code",
   "execution_count": 15,
   "metadata": {
    "collapsed": false
   },
   "outputs": [
    {
     "data": {
      "text/plain": [
       "{'0',\n",
       " '1',\n",
       " '10',\n",
       " '11',\n",
       " '13',\n",
       " '14',\n",
       " '15',\n",
       " '16',\n",
       " '17',\n",
       " '18',\n",
       " '2',\n",
       " '20',\n",
       " '21',\n",
       " '24',\n",
       " '27',\n",
       " '3',\n",
       " '4',\n",
       " '5',\n",
       " '6',\n",
       " '7',\n",
       " '8',\n",
       " '9',\n",
       " '?'}"
      ]
     },
     "execution_count": 15,
     "metadata": {},
     "output_type": "execute_result"
    }
   ],
   "source": [
    "set(train[\"Lymph node status\"])"
   ]
  },
  {
   "cell_type": "markdown",
   "metadata": {},
   "source": [
    "OutcomはNとRの２種類になっており、Lymph node statusには？が含まれることがわかりました。  \n",
    "まずはこのカテゴリデータを直さないと学習できません。  \n",
    "Outcomはラベルエンコーダーをし、Lymph node statusの？を欠損に変えて数値データに変えましょう。"
   ]
  },
  {
   "cell_type": "markdown",
   "metadata": {},
   "source": [
    "# 3.データの整形"
   ]
  },
  {
   "cell_type": "code",
   "execution_count": 16,
   "metadata": {
    "collapsed": false
   },
   "outputs": [],
   "source": [
    "out_label = {'N':0, 'R':1}\n",
    "train[\"Outcom\"] = train[\"Outcom\"].map(out_label)"
   ]
  },
  {
   "cell_type": "code",
   "execution_count": 17,
   "metadata": {
    "collapsed": false
   },
   "outputs": [],
   "source": [
    "train[\"Lymph node status\"] = train[\"Lymph node status\"].replace(\"?\",np.nan)"
   ]
  },
  {
   "cell_type": "code",
   "execution_count": 18,
   "metadata": {
    "collapsed": false
   },
   "outputs": [],
   "source": [
    "train[\"Lymph node status\"] = train[\"Lymph node status\"].map(float)"
   ]
  },
  {
   "cell_type": "code",
   "execution_count": 19,
   "metadata": {
    "collapsed": false
   },
   "outputs": [
    {
     "data": {
      "text/plain": [
       "'diagnosis'"
      ]
     },
     "execution_count": 19,
     "metadata": {},
     "output_type": "execute_result"
    }
   ],
   "source": [
    "\"diagnosis\""
   ]
  },
  {
   "cell_type": "markdown",
   "metadata": {},
   "source": [
    "これで全てのデータを数値データに変えることができました。"
   ]
  },
  {
   "cell_type": "markdown",
   "metadata": {},
   "source": [
    "データ型の列に欠損値がある場合、SVMではそれらをランダムに欠損した値として解釈します。質的データの欠損値は最頻値に、量的データの欠損値は平均値に自動的に置換されます。  \n",
    "私は、ランダムに欠損されてると思ったので、欠損には平均を代入していきます。"
   ]
  },
  {
   "cell_type": "code",
   "execution_count": 20,
   "metadata": {
    "collapsed": true
   },
   "outputs": [],
   "source": [
    "train[\"Lymph node status\"] = train[\"Lymph node status\"].fillna(train[\"Lymph node status\"].mean())"
   ]
  },
  {
   "cell_type": "markdown",
   "metadata": {},
   "source": [
    "これで欠損の処理が完了しました。  "
   ]
  },
  {
   "cell_type": "markdown",
   "metadata": {},
   "source": [
    "## 3.1 フューチャースケーリング"
   ]
  },
  {
   "cell_type": "markdown",
   "metadata": {},
   "source": [
    "次はフューチャースケーリングをしていきましょう。\n",
    "\n",
    "フューチャースケーリングをする理由は2つあります。\n",
    "大きい値の範囲をとる特徴量に引きずられないようにします。  \n",
    "[0,10]での1と2の違いは1だけですが，[0,10000]での1の100の違いよりもずっと重要です。  \n",
    "すなわち，これらを対等に比較するために，それぞれの特徴量を同じ範囲にスケールしてあげる必要があります。\n",
    "\n",
    "カーネル関数は特徴ベクトルの内積を用いて計算するので，スケーリングを行わずに計算すると，大きい値×小さい値となり，情報落ちする可能性があります。\n",
    "\n",
    "今回使うSVMの分類は、数値が大きすぎると引っ張られてしまうので、標準化していきます。"
   ]
  },
  {
   "cell_type": "code",
   "execution_count": 21,
   "metadata": {
    "collapsed": true
   },
   "outputs": [],
   "source": [
    "train_target = train[\"Outcom\"]"
   ]
  },
  {
   "cell_type": "code",
   "execution_count": 22,
   "metadata": {
    "collapsed": true
   },
   "outputs": [],
   "source": [
    "def normalization(X):\n",
    "    norma = (X - X.mean()) / X.std()\n",
    "    return norma"
   ]
  },
  {
   "cell_type": "code",
   "execution_count": 23,
   "metadata": {
    "collapsed": false
   },
   "outputs": [],
   "source": [
    "train = normalization(train)\n",
    "train[\"Outcom\"] = train_target"
   ]
  },
  {
   "cell_type": "code",
   "execution_count": 24,
   "metadata": {
    "collapsed": false
   },
   "outputs": [
    {
     "data": {
      "text/html": [
       "<div>\n",
       "<style scoped>\n",
       "    .dataframe tbody tr th:only-of-type {\n",
       "        vertical-align: middle;\n",
       "    }\n",
       "\n",
       "    .dataframe tbody tr th {\n",
       "        vertical-align: top;\n",
       "    }\n",
       "\n",
       "    .dataframe thead th {\n",
       "        text-align: right;\n",
       "    }\n",
       "</style>\n",
       "<table border=\"1\" class=\"dataframe\">\n",
       "  <thead>\n",
       "    <tr style=\"text-align: right;\">\n",
       "      <th></th>\n",
       "      <th>ID</th>\n",
       "      <th>Outcom</th>\n",
       "      <th>time</th>\n",
       "      <th>radius_mean</th>\n",
       "      <th>texture_mean</th>\n",
       "      <th>perimeter_mean</th>\n",
       "      <th>area_mean</th>\n",
       "      <th>smoothness_mean</th>\n",
       "      <th>compactness_mean</th>\n",
       "      <th>concavity_mean</th>\n",
       "      <th>...</th>\n",
       "      <th>perimeter_worst</th>\n",
       "      <th>area_worst</th>\n",
       "      <th>smoothness_worst</th>\n",
       "      <th>compactness_worst</th>\n",
       "      <th>concavity_worst</th>\n",
       "      <th>concave points_worst</th>\n",
       "      <th>symmetry _worst</th>\n",
       "      <th>fractal dimension_worst</th>\n",
       "      <th>Tumor size</th>\n",
       "      <th>Lymph node status</th>\n",
       "    </tr>\n",
       "  </thead>\n",
       "  <tbody>\n",
       "    <tr>\n",
       "      <th>0</th>\n",
       "      <td>-0.647608</td>\n",
       "      <td>0</td>\n",
       "      <td>-0.456501</td>\n",
       "      <td>0.192201</td>\n",
       "      <td>1.238630</td>\n",
       "      <td>0.123621</td>\n",
       "      <td>0.121991</td>\n",
       "      <td>-0.622197</td>\n",
       "      <td>-0.782558</td>\n",
       "      <td>-0.675092</td>\n",
       "      <td>...</td>\n",
       "      <td>-0.022420</td>\n",
       "      <td>0.052971</td>\n",
       "      <td>-1.109835</td>\n",
       "      <td>-1.052065</td>\n",
       "      <td>-0.706613</td>\n",
       "      <td>-1.367349</td>\n",
       "      <td>-0.741131</td>\n",
       "      <td>-0.458065</td>\n",
       "      <td>1.110715</td>\n",
       "      <td>0.329806</td>\n",
       "    </tr>\n",
       "    <tr>\n",
       "      <th>1</th>\n",
       "      <td>-0.686060</td>\n",
       "      <td>0</td>\n",
       "      <td>0.414001</td>\n",
       "      <td>0.182712</td>\n",
       "      <td>-2.767615</td>\n",
       "      <td>0.371477</td>\n",
       "      <td>0.087915</td>\n",
       "      <td>1.255234</td>\n",
       "      <td>2.704583</td>\n",
       "      <td>2.038439</td>\n",
       "      <td>...</td>\n",
       "      <td>1.531628</td>\n",
       "      <td>1.047840</td>\n",
       "      <td>0.830725</td>\n",
       "      <td>1.832697</td>\n",
       "      <td>1.585114</td>\n",
       "      <td>1.917253</td>\n",
       "      <td>1.818711</td>\n",
       "      <td>1.325898</td>\n",
       "      <td>0.078704</td>\n",
       "      <td>-0.223356</td>\n",
       "    </tr>\n",
       "    <tr>\n",
       "      <th>2</th>\n",
       "      <td>-0.397349</td>\n",
       "      <td>0</td>\n",
       "      <td>2.009922</td>\n",
       "      <td>1.251766</td>\n",
       "      <td>-1.125101</td>\n",
       "      <td>1.058926</td>\n",
       "      <td>1.144285</td>\n",
       "      <td>-1.143661</td>\n",
       "      <td>-0.475930</td>\n",
       "      <td>-0.435621</td>\n",
       "      <td>...</td>\n",
       "      <td>0.649039</td>\n",
       "      <td>0.928387</td>\n",
       "      <td>-1.141647</td>\n",
       "      <td>-0.123208</td>\n",
       "      <td>-0.548801</td>\n",
       "      <td>0.540553</td>\n",
       "      <td>1.463473</td>\n",
       "      <td>-0.007469</td>\n",
       "      <td>-0.179299</td>\n",
       "      <td>-0.592131</td>\n",
       "    </tr>\n",
       "    <tr>\n",
       "      <th>3</th>\n",
       "      <td>-0.397015</td>\n",
       "      <td>0</td>\n",
       "      <td>2.213039</td>\n",
       "      <td>-1.895300</td>\n",
       "      <td>-0.441108</td>\n",
       "      <td>-1.743248</td>\n",
       "      <td>-1.658220</td>\n",
       "      <td>3.179781</td>\n",
       "      <td>2.830842</td>\n",
       "      <td>1.206667</td>\n",
       "      <td>...</td>\n",
       "      <td>-1.435601</td>\n",
       "      <td>-1.428752</td>\n",
       "      <td>2.993972</td>\n",
       "      <td>3.056739</td>\n",
       "      <td>1.441125</td>\n",
       "      <td>1.742399</td>\n",
       "      <td>4.528897</td>\n",
       "      <td>3.881163</td>\n",
       "      <td>-0.437302</td>\n",
       "      <td>-0.592131</td>\n",
       "    </tr>\n",
       "    <tr>\n",
       "      <th>4</th>\n",
       "      <td>-0.396980</td>\n",
       "      <td>1</td>\n",
       "      <td>-0.572568</td>\n",
       "      <td>0.910175</td>\n",
       "      <td>-1.846318</td>\n",
       "      <td>0.946689</td>\n",
       "      <td>0.928467</td>\n",
       "      <td>-0.190172</td>\n",
       "      <td>-0.197360</td>\n",
       "      <td>0.591695</td>\n",
       "      <td>...</td>\n",
       "      <td>0.410221</td>\n",
       "      <td>0.290170</td>\n",
       "      <td>-0.296345</td>\n",
       "      <td>-0.976439</td>\n",
       "      <td>-0.211291</td>\n",
       "      <td>-0.360278</td>\n",
       "      <td>-1.157571</td>\n",
       "      <td>-0.663525</td>\n",
       "      <td>0.336707</td>\n",
       "      <td>-0.592131</td>\n",
       "    </tr>\n",
       "  </tbody>\n",
       "</table>\n",
       "<p>5 rows × 35 columns</p>\n",
       "</div>"
      ],
      "text/plain": [
       "         ID  Outcom      time  radius_mean  texture_mean  perimeter_mean  \\\n",
       "0 -0.647608       0 -0.456501     0.192201      1.238630        0.123621   \n",
       "1 -0.686060       0  0.414001     0.182712     -2.767615        0.371477   \n",
       "2 -0.397349       0  2.009922     1.251766     -1.125101        1.058926   \n",
       "3 -0.397015       0  2.213039    -1.895300     -0.441108       -1.743248   \n",
       "4 -0.396980       1 -0.572568     0.910175     -1.846318        0.946689   \n",
       "\n",
       "   area_mean  smoothness_mean  compactness_mean  concavity_mean  \\\n",
       "0   0.121991        -0.622197         -0.782558       -0.675092   \n",
       "1   0.087915         1.255234          2.704583        2.038439   \n",
       "2   1.144285        -1.143661         -0.475930       -0.435621   \n",
       "3  -1.658220         3.179781          2.830842        1.206667   \n",
       "4   0.928467        -0.190172         -0.197360        0.591695   \n",
       "\n",
       "         ...          perimeter_worst  area_worst  smoothness_worst  \\\n",
       "0        ...                -0.022420    0.052971         -1.109835   \n",
       "1        ...                 1.531628    1.047840          0.830725   \n",
       "2        ...                 0.649039    0.928387         -1.141647   \n",
       "3        ...                -1.435601   -1.428752          2.993972   \n",
       "4        ...                 0.410221    0.290170         -0.296345   \n",
       "\n",
       "   compactness_worst  concavity_worst  concave points_worst  symmetry _worst  \\\n",
       "0          -1.052065        -0.706613             -1.367349        -0.741131   \n",
       "1           1.832697         1.585114              1.917253         1.818711   \n",
       "2          -0.123208        -0.548801              0.540553         1.463473   \n",
       "3           3.056739         1.441125              1.742399         4.528897   \n",
       "4          -0.976439        -0.211291             -0.360278        -1.157571   \n",
       "\n",
       "   fractal dimension_worst  Tumor size  Lymph node status  \n",
       "0                -0.458065    1.110715           0.329806  \n",
       "1                 1.325898    0.078704          -0.223356  \n",
       "2                -0.007469   -0.179299          -0.592131  \n",
       "3                 3.881163   -0.437302          -0.592131  \n",
       "4                -0.663525    0.336707          -0.592131  \n",
       "\n",
       "[5 rows x 35 columns]"
      ]
     },
     "execution_count": 24,
     "metadata": {},
     "output_type": "execute_result"
    }
   ],
   "source": [
    "train.head()"
   ]
  },
  {
   "cell_type": "markdown",
   "metadata": {},
   "source": [
    "次に今回の目的変数の乳がんの再発(Outcom)と相関を見ていきましょう。"
   ]
  },
  {
   "cell_type": "code",
   "execution_count": 25,
   "metadata": {
    "collapsed": false
   },
   "outputs": [
    {
     "data": {
      "image/png": "[encoded data removed]",
      "text/plain": [
       "<matplotlib.figure.Figure at 0x11c16d550>"
      ]
     },
     "metadata": {},
     "output_type": "display_data"
    }
   ],
   "source": [
    "plt.figure(figsize=(20, 10))\n",
    "\n",
    "sns.heatmap(train.corr(),square=True)\n",
    "\n",
    "plt.show()"
   ]
  },
  {
   "cell_type": "code",
   "execution_count": 26,
   "metadata": {
    "collapsed": false
   },
   "outputs": [
    {
     "data": {
      "text/plain": [
       "time                      -0.351326\n",
       "fractal dimension_mean    -0.112352\n",
       "symmetry _mean            -0.099777\n",
       "texture_std               -0.076212\n",
       "symmetry _worst           -0.074731\n",
       "concave points_std        -0.065570\n",
       "texture_mean              -0.064295\n",
       "concavity_std             -0.060379\n",
       "fractal dimension_worst   -0.055170\n",
       "smoothness_std            -0.052213\n",
       "texture_worst             -0.051134\n",
       "symmetry _std             -0.044325\n",
       "fractal dimension_std     -0.042751\n",
       "ID                        -0.031466\n",
       "compactness_worst         -0.020067\n",
       "compactness_std           -0.009537\n",
       "compactness_mean           0.000798\n",
       "concavity_worst            0.017621\n",
       "smoothness_mean            0.020778\n",
       "smoothness_worst           0.038520\n",
       "concavity_mean             0.054893\n",
       "concave points_worst       0.074345\n",
       "concave points_mean        0.118224\n",
       "radius_std                 0.132512\n",
       "perimeter_std              0.141633\n",
       "area_std                   0.151826\n",
       "Lymph node status          0.167377\n",
       "radius_mean                0.174124\n",
       "perimeter_mean             0.176486\n",
       "Tumor size                 0.177273\n",
       "area_mean                  0.189893\n",
       "perimeter_worst            0.231998\n",
       "radius_worst               0.233225\n",
       "area_worst                 0.235310\n",
       "Outcom                     1.000000\n",
       "Name: Outcom, dtype: float64"
      ]
     },
     "execution_count": 26,
     "metadata": {},
     "output_type": "execute_result"
    }
   ],
   "source": [
    "train.corr().Outcom.sort_values()"
   ]
  },
  {
   "cell_type": "markdown",
   "metadata": {},
   "source": [
    "正の相関ではtime、負の相関はconcave points_std、concavity_worst、concave points_worstに多少の相関があることがわかりました。"
   ]
  },
  {
   "cell_type": "markdown",
   "metadata": {},
   "source": [
    "# 3.2不均衡データ問題\n",
    "今回のカーネルでは分類を扱います。  \n",
    "今あるデータが１：１のデータになっていない場合もあります。  \n",
    "実世界の問題は，99%と1%といったように，クラスのデータ数に大きく差が開いている場合がよくあります。  \n",
    "例えば重病患者とそうでない人を分類したいなどの場合は，クラスのデータ数にかなりの偏りが生じ，予測精度が大きく低下してしまいます。\n",
    "\n",
    "実際にターゲットがどの様になっているか確認していきましょう。\n"
   ]
  },
  {
   "cell_type": "code",
   "execution_count": 27,
   "metadata": {
    "collapsed": false
   },
   "outputs": [
    {
     "data": {
      "text/plain": [
       "<matplotlib.text.Text at 0x12418f2b0>"
      ]
     },
     "execution_count": 27,
     "metadata": {},
     "output_type": "execute_result"
    },
    {
     "data": {
      "image/png": "[encoded data removed]",
      "text/plain": [
       "<matplotlib.figure.Figure at 0x121a8a550>"
      ]
     },
     "metadata": {},
     "output_type": "display_data"
    }
   ],
   "source": [
    "pd.DataFrame([sum(train[\"Outcom\"] == 0),sum(train[\"Outcom\"] == 1)]).plot.bar()\n",
    "plt.title(\"len_Outcom\")"
   ]
  },
  {
   "cell_type": "markdown",
   "metadata": {},
   "source": [
    "SVMを使う際不均衡データの解決方法は以下があります。\n",
    "\n",
    "### パラメータC(コスト)を大きくする\n",
    "\n",
    "パラメータのところで紹介したパラメータCを大きくすることで，誤りに厳しくすることができます。  \n",
    "svmでは，全体のコストをオプションで設定できる他に，各クラスごとのパラメータを設定することができます。    \n",
    "上記の 0:約１５０件 と 1:約５０件 の場合，1のクラスのコストをより大きくしたいので，設定することで 1クラスに対して誤りを厳しくすることができます。\n",
    "\n",
    "### データ数をそろえる\n",
    "\n",
    "データ数が揃っていないなら揃えましょう．以下に3つの揃え方をあげます。  \n",
    "大きい方のクラスを小さい方のクラスにそろえる(アンダーサンプリング)  \n",
    "大きい方のクラスのデータ数を減らします．この際，ランダムにサンプリングしてしまうと，偏りなくデータを残すことができない可能性があります．なので，クラス内のデータをクラスタリングし，それぞれから一定数サンプリングする，といった方法がよくとられます。  \n",
    "小さい方のクラスを大きい方のクラスにそろえる(オーバーサンプリング)  \n",
    "上記とは逆で，小さい方のクラスのデータ数を増やします．単にデータを複製すると過学習をおこしやすいので，k-NNなどを用いて人工的に 捏造 する方法がよくとられます。  \n",
    "アンダーサンプリングとオーバーサンプリングを組み合わせる(ハイブリッド)\n",
    "これらの両方を用いて揃えます．SMOTEというアルゴリズムが有名なので，興味のある人は調べてみて下さい。  \n",
    "だたSMOTEは少し古く，最近はよりよい手法が提案されています。\n"
   ]
  },
  {
   "cell_type": "markdown",
   "metadata": {},
   "source": [
    "次に使うデータを作っていきましょう。\n",
    "## データを分ける\n",
    "ヒートマップを見て正の相関ではtime、負の相関はconcave points_std、concavity_worst、concave points_worstに多少の相関があることがわかりました。  \n",
    "まずはその4つの特徴を使い学習をして見ましょう。"
   ]
  },
  {
   "cell_type": "code",
   "execution_count": 28,
   "metadata": {
    "collapsed": false
   },
   "outputs": [],
   "source": [
    "x_trains = train[[\"time\",\"area_worst\",\"radius_worst\",\"perimeter_worst\",\"area_mean\"]]\n",
    "y_trains = train[\"Outcom\"]"
   ]
  },
  {
   "cell_type": "markdown",
   "metadata": {},
   "source": [
    "#### 補足\n",
    "timeは再発までの時間、もしくは前回のガン発生からの期間  \n",
    "concave pointsは凹点\n",
    "concavityは凹み"
   ]
  },
  {
   "cell_type": "markdown",
   "metadata": {},
   "source": [
    "今回使う特徴のプロットを見ましょう。"
   ]
  },
  {
   "cell_type": "code",
   "execution_count": 29,
   "metadata": {
    "collapsed": true
   },
   "outputs": [],
   "source": [
    "plt_train =  train[[\"time\",\"area_worst\",\"radius_worst\",\"perimeter_worst\",\"Outcom\"]]"
   ]
  },
  {
   "cell_type": "code",
   "execution_count": 30,
   "metadata": {
    "collapsed": false
   },
   "outputs": [
    {
     "data": {
      "text/plain": [
       "<seaborn.axisgrid.PairGrid at 0x1241e52b0>"
      ]
     },
     "execution_count": 30,
     "metadata": {},
     "output_type": "execute_result"
    },
    {
     "data": {
      "image/png": "[encoded data removed]",
      "text/plain": [
       "<matplotlib.figure.Figure at 0x1241db390>"
      ]
     },
     "metadata": {},
     "output_type": "display_data"
    }
   ],
   "source": [
    "sns.pairplot(plt_train, hue='Outcom',vars=[\"time\",\"area_worst\",\"radius_worst\",\"perimeter_worst\"])"
   ]
  },
  {
   "cell_type": "markdown",
   "metadata": {},
   "source": [
    "なかなか図で分けるのは難しそうですね。  \n",
    "試しにどのくらい線が引けるか見て見ましょう\n",
    "\n",
    "# 4.SVMを使い学習"
   ]
  },
  {
   "cell_type": "markdown",
   "metadata": {},
   "source": [
    "まず必要なライブラリをインポートし、試しに2つの特徴で学習してみます。"
   ]
  },
  {
   "cell_type": "code",
   "execution_count": 31,
   "metadata": {
    "collapsed": true
   },
   "outputs": [],
   "source": [
    "from sklearn.svm import SVC\n",
    "from sklearn.model_selection import train_test_split\n",
    "from sklearn.model_selection import cross_val_score"
   ]
  },
  {
   "cell_type": "code",
   "execution_count": 32,
   "metadata": {
    "collapsed": true
   },
   "outputs": [],
   "source": [
    "plt_test = train[[\"time\",\"area_worst\"]]"
   ]
  },
  {
   "cell_type": "code",
   "execution_count": 33,
   "metadata": {
    "collapsed": true
   },
   "outputs": [],
   "source": [
    "svm = SVC(C=1.0, cache_size=200, class_weight=None, coef0=0.0,\n",
    "  decision_function_shape=None, degree=3, gamma='auto', kernel='rbf',\n",
    "  max_iter=-1, probability=False, random_state=None, shrinking=True,\n",
    "  tol=0.001, verbose=False)"
   ]
  },
  {
   "cell_type": "code",
   "execution_count": 34,
   "metadata": {
    "collapsed": false
   },
   "outputs": [
    {
     "data": {
      "text/plain": [
       "SVC(C=1.0, cache_size=200, class_weight=None, coef0=0.0,\n",
       "  decision_function_shape=None, degree=3, gamma='auto', kernel='rbf',\n",
       "  max_iter=-1, probability=False, random_state=None, shrinking=True,\n",
       "  tol=0.001, verbose=False)"
      ]
     },
     "execution_count": 34,
     "metadata": {},
     "output_type": "execute_result"
    }
   ],
   "source": [
    "svm.fit(plt_test,y_trains)"
   ]
  },
  {
   "cell_type": "code",
   "execution_count": 35,
   "metadata": {
    "collapsed": false
   },
   "outputs": [
    {
     "data": {
      "image/png": "[encoded data removed]",
      "text/plain": [
       "<matplotlib.figure.Figure at 0x124bb8748>"
      ]
     },
     "metadata": {},
     "output_type": "display_data"
    }
   ],
   "source": [
    "def plot_regions(X, y, classifier, resolution=0.01):\n",
    "    import matplotlib.pyplot as plt\n",
    "    from matplotlib.colors import ListedColormap\n",
    "    markers = ('s', 'x')\n",
    "    colors = ('blue', 'red')\n",
    "    cmap = ListedColormap(colors[:len(np.unique(y))])\n",
    "\n",
    "    x1_min, x1_max = X[:, 0].min() - 1, X[:, 0].max() + 1\n",
    "    x2_min, x2_max = X[:, 1].min() - 1, X[:, 1].max() + 1\n",
    "    xx1, xx2 = np.meshgrid(np.arange(x1_min, x1_max, resolution),\n",
    "                           np.arange(x2_min, x2_max, resolution))\n",
    "    Z = classifier.predict(np.array([xx1.ravel(), xx2.ravel()]).T)\n",
    "    Z = Z.reshape(xx1.shape)\n",
    "    plt.contourf(xx1, xx2, Z, alpha=0.4, cmap=cmap)\n",
    "    plt.xlim(xx1.min(), xx1.max())\n",
    "    plt.ylim(xx2.min(), xx2.max())\n",
    "\n",
    "    for idx, cl in enumerate(np.unique(y)):\n",
    "        plt.scatter(x=X[y == cl, 0], y=X[y == cl, 1],\n",
    "                    alpha=0.8, c=cmap(idx),\n",
    "                    marker=markers[idx], label=cl)\n",
    "\n",
    "\n",
    "plot_regions(np.array(plt_test), np.array(y_trains), classifier=svm)\n",
    "plt.show()"
   ]
  },
  {
   "cell_type": "markdown",
   "metadata": {},
   "source": [
    "やはり2つの特徴では説明が難しくうまくプロットできませんでした。  \n",
    "それでは4つの特徴を使い学習していきます。  \n",
    "まずは適切なパラメーターを見つけるためにクロスバリデーションをしていきましょう。"
   ]
  },
  {
   "cell_type": "markdown",
   "metadata": {},
   "source": [
    "## 4.1 クロスバリデーション・グリッドサーチ"
   ]
  },
  {
   "cell_type": "markdown",
   "metadata": {},
   "source": [
    "モデルに学習させる際、ハイパーパラメータを設定する必要があります。  \n",
    "それは重みやバイアス（発火しやすさ）などの数値で、そのパラメータが変わることで学習結果が大きく変わってきます。  \n",
    "SVMで重要なパラメーターとして、コストパラメータ（C）やカーネルのバンド幅 （gamma）があります。  \n",
    "コストパラメーターは, 誤分類をどの程度許容するかを決めるパラメータです。  \n",
    "またCはSVMが解く2次計画問題の式に現れます。  \n",
    "Cが小さいほど誤分類を許容するように, 大きいほど誤分類を許容しないように超平面を決定します。  \n",
    "ですので、不均衡データの場合などは誤分類を許容しないようにCの値を大きくすることで対応します。  \n",
    "そのパラメーターを探し出し検証する方法としてクロスバリデーションとグリッドサーチと言う方法が使われます。\n"
   ]
  },
  {
   "cell_type": "code",
   "execution_count": 36,
   "metadata": {
    "collapsed": true
   },
   "outputs": [],
   "source": [
    "x_train, x_test, y_train, y_test = train_test_split(x_trains, y_trains, random_state=0,test_size=0.2)"
   ]
  },
  {
   "cell_type": "code",
   "execution_count": 37,
   "metadata": {
    "collapsed": false
   },
   "outputs": [
    {
     "name": "stdout",
     "output_type": "stream",
     "text": [
      "Cross-Validation scores: [0.75471698 0.81132075 0.76923077]\n",
      "Average score: 0.7784228350266087\n"
     ]
    }
   ],
   "source": [
    "# 交差検証\n",
    "scores = cross_val_score(svm, x_train, y_train)\n",
    "# 各分割におけるスコア\n",
    "print('Cross-Validation scores: {}'.format(scores))\n",
    "import numpy as np\n",
    "print('Average score: {}'.format(np.mean(scores)))"
   ]
  },
  {
   "cell_type": "code",
   "execution_count": 38,
   "metadata": {
    "collapsed": false
   },
   "outputs": [],
   "source": [
    "# param_list = [0.001, 0.01, 0.1, 1, 10, 100]\n",
    "\n",
    "# best_score = 0\n",
    "# best_parameters = {}\n",
    "\n",
    "# for gamma in param_list:\n",
    "#     for C in param_list:\n",
    "#         svm = SVC(gamma=gamma, C=C)\n",
    "#         svm.fit(x_train, y_train)\n",
    "#         score = svm.score(x_test, y_test)\n",
    "#         # 最も良いスコアのパラメータとスコアを更新\n",
    "#         if score > best_score:\n",
    "#             best_score = score\n",
    "#             best_parameters = {'gamma' : gamma, 'C' : C}\n",
    "\n",
    "# print('Best score: {}'.format(best_score))\n",
    "# print('Best parameters: {}'.format(best_parameters))"
   ]
  },
  {
   "cell_type": "code",
   "execution_count": 39,
   "metadata": {
    "collapsed": true
   },
   "outputs": [],
   "source": [
    "svm = SVC(C=1.0, cache_size=200, class_weight=None, coef0=0.0,\n",
    "  decision_function_shape=None, degree=3, gamma=\"auto\", kernel='rbf',\n",
    "  max_iter=-1, probability=False, random_state=None, shrinking=True,\n",
    "  tol=0.001, verbose=False)"
   ]
  },
  {
   "cell_type": "code",
   "execution_count": 40,
   "metadata": {
    "collapsed": false
   },
   "outputs": [
    {
     "name": "stdout",
     "output_type": "stream",
     "text": [
      "Cross-Validation scores: [0.75471698 0.81132075 0.76923077]\n",
      "Average score: 0.7784228350266087\n"
     ]
    }
   ],
   "source": [
    "# 交差検証\n",
    "scores = cross_val_score(svm, x_train, y_train)\n",
    "# 各分割におけるスコア\n",
    "print('Cross-Validation scores: {}'.format(scores))\n",
    "import numpy as np\n",
    "print('Average score: {}'.format(np.mean(scores)))"
   ]
  },
  {
   "cell_type": "code",
   "execution_count": 41,
   "metadata": {
    "collapsed": false
   },
   "outputs": [
    {
     "name": "stderr",
     "output_type": "stream",
     "text": [
      "/Users/ishikawaryuuichi/.pyenv/versions/anaconda3-4.3.0/lib/python3.6/site-packages/sklearn/cross_validation.py:41: DeprecationWarning: This module was deprecated in version 0.18 in favor of the model_selection module into which all the refactored classes and functions are moved. Also note that the interface of the new CV iterators are different from that of this module. This module will be removed in 0.20.\n",
      "  \"This module will be removed in 0.20.\", DeprecationWarning)\n",
      "/Users/ishikawaryuuichi/.pyenv/versions/anaconda3-4.3.0/lib/python3.6/site-packages/sklearn/grid_search.py:42: DeprecationWarning: This module was deprecated in version 0.18 in favor of the model_selection module into which all the refactored classes and functions are moved. This module will be removed in 0.20.\n",
      "  DeprecationWarning)\n"
     ]
    }
   ],
   "source": [
    "from sklearn.grid_search import GridSearchCV"
   ]
  },
  {
   "cell_type": "code",
   "execution_count": 42,
   "metadata": {
    "collapsed": true
   },
   "outputs": [],
   "source": [
    "tuned_parameters = [\n",
    "    {'C': [1, 10, 100, 1000], 'kernel': ['linear']},\n",
    "    {'C': [1, 10, 100, 1000], 'kernel': ['rbf'], 'gamma': [0.001, 0.0001]},\n",
    "    {'C': [1, 10, 100, 1000], 'kernel': ['poly'], 'degree': [2, 3, 4], 'gamma': [0.001, 0.0001]},\n",
    "    {'C': [1, 10, 100, 1000], 'kernel': ['sigmoid'], 'gamma': [0.001, 0.0001]}\n",
    "    ]"
   ]
  },
  {
   "cell_type": "code",
   "execution_count": 43,
   "metadata": {
    "collapsed": true
   },
   "outputs": [],
   "source": [
    "score = 'f1'\n",
    "clf = GridSearchCV(\n",
    "    SVC(), # 識別器\n",
    "    tuned_parameters, # 最適化したいパラメータセット \n",
    "    cv=10, # 交差検定の回数\n",
    "    scoring='%s_weighted' % score ) # モデルの評価関数の指定"
   ]
  },
  {
   "cell_type": "code",
   "execution_count": 44,
   "metadata": {
    "collapsed": false
   },
   "outputs": [
    {
     "data": {
      "text/plain": [
       "GridSearchCV(cv=10, error_score='raise',\n",
       "       estimator=SVC(C=1.0, cache_size=200, class_weight=None, coef0=0.0,\n",
       "  decision_function_shape='ovr', degree=3, gamma='auto', kernel='rbf',\n",
       "  max_iter=-1, probability=False, random_state=None, shrinking=True,\n",
       "  tol=0.001, verbose=False),\n",
       "       fit_params={}, iid=True, n_jobs=1,\n",
       "       param_grid=[{'C': [1, 10, 100, 1000], 'kernel': ['linear']}, {'C': [1, 10, 100, 1000], 'kernel': ['rbf'], 'gamma': [0.001, 0.0001]}, {'C': [1, 10, 100, 1000], 'kernel': ['poly'], 'degree': [2, 3, 4], 'gamma': [0.001, 0.0001]}, {'C': [1, 10, 100, 1000], 'kernel': ['sigmoid'], 'gamma': [0.001, 0.0001]}],\n",
       "       pre_dispatch='2*n_jobs', refit=True, scoring='f1_weighted',\n",
       "       verbose=0)"
      ]
     },
     "execution_count": 44,
     "metadata": {},
     "output_type": "execute_result"
    }
   ],
   "source": [
    "clf.fit(x_train, y_train)"
   ]
  },
  {
   "cell_type": "code",
   "execution_count": 45,
   "metadata": {
    "collapsed": false
   },
   "outputs": [
    {
     "data": {
      "text/plain": [
       "[mean: 0.71792, std: 0.06166, params: {'C': 1, 'kernel': 'linear'},\n",
       " mean: 0.71270, std: 0.04977, params: {'C': 10, 'kernel': 'linear'},\n",
       " mean: 0.71270, std: 0.04977, params: {'C': 100, 'kernel': 'linear'},\n",
       " mean: 0.71270, std: 0.04977, params: {'C': 1000, 'kernel': 'linear'},\n",
       " mean: 0.67306, std: 0.03105, params: {'C': 1, 'gamma': 0.001, 'kernel': 'rbf'},\n",
       " mean: 0.67306, std: 0.03105, params: {'C': 1, 'gamma': 0.0001, 'kernel': 'rbf'},\n",
       " mean: 0.67306, std: 0.03105, params: {'C': 10, 'gamma': 0.001, 'kernel': 'rbf'},\n",
       " mean: 0.67306, std: 0.03105, params: {'C': 10, 'gamma': 0.0001, 'kernel': 'rbf'},\n",
       " mean: 0.67306, std: 0.03105, params: {'C': 100, 'gamma': 0.001, 'kernel': 'rbf'},\n",
       " mean: 0.67306, std: 0.03105, params: {'C': 100, 'gamma': 0.0001, 'kernel': 'rbf'},\n",
       " mean: 0.75957, std: 0.07012, params: {'C': 1000, 'gamma': 0.001, 'kernel': 'rbf'},\n",
       " mean: 0.67306, std: 0.03105, params: {'C': 1000, 'gamma': 0.0001, 'kernel': 'rbf'},\n",
       " mean: 0.67306, std: 0.03105, params: {'C': 1, 'degree': 2, 'gamma': 0.001, 'kernel': 'poly'},\n",
       " mean: 0.67306, std: 0.03105, params: {'C': 1, 'degree': 2, 'gamma': 0.0001, 'kernel': 'poly'},\n",
       " mean: 0.67306, std: 0.03105, params: {'C': 1, 'degree': 3, 'gamma': 0.001, 'kernel': 'poly'},\n",
       " mean: 0.67306, std: 0.03105, params: {'C': 1, 'degree': 3, 'gamma': 0.0001, 'kernel': 'poly'},\n",
       " mean: 0.67306, std: 0.03105, params: {'C': 1, 'degree': 4, 'gamma': 0.001, 'kernel': 'poly'},\n",
       " mean: 0.67306, std: 0.03105, params: {'C': 1, 'degree': 4, 'gamma': 0.0001, 'kernel': 'poly'},\n",
       " mean: 0.67306, std: 0.03105, params: {'C': 10, 'degree': 2, 'gamma': 0.001, 'kernel': 'poly'},\n",
       " mean: 0.67306, std: 0.03105, params: {'C': 10, 'degree': 2, 'gamma': 0.0001, 'kernel': 'poly'},\n",
       " mean: 0.67306, std: 0.03105, params: {'C': 10, 'degree': 3, 'gamma': 0.001, 'kernel': 'poly'},\n",
       " mean: 0.67306, std: 0.03105, params: {'C': 10, 'degree': 3, 'gamma': 0.0001, 'kernel': 'poly'},\n",
       " mean: 0.67306, std: 0.03105, params: {'C': 10, 'degree': 4, 'gamma': 0.001, 'kernel': 'poly'},\n",
       " mean: 0.67306, std: 0.03105, params: {'C': 10, 'degree': 4, 'gamma': 0.0001, 'kernel': 'poly'},\n",
       " mean: 0.67306, std: 0.03105, params: {'C': 100, 'degree': 2, 'gamma': 0.001, 'kernel': 'poly'},\n",
       " mean: 0.67306, std: 0.03105, params: {'C': 100, 'degree': 2, 'gamma': 0.0001, 'kernel': 'poly'},\n",
       " mean: 0.67306, std: 0.03105, params: {'C': 100, 'degree': 3, 'gamma': 0.001, 'kernel': 'poly'},\n",
       " mean: 0.67306, std: 0.03105, params: {'C': 100, 'degree': 3, 'gamma': 0.0001, 'kernel': 'poly'},\n",
       " mean: 0.67306, std: 0.03105, params: {'C': 100, 'degree': 4, 'gamma': 0.001, 'kernel': 'poly'},\n",
       " mean: 0.67306, std: 0.03105, params: {'C': 100, 'degree': 4, 'gamma': 0.0001, 'kernel': 'poly'},\n",
       " mean: 0.67306, std: 0.03105, params: {'C': 1000, 'degree': 2, 'gamma': 0.001, 'kernel': 'poly'},\n",
       " mean: 0.67306, std: 0.03105, params: {'C': 1000, 'degree': 2, 'gamma': 0.0001, 'kernel': 'poly'},\n",
       " mean: 0.67306, std: 0.03105, params: {'C': 1000, 'degree': 3, 'gamma': 0.001, 'kernel': 'poly'},\n",
       " mean: 0.67306, std: 0.03105, params: {'C': 1000, 'degree': 3, 'gamma': 0.0001, 'kernel': 'poly'},\n",
       " mean: 0.67306, std: 0.03105, params: {'C': 1000, 'degree': 4, 'gamma': 0.001, 'kernel': 'poly'},\n",
       " mean: 0.67306, std: 0.03105, params: {'C': 1000, 'degree': 4, 'gamma': 0.0001, 'kernel': 'poly'},\n",
       " mean: 0.67306, std: 0.03105, params: {'C': 1, 'gamma': 0.001, 'kernel': 'sigmoid'},\n",
       " mean: 0.67306, std: 0.03105, params: {'C': 1, 'gamma': 0.0001, 'kernel': 'sigmoid'},\n",
       " mean: 0.67306, std: 0.03105, params: {'C': 10, 'gamma': 0.001, 'kernel': 'sigmoid'},\n",
       " mean: 0.67306, std: 0.03105, params: {'C': 10, 'gamma': 0.0001, 'kernel': 'sigmoid'},\n",
       " mean: 0.67306, std: 0.03105, params: {'C': 100, 'gamma': 0.001, 'kernel': 'sigmoid'},\n",
       " mean: 0.67306, std: 0.03105, params: {'C': 100, 'gamma': 0.0001, 'kernel': 'sigmoid'},\n",
       " mean: 0.71792, std: 0.06166, params: {'C': 1000, 'gamma': 0.001, 'kernel': 'sigmoid'},\n",
       " mean: 0.67306, std: 0.03105, params: {'C': 1000, 'gamma': 0.0001, 'kernel': 'sigmoid'}]"
      ]
     },
     "execution_count": 45,
     "metadata": {},
     "output_type": "execute_result"
    }
   ],
   "source": [
    "clf.grid_scores_"
   ]
  },
  {
   "cell_type": "code",
   "execution_count": 46,
   "metadata": {
    "collapsed": true
   },
   "outputs": [],
   "source": [
    "svm = SVC(C=1000, cache_size=200, class_weight=None, coef0=0.0,\n",
    "  decision_function_shape=None, degree=3, gamma=0.001, kernel='rbf',\n",
    "  max_iter=-1, probability=False, random_state=None, shrinking=True,\n",
    "  tol=0.001, verbose=False)"
   ]
  },
  {
   "cell_type": "code",
   "execution_count": 47,
   "metadata": {
    "collapsed": false
   },
   "outputs": [
    {
     "name": "stdout",
     "output_type": "stream",
     "text": [
      "Cross-Validation scores: [0.83018868 0.81132075 0.78846154]\n",
      "Average score: 0.8099903241412676\n"
     ]
    }
   ],
   "source": [
    "# 交差検証\n",
    "scores = cross_val_score(svm, x_train, y_train)\n",
    "# 各分割におけるスコア\n",
    "print('Cross-Validation scores: {}'.format(scores))\n",
    "import numpy as np\n",
    "print('Average score: {}'.format(np.mean(scores)))"
   ]
  },
  {
   "cell_type": "code",
   "execution_count": 48,
   "metadata": {
    "collapsed": false
   },
   "outputs": [
    {
     "data": {
      "text/plain": [
       "SVC(C=1000, cache_size=200, class_weight=None, coef0=0.0,\n",
       "  decision_function_shape=None, degree=3, gamma=0.001, kernel='rbf',\n",
       "  max_iter=-1, probability=False, random_state=None, shrinking=True,\n",
       "  tol=0.001, verbose=False)"
      ]
     },
     "execution_count": 48,
     "metadata": {},
     "output_type": "execute_result"
    }
   ],
   "source": [
    "svm.fit(x_train,y_train)"
   ]
  },
  {
   "cell_type": "code",
   "execution_count": 49,
   "metadata": {
    "collapsed": false
   },
   "outputs": [],
   "source": [
    "pred = svm.predict(x_test)"
   ]
  },
  {
   "cell_type": "code",
   "execution_count": 50,
   "metadata": {
    "collapsed": true
   },
   "outputs": [],
   "source": [
    "from sklearn.metrics import f1_score"
   ]
  },
  {
   "cell_type": "code",
   "execution_count": 51,
   "metadata": {
    "collapsed": false
   },
   "outputs": [
    {
     "data": {
      "text/plain": [
       "0.15384615384615385"
      ]
     },
     "execution_count": 51,
     "metadata": {},
     "output_type": "execute_result"
    }
   ],
   "source": [
    "f1_score(y_test,pred)"
   ]
  },
  {
   "cell_type": "markdown",
   "metadata": {},
   "source": [
    "やはりこのデータをSVMで学習しても汎用性が保てないことがわかりました。　　  \n",
    "評価関数もスクラッチしていきます。"
   ]
  },
  {
   "cell_type": "code",
   "execution_count": 52,
   "metadata": {
    "collapsed": true
   },
   "outputs": [],
   "source": [
    "def accuracy(pred, y):\n",
    "        accuracy = np.sum(pred == y) / len(y)\n",
    "        return accuracy"
   ]
  },
  {
   "cell_type": "code",
   "execution_count": 53,
   "metadata": {
    "collapsed": true
   },
   "outputs": [],
   "source": [
    "def recall(pred,y):\n",
    "    tn, fp, fn, tp = confusion_matrix(y, pred).ravel()\n",
    "    return tp / (tp + fn)"
   ]
  },
  {
   "cell_type": "code",
   "execution_count": 54,
   "metadata": {
    "collapsed": true
   },
   "outputs": [],
   "source": [
    "def precision(pred,y):\n",
    "    tn, fp, fn, tp = metrics.confusion_matrix(y, pred).ravel()\n",
    "    return tp / (tp + fn)"
   ]
  },
  {
   "cell_type": "code",
   "execution_count": 55,
   "metadata": {
    "collapsed": true
   },
   "outputs": [],
   "source": [
    "def f1(pred,y):\n",
    "    tn, fp, fn, tp = metrics.confusion_matrix(y, pred).ravel()\n",
    "    measure = (2*(tp / (tp + fn))*(tp / (tp + fn)))/ (tp / ((tp + fn))+(tp / (tp + fn)))\n",
    "    return measure"
   ]
  },
  {
   "cell_type": "code",
   "execution_count": 56,
   "metadata": {
    "collapsed": false
   },
   "outputs": [],
   "source": [
    "from sklearn.metrics import roc_curve\n",
    "import sklearn.metrics as metrics\n",
    "fpr, tpr, thresholds = roc_curve(np.array(y_test), pred)"
   ]
  },
  {
   "cell_type": "code",
   "execution_count": 57,
   "metadata": {
    "collapsed": false
   },
   "outputs": [],
   "source": [
    "auc = metrics.auc(fpr, tpr)"
   ]
  },
  {
   "cell_type": "code",
   "execution_count": 58,
   "metadata": {
    "collapsed": false
   },
   "outputs": [
    {
     "data": {
      "image/png": "[encoded data removed]",
      "text/plain": [
       "<matplotlib.figure.Figure at 0x12766dba8>"
      ]
     },
     "metadata": {},
     "output_type": "display_data"
    }
   ],
   "source": [
    "# ROC曲線をプロット\n",
    "plt.plot(fpr, tpr, label='ROC curve (area = %.2f)'%auc)\n",
    "plt.legend()\n",
    "plt.title('ROC curve')\n",
    "plt.xlabel('False Positive Rate')\n",
    "plt.ylabel('True Positive Rate')\n",
    "plt.grid(True)"
   ]
  },
  {
   "cell_type": "markdown",
   "metadata": {
    "collapsed": true
   },
   "source": [
    "このデータをSVMで汎用性のあるモデルを作ることは難しいことがわかりました。\n",
    "最後にスクラッチをして終わりたいと思います。"
   ]
  },
  {
   "cell_type": "markdown",
   "metadata": {},
   "source": [
    "SVMのロス関数\n",
    "$$\\begin{equation}\n",
    "L_i = \\sum_{j\\neq y_i} \\left[ \\max(0, x_iw_j - x_iw_{y_i} + \\Delta) \\right] \\tag{1}\n",
    "\\end{equation}$$"
   ]
  },
  {
   "cell_type": "code",
   "execution_count": 59,
   "metadata": {
    "collapsed": true
   },
   "outputs": [],
   "source": [
    "def score(x,w):\n",
    "    return np.dot(x,w.T)\n",
    "def loss(x,y,w):\n",
    "    loss = 0\n",
    "    s = score(x,w)\n",
    "    for i in range(x.shape[0]):\n",
    "        correct_class_score = y[i]\n",
    "        for j in range(w.shape[0]):\n",
    "            if j == y[i]:\n",
    "                continue  \n",
    "            margen = max([0,s[j][1] - s[j][0] + delta])\n",
    "            loss += margen\n",
    "    return loss"
   ]
  },
  {
   "cell_type": "markdown",
   "metadata": {},
   "source": [
    "またSVMの目的関数を以下になります\n",
    "$${sign(\\boldsymbol{x})=\n",
    "  \\begin{cases}\n",
    "    \\ \\ 1 \\ \\ \\ & \\ \\ f(\\boldsymbol{x}) \\geq 0 \\\\\n",
    "    -1 \\ \\ & \\ \\ f(\\boldsymbol{x}) < 0\n",
    "  \\end{cases}\n",
    "}$$\n",
    "$$f(x)=wTx+b\n",
    "f(x)=wTx+b$$"
   ]
  },
  {
   "cell_type": "code",
   "execution_count": 60,
   "metadata": {
    "collapsed": true
   },
   "outputs": [],
   "source": [
    "# w 重みベクトル　b　バイアス（傾き）\n",
    "def sign(x,w,b):\n",
    "    sig = np.dot(x,w.T) + b\n",
    "    return sig\n",
    "    \n",
    "def f(x,w,b):\n",
    "    sig = np.dot(x,w.T) + b\n",
    "    y = []\n",
    "    for i in sig:\n",
    "        if i.sum() >= 0:\n",
    "            y.append(1)\n",
    "        elif i.sum() <0:\n",
    "            y.append(-1)\n",
    "    \n",
    "    return np.array([y])"
   ]
  },
  {
   "cell_type": "markdown",
   "metadata": {},
   "source": [
    "最急降下法の式は以下になります\n",
    "$$% <![CDATA[\n",
    "\\begin{align*}\n",
    "\\frac{dL_i}{dw_{y_i}} &= - \\sum_{j\\neq y_i} \\mathbb{1}(x_iw_j - x_iw_{y_i} + \\Delta > 0)\n",
    "  \\begin{bmatrix}\n",
    "  x_{i1} \\\\\n",
    "  x_{i2} \\\\\n",
    "  \\vdots \\\\\n",
    "  x_{iD}\n",
    "  \\end{bmatrix}\n",
    "\\\\\n",
    "&= - \\sum_{j\\neq y_i} \\mathbb{1}(x_iw_j - x_iw_{y_i} + \\Delta > 0) x_i \\tag{3}\n",
    "\\end{align*} %]]>$$\n",
    "以上のことを含めloss関数と最急降下法のアルゴリズムは以下になります"
   ]
  },
  {
   "cell_type": "code",
   "execution_count": 61,
   "metadata": {
    "collapsed": true
   },
   "outputs": [],
   "source": [
    "def gradient_descent(W, X, y, reg):\n",
    "    #重みベクトルを０として初期化する\n",
    "    dW = np.zeros(W.shape) \n",
    "    \n",
    "    #クラス数と特徴数分回す\n",
    "    num_classes = W.shape[1]\n",
    "    num_train = X.shape[0]\n",
    "    loss = 0.0\n",
    "    #データ数分回す\n",
    "    #margin = loss(X,y,W)\n",
    "    \n",
    "    for i in range(num_train):\n",
    "        scores = X[i,:].dot(W)\n",
    "        correct_class_score = scores[y[i]]\n",
    "        #クラス分回す\n",
    "        for j in range(num_classes):\n",
    "            if j == y[i]:\n",
    "                continue\n",
    "            margin = scores[j] - correct_class_score + 1 \n",
    "            if margin > 0:\n",
    "                loss += margin\n",
    "                dW[:,y[i]] -= X[i,:] \n",
    "                dW[:,j] += X[i,:]\n",
    "\n",
    "    # すべての例を平均化する\n",
    "    loss /= num_train\n",
    "    dW /= num_train\n",
    "\n",
    "    # 正則化を加える\n",
    "    loss += 0.5 * reg * np.sum(W * W)\n",
    "    dW += reg*W\n",
    "    # 損失関数と最適化したベクトル\n",
    "    return loss, dW\n"
   ]
  },
  {
   "cell_type": "code",
   "execution_count": 62,
   "metadata": {
    "collapsed": false
   },
   "outputs": [
    {
     "data": {
      "text/plain": [
       "(158, 5)"
      ]
     },
     "execution_count": 62,
     "metadata": {},
     "output_type": "execute_result"
    }
   ],
   "source": [
    "x_train.shape"
   ]
  },
  {
   "cell_type": "code",
   "execution_count": 63,
   "metadata": {
    "collapsed": false
   },
   "outputs": [],
   "source": [
    "w = np.zeros([2,5])\n",
    "w += 1"
   ]
  },
  {
   "cell_type": "code",
   "execution_count": 64,
   "metadata": {
    "collapsed": false
   },
   "outputs": [],
   "source": [
    "loss,w = gradient_descent(w.T, np.array(x_train), np.array(y_train), 0.01)"
   ]
  },
  {
   "cell_type": "code",
   "execution_count": 65,
   "metadata": {
    "collapsed": false
   },
   "outputs": [
    {
     "data": {
      "text/plain": [
       "(1.05, array([[-0.30716765,  0.32716765],\n",
       "        [ 0.21657656, -0.19657656],\n",
       "        [ 0.20274701, -0.18274701],\n",
       "        [ 0.20729306, -0.18729306],\n",
       "        [ 0.16635846, -0.14635846]]))"
      ]
     },
     "execution_count": 65,
     "metadata": {},
     "output_type": "execute_result"
    }
   ],
   "source": [
    "loss,w"
   ]
  },
  {
   "cell_type": "markdown",
   "metadata": {
    "collapsed": true
   },
   "source": [
    "しっかりスクラッチしたアルゴリズムでも学習はできていることが確認できました。"
   ]
  },
  {
   "cell_type": "markdown",
   "metadata": {},
   "source": [
    "SVMのスクラッチはめちゃくちゃ大変でしたが、ソフトマージンとハードマージンの考え方が全然違うことをしれてとても良かったです。"
   ]
  },
  {
   "cell_type": "code",
   "execution_count": null,
   "metadata": {
    "collapsed": true
   },
   "outputs": [],
   "source": []
  }
 ],
 "metadata": {
  "kernelspec": {
   "display_name": "Python 3",
   "language": "python",
   "name": "python3"
  },
  "language_info": {
   "codemirror_mode": {
    "name": "ipython",
    "version": 3
   },
   "file_extension": ".py",
   "mimetype": "text/x-python",
   "name": "python",
   "nbconvert_exporter": "python",
   "pygments_lexer": "ipython3",
   "version": "3.6.0"
  }
 },
 "nbformat": 4,
 "nbformat_minor": 2
}
