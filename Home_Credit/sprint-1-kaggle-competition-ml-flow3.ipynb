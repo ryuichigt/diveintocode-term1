{
 "cells": [
  {
   "cell_type": "markdown",
   "metadata": {},
   "source": [
    "# 増やした特徴の学習"
   ]
  },
  {
   "cell_type": "code",
   "execution_count": 1,
   "metadata": {
    "collapsed": true
   },
   "outputs": [],
   "source": [
    "import numpy as np\n",
    "import pandas as pd\n",
    "import matplotlib.pyplot as plt\n",
    "%matplotlib inline\n",
    "import os\n",
    "from sklearn.preprocessing import LabelEncoder\n",
    "# Suppress warnings \n",
    "import warnings\n",
    "warnings.filterwarnings('ignore')\n",
    "import seaborn as sns\n",
    "from sklearn.preprocessing import OneHotEncoder\n",
    "from sklearn import preprocessing\n",
    "from sklearn.linear_model import LinearRegression\n",
    "from sklearn.model_selection import train_test_split\n",
    "from sklearn.linear_model import LogisticRegression\n",
    "from sklearn.metrics import roc_curve\n",
    "from sklearn.metrics import auc\n",
    "import lightgbm as lgb"
   ]
  },
  {
   "cell_type": "code",
   "execution_count": 2,
   "metadata": {
    "collapsed": true
   },
   "outputs": [],
   "source": [
    "train_test = pd.read_csv(\"new_data/train_test.csv\")"
   ]
  },
  {
   "cell_type": "code",
   "execution_count": 4,
   "metadata": {
    "collapsed": false
   },
   "outputs": [],
   "source": [
    "train = pd.read_csv(\"input/application_train.csv\")\n",
    "test = pd.read_csv(\"input/application_test.csv\")\n"
   ]
  },
  {
   "cell_type": "code",
   "execution_count": 12,
   "metadata": {
    "collapsed": false
   },
   "outputs": [
    {
     "data": {
      "text/plain": [
       "(307511, 2537)"
      ]
     },
     "execution_count": 12,
     "metadata": {},
     "output_type": "execute_result"
    }
   ],
   "source": []
  },
  {
   "cell_type": "code",
   "execution_count": 6,
   "metadata": {
    "collapsed": true
   },
   "outputs": [],
   "source": [
    "train2 = train[\"SK_ID_CURR\"]\n",
    "test2 = test[\"SK_ID_CURR\"]"
   ]
  },
  {
   "cell_type": "code",
   "execution_count": 8,
   "metadata": {
    "collapsed": false
   },
   "outputs": [],
   "source": [
    "train2 = pd.merge(pd.DataFrame(train2),train_test,on = \"SK_ID_CURR\", how = \"left\")"
   ]
  },
  {
   "cell_type": "code",
   "execution_count": 9,
   "metadata": {
    "collapsed": true
   },
   "outputs": [],
   "source": [
    "test2 = pd.merge(pd.DataFrame(test2),train_test,on = \"SK_ID_CURR\", how = \"left\")"
   ]
  },
  {
   "cell_type": "code",
   "execution_count": null,
   "metadata": {
    "collapsed": true
   },
   "outputs": [],
   "source": [
    "train"
   ]
  },
  {
   "cell_type": "markdown",
   "metadata": {},
   "source": [
    "# まずは、何も特徴を増やして無いデータの学習"
   ]
  },
  {
   "cell_type": "code",
   "execution_count": 14,
   "metadata": {
    "collapsed": false
   },
   "outputs": [
    {
     "name": "stdout",
     "output_type": "stream",
     "text": [
      "Training Data Shape:  (307511, 241)\n",
      "Testing Data Shape:  (48744, 241)\n",
      "Training until validation scores don't improve for 100 rounds.\n",
      "[200]\tvalid's auc: 0.755525\ttrain's auc: 0.798882\n",
      "Early stopping, best iteration is:\n",
      "[234]\tvalid's auc: 0.755743\ttrain's auc: 0.804502\n",
      "Training until validation scores don't improve for 100 rounds.\n",
      "[200]\tvalid's auc: 0.758478\ttrain's auc: 0.798461\n",
      "Early stopping, best iteration is:\n",
      "[276]\tvalid's auc: 0.7587\ttrain's auc: 0.810258\n",
      "Training until validation scores don't improve for 100 rounds.\n",
      "[200]\tvalid's auc: 0.762759\ttrain's auc: 0.797491\n",
      "Early stopping, best iteration is:\n",
      "[268]\tvalid's auc: 0.763116\ttrain's auc: 0.808601\n",
      "Training until validation scores don't improve for 100 rounds.\n",
      "[200]\tvalid's auc: 0.758091\ttrain's auc: 0.798997\n",
      "Early stopping, best iteration is:\n",
      "[220]\tvalid's auc: 0.758302\ttrain's auc: 0.802598\n",
      "Training until validation scores don't improve for 100 rounds.\n",
      "[200]\tvalid's auc: 0.758041\ttrain's auc: 0.798393\n",
      "Early stopping, best iteration is:\n",
      "[217]\tvalid's auc: 0.75844\ttrain's auc: 0.801185\n",
      "Baseline metrics\n",
      "      fold     train     valid\n",
      "0        0  0.804502  0.755743\n",
      "1        1  0.810258  0.758700\n",
      "2        2  0.808601  0.763116\n",
      "3        3  0.802598  0.758302\n",
      "4        4  0.801185  0.758440\n",
      "5  overall  0.805429  0.758870\n",
      "       SK_ID_CURR    TARGET\n",
      "0          100001  0.286786\n",
      "1          100005  0.552601\n",
      "2          100013  0.171556\n",
      "3          100028  0.323043\n",
      "4          100038  0.676072\n",
      "5          100042  0.279791\n",
      "6          100057  0.103111\n",
      "7          100065  0.304742\n",
      "8          100066  0.121606\n",
      "9          100067  0.441419\n",
      "10         100074  0.483616\n",
      "11         100090  0.357014\n",
      "12         100091  0.699357\n",
      "13         100092  0.519679\n",
      "14         100106  0.497381\n",
      "15         100107  0.601088\n",
      "16         100109  0.443355\n",
      "17         100117  0.238012\n",
      "18         100128  0.453783\n",
      "19         100141  0.215547\n",
      "20         100150  0.153153\n",
      "21         100168  0.101544\n",
      "22         100169  0.276003\n",
      "23         100170  0.449639\n",
      "24         100171  0.347422\n",
      "25         100172  0.507014\n",
      "26         100184  0.406121\n",
      "27         100187  0.469331\n",
      "28         100212  0.464792\n",
      "29         100222  0.441607\n",
      "...           ...       ...\n",
      "48714      455963  0.283332\n",
      "48715      455965  0.200758\n",
      "48716      456007  0.855714\n",
      "48717      456008  0.208460\n",
      "48718      456009  0.429896\n",
      "48719      456010  0.417873\n",
      "48720      456011  0.317043\n",
      "48721      456013  0.624759\n",
      "48722      456028  0.664613\n",
      "48723      456058  0.620955\n",
      "48724      456111  0.659660\n",
      "48725      456114  0.439409\n",
      "48726      456115  0.401841\n",
      "48727      456116  0.180856\n",
      "48728      456119  0.224424\n",
      "48729      456120  0.443961\n",
      "48730      456122  0.540700\n",
      "48731      456123  0.235864\n",
      "48732      456166  0.589941\n",
      "48733      456167  0.285353\n",
      "48734      456168  0.505811\n",
      "48735      456169  0.287960\n",
      "48736      456170  0.177839\n",
      "48737      456189  0.597247\n",
      "48738      456202  0.685394\n",
      "48739      456221  0.239635\n",
      "48740      456222  0.494589\n",
      "48741      456223  0.253220\n",
      "48742      456224  0.425523\n",
      "48743      456250  0.713838\n",
      "\n",
      "[48744 rows x 2 columns]\n"
     ]
    }
   ],
   "source": [
    "submission, fi, metrics = model(train, test)\n",
    "print('Baseline metrics')\n",
    "print(metrics)\n",
    "print(submission)"
   ]
  },
  {
   "cell_type": "markdown",
   "metadata": {},
   "source": [
    "auc: 0.75844でした。  \n",
    "次は特徴を増やしたデータの学習"
   ]
  },
  {
   "cell_type": "code",
   "execution_count": 15,
   "metadata": {
    "collapsed": false
   },
   "outputs": [
    {
     "name": "stdout",
     "output_type": "stream",
     "text": [
      "Training Data Shape:  (307511, 2594)\n",
      "Testing Data Shape:  (48744, 2594)\n",
      "Training until validation scores don't improve for 100 rounds.\n",
      "[200]\tvalid's auc: 0.782176\ttrain's auc: 0.832772\n",
      "Early stopping, best iteration is:\n",
      "[235]\tvalid's auc: 0.78298\ttrain's auc: 0.840704\n",
      "Training until validation scores don't improve for 100 rounds.\n",
      "[200]\tvalid's auc: 0.779589\ttrain's auc: 0.833574\n",
      "Early stopping, best iteration is:\n",
      "[233]\tvalid's auc: 0.779919\ttrain's auc: 0.841137\n",
      "Training until validation scores don't improve for 100 rounds.\n",
      "[200]\tvalid's auc: 0.784807\ttrain's auc: 0.832701\n",
      "[400]\tvalid's auc: 0.786063\ttrain's auc: 0.871719\n",
      "Early stopping, best iteration is:\n",
      "[400]\tvalid's auc: 0.786063\ttrain's auc: 0.871719\n",
      "Training until validation scores don't improve for 100 rounds.\n",
      "[200]\tvalid's auc: 0.783561\ttrain's auc: 0.832793\n",
      "[400]\tvalid's auc: 0.785094\ttrain's auc: 0.871257\n",
      "Early stopping, best iteration is:\n",
      "[367]\tvalid's auc: 0.785159\ttrain's auc: 0.865923\n",
      "Training until validation scores don't improve for 100 rounds.\n",
      "[200]\tvalid's auc: 0.781598\ttrain's auc: 0.833882\n",
      "[400]\tvalid's auc: 0.782279\ttrain's auc: 0.872137\n",
      "Early stopping, best iteration is:\n",
      "[373]\tvalid's auc: 0.782503\ttrain's auc: 0.867895\n",
      "Baseline metrics\n",
      "      fold     train     valid\n",
      "0        0  0.840704  0.782980\n",
      "1        1  0.841137  0.779919\n",
      "2        2  0.871719  0.786063\n",
      "3        3  0.865923  0.785159\n",
      "4        4  0.867895  0.782503\n",
      "5  overall  0.857476  0.783207\n",
      "       SK_ID_CURR    TARGET\n",
      "0          100001  0.278421\n",
      "1          100005  0.659839\n",
      "2          100013  0.244937\n",
      "3          100028  0.235450\n",
      "4          100038  0.715076\n",
      "5          100042  0.431198\n",
      "6          100057  0.089573\n",
      "7          100065  0.116705\n",
      "8          100066  0.122673\n",
      "9          100067  0.522573\n",
      "10         100074  0.292169\n",
      "11         100090  0.261808\n",
      "12         100091  0.701635\n",
      "13         100092  0.410748\n",
      "14         100106  0.275632\n",
      "15         100107  0.678667\n",
      "16         100109  0.316135\n",
      "17         100117  0.157861\n",
      "18         100128  0.579811\n",
      "19         100141  0.298960\n",
      "20         100150  0.241447\n",
      "21         100168  0.121044\n",
      "22         100169  0.371543\n",
      "23         100170  0.692946\n",
      "24         100171  0.406740\n",
      "25         100172  0.589152\n",
      "26         100184  0.552056\n",
      "27         100187  0.503811\n",
      "28         100212  0.227035\n",
      "29         100222  0.251510\n",
      "...           ...       ...\n",
      "48714      455963  0.212231\n",
      "48715      455965  0.111316\n",
      "48716      456007  0.762875\n",
      "48717      456008  0.106070\n",
      "48718      456009  0.319914\n",
      "48719      456010  0.550509\n",
      "48720      456011  0.162207\n",
      "48721      456013  0.771037\n",
      "48722      456028  0.547881\n",
      "48723      456058  0.556987\n",
      "48724      456111  0.485756\n",
      "48725      456114  0.404600\n",
      "48726      456115  0.212317\n",
      "48727      456116  0.072379\n",
      "48728      456119  0.129576\n",
      "48729      456120  0.627132\n",
      "48730      456122  0.437688\n",
      "48731      456123  0.123908\n",
      "48732      456166  0.479064\n",
      "48733      456167  0.383868\n",
      "48734      456168  0.252123\n",
      "48735      456169  0.556607\n",
      "48736      456170  0.100830\n",
      "48737      456189  0.605160\n",
      "48738      456202  0.434699\n",
      "48739      456221  0.428089\n",
      "48740      456222  0.341592\n",
      "48741      456223  0.089063\n",
      "48742      456224  0.248916\n",
      "48743      456250  0.727938\n",
      "\n",
      "[48744 rows x 2 columns]\n"
     ]
    }
   ],
   "source": [
    "submission, fi, metrics = model(train2, test2)\n",
    "print('Baseline metrics')\n",
    "print(metrics)\n",
    "print(submission)"
   ]
  },
  {
   "cell_type": "markdown",
   "metadata": {},
   "source": [
    "結果は0.782503でした。  \n",
    "少しだけ特徴量を増やした方が上がることが分かりました。  \n",
    "今回の学習でただ闇雲に特徴を増やせば良い訳では、無いということが勉強になりました。"
   ]
  },
  {
   "cell_type": "code",
   "execution_count": null,
   "metadata": {
    "collapsed": true
   },
   "outputs": [],
   "source": []
  }
 ],
 "metadata": {
  "kernelspec": {
   "display_name": "Python 3",
   "language": "python",
   "name": "python3"
  },
  "language_info": {
   "codemirror_mode": {
    "name": "ipython",
    "version": 3
   },
   "file_extension": ".py",
   "mimetype": "text/x-python",
   "name": "python",
   "nbconvert_exporter": "python",
   "pygments_lexer": "ipython3",
   "version": "3.6.0"
  }
 },
 "nbformat": 4,
 "nbformat_minor": 2
}
